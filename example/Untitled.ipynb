{
 "cells": [
  {
   "cell_type": "code",
   "execution_count": 1,
   "id": "82e060b3-9076-4320-93ba-b6c80b908401",
   "metadata": {},
   "outputs": [],
   "source": [
    "using Pkg\n",
    "Pkg.instantiate()"
   ]
  },
  {
   "cell_type": "code",
   "execution_count": 4,
   "id": "4888381f-c2ad-4644-bef4-ecaf4184f361",
   "metadata": {},
   "outputs": [],
   "source": [
    "using QARBoM"
   ]
  },
  {
   "cell_type": "code",
   "execution_count": 6,
   "id": "6a8ee3b1-3e7e-4094-8e0b-5dc58599563a",
   "metadata": {},
   "outputs": [
    {
     "data": {
      "text/plain": [
       "12-element Vector{Vector{Int64}}:\n",
       " [1, 1, 1, 1]\n",
       " [1, 1, 1, 0]\n",
       " [1, 1, 0, 1]\n",
       " [1, 0, 1, 1]\n",
       " [1, 1, 0, 0]\n",
       " [1, 0, 1, 0]\n",
       " [0, 1, 1, 1]\n",
       " [0, 0, 1, 1]\n",
       " [0, 1, 1, 0]\n",
       " [0, 1, 0, 1]\n",
       " [0, 0, 1, 0]\n",
       " [0, 1, 0, 0]"
      ]
     },
     "execution_count": 6,
     "metadata": {},
     "output_type": "execute_result"
    }
   ],
   "source": [
    "# Data example\n",
    "# fluminense won \n",
    "# fluminense played at home\n",
    "# fluminense had two defenders\n",
    "# fluminense scored in the first half\n",
    "\n",
    "scenarios = [\n",
    "    [1, 1, 1, 1, 0],  # Fluminense won, played at home, had two defenders, scored in the first half, no defender removal\n",
    "    [1, 1, 1, 0, 0],  # Fluminense won, played at home, had two defenders, didn't score in the first half, no defender removal\n",
    "    [1, 1, 0, 1, 0],  # Fluminense won, played at home, didn't have two defenders, scored in the first half, no defender removal\n",
    "    [1, 0, 1, 1, 0],  # Fluminense won, didn't play at home, had two defenders, scored in the first half, no defender removal\n",
    "    [1, 0, 0, 0, 1],  # Fluminense won, didn't play at home, no defender removal, didn't score in the first half, defender removed to add striker\n",
    "    [1, 0, 0, 1, 1],  # Fluminense won, didn't play at home, no defender removal, scored in the first half, defender removed to add striker\n",
    "    [1, 1, 0, 0, 0],  # Fluminense won, played at home, didn't have two defenders, didn't score in the first half, no defender removal\n",
    "    [1, 1, 1, 1, 1],  # Fluminense won, played at home, had two defenders, scored in the first half, defender removed to add striker\n",
    "    [0, 1, 1, 1, 0],  # Fluminense lost, played at home, had two defenders, scored in the first half, no defender removal\n",
    "    [0, 0, 1, 1, 0],  # Fluminense lost, didn't play at home, had two defenders, scored in the first half, no defender removal\n",
    "    [0, 1, 1, 0, 0],  # Fluminense lost, played at home, had two defenders, didn't score in the first half, no defender removal\n",
    "    [0, 1, 0, 1, 0],  # Fluminense lost, played at home, didn't have two defenders, scored in the first half, no defender removal\n",
    "    [0, 1, 0, 0, 0],  # Fluminense lost, played at home, didn't have two defenders, didn't score in the first half, no defender removal\n",
    "    [0, 0, 1, 0, 0],  # Fluminense lost, didn't play at home, had two defenders, didn't score in the first half, no defender removal\n",
    "    [0, 0, 0, 1, 1],  # Fluminense lost, didn't play at home, no defender removal, scored in the first half, defender removed to add striker\n",
    "    [0, 0, 0, 0, 1]   # Fluminense lost, didn't play at home, no defender removal, didn't score in the first half, defender removed to add striker\n",
    "]"
   ]
  },
  {
   "cell_type": "code",
   "execution_count": 7,
   "id": "59c0d3e6-ddf9-4e76-9f04-3cca8562eb25",
   "metadata": {
    "scrolled": true
   },
   "outputs": [
    {
     "data": {
      "text/plain": [
       "QARBoM.BernoulliRBM([0.011520034275666825 0.0050650141256063305 -0.02354686608953222; -0.005010168601207279 0.009980929993954172 -0.010280663970730753; … ; 0.014334520013561567 -0.011810556647538916 0.017415343905950804; 0.011208848973838456 0.018410245902297624 0.003606786581295276], [0.0, 0.0, 0.0, 0.0, 0.0], [0.0, 0.0, 0.0], 5, 3)"
      ]
     },
     "execution_count": 7,
     "metadata": {},
     "output_type": "execute_result"
    }
   ],
   "source": [
    "rbm = QARBoM.BernoulliRBM(5,3)"
   ]
  },
  {
   "cell_type": "code",
   "execution_count": 14,
   "id": "95f137e5-8439-4c2a-805b-46849d9efb46",
   "metadata": {},
   "outputs": [
    {
     "data": {
      "text/plain": [
       "energy (generic function with 1 method)"
      ]
     },
     "execution_count": 14,
     "metadata": {},
     "output_type": "execute_result"
    }
   ],
   "source": [
    "function energy(rbm::QARBoM.BernoulliRBM, v::Vector{Int}, h::Vector{Int})\n",
    "    return -v'rbm.a - h'rbm.b - v'rbm.W*h\n",
    "end"
   ]
  },
  {
   "cell_type": "code",
   "execution_count": 15,
   "id": "9921071c-bed5-4880-b9f4-2d06cc960158",
   "metadata": {},
   "outputs": [],
   "source": [
    "energies = []\n",
    "conf = []\n",
    "for v in QARBoM._get_permutations(5)\n",
    "    for h in QARBoM._get_permutations(3)\n",
    "        push!(energies, energy(rbm,v,h))\n",
    "        push!(conf, vcat(v,h))\n",
    "    end\n",
    "end"
   ]
  },
  {
   "cell_type": "code",
   "execution_count": 16,
   "id": "d4ab50d1-dd43-4d29-8e35-a0a69fb521c2",
   "metadata": {},
   "outputs": [
    {
     "data": {
      "text/plain": [
       "256-element Vector{Any}:\n",
       "  0.0\n",
       "  0.0\n",
       "  0.0\n",
       "  0.0\n",
       "  0.0\n",
       "  0.0\n",
       "  0.0\n",
       "  0.0\n",
       "  0.0\n",
       " -0.003606786581295276\n",
       " -0.018410245902297624\n",
       " -0.0220170324835929\n",
       " -0.011208848973838456\n",
       "  ⋮\n",
       " -0.02021566076313402\n",
       " -0.0032768934026520292\n",
       " -0.022656093581900467\n",
       " -0.005717326221418476\n",
       "  0.0\n",
       "  0.013331980779186715\n",
       " -0.02085067872106407\n",
       " -0.007518697941877355\n",
       " -0.03142450973697248\n",
       " -0.018092528957785764\n",
       " -0.05227518845803655\n",
       " -0.03894320767884984"
      ]
     },
     "execution_count": 16,
     "metadata": {},
     "output_type": "execute_result"
    }
   ],
   "source": [
    "energies"
   ]
  },
  {
   "cell_type": "code",
   "execution_count": null,
   "id": "c14cab2a-c61f-4dd2-9129-24cecf23f8da",
   "metadata": {},
   "outputs": [],
   "source": []
  }
 ],
 "metadata": {
  "kernelspec": {
   "display_name": "Julia 1.8.2",
   "language": "julia",
   "name": "julia-1.8"
  },
  "language_info": {
   "file_extension": ".jl",
   "mimetype": "application/julia",
   "name": "julia",
   "version": "1.8.2"
  }
 },
 "nbformat": 4,
 "nbformat_minor": 5
}
