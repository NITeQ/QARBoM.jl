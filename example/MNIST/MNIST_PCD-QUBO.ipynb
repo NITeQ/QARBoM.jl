{
 "cells": [
  {
   "cell_type": "code",
   "execution_count": 1,
   "id": "993c2747-17a5-477d-9383-8f409b3ff88f",
   "metadata": {},
   "outputs": [],
   "source": [
    "using Revise"
   ]
  },
  {
   "cell_type": "code",
   "execution_count": 2,
   "id": "739ffa3e-a0a1-4f24-8b2f-c7d273029f44",
   "metadata": {},
   "outputs": [],
   "source": [
    "using Profile, PProf"
   ]
  },
  {
   "cell_type": "code",
   "execution_count": 3,
   "id": "085e9fbe-aa96-45b3-850f-4e382c88d75a",
   "metadata": {},
   "outputs": [
    {
     "name": "stderr",
     "output_type": "stream",
     "text": [
      "\u001b[32m\u001b[1m    CondaPkg \u001b[22m\u001b[39m\u001b[0mFound dependencies: /Users/pripper/.julia/packages/DWave/i51VN/CondaPkg.toml\n",
      "\u001b[32m\u001b[1m    CondaPkg \u001b[22m\u001b[39m\u001b[0mFound dependencies: /Users/pripper/.julia/packages/PythonCall/S5MOg/CondaPkg.toml\n",
      "\u001b[32m\u001b[1m    CondaPkg \u001b[22m\u001b[39m\u001b[0mFound dependencies: /Users/pripper/.julia/packages/DWave/S7WH5/CondaPkg.toml\n",
      "\u001b[32m\u001b[1m    CondaPkg \u001b[22m\u001b[39m\u001b[0mDependencies already up to date\n"
     ]
    }
   ],
   "source": [
    "using QARBoM, MLDatasets, DataFrames, CSV, DWave, JuMP"
   ]
  },
  {
   "cell_type": "code",
   "execution_count": 4,
   "id": "1b1010ee-3063-45d2-a42f-ad7551a49d17",
   "metadata": {},
   "outputs": [],
   "source": [
    "# using Images"
   ]
  },
  {
   "cell_type": "code",
   "execution_count": 5,
   "id": "65401000-5588-443b-87b2-0ed5e06954c2",
   "metadata": {},
   "outputs": [
    {
     "data": {
      "text/plain": [
       "dataset MNIST:\n",
       "  metadata  =>    Dict{String, Any} with 3 entries\n",
       "  split     =>    :train\n",
       "  features  =>    28×28×60000 Array{Float32, 3}\n",
       "  targets   =>    60000-element Vector{Int64}"
      ]
     },
     "execution_count": 5,
     "metadata": {},
     "output_type": "execute_result"
    }
   ],
   "source": [
    "trainset = MNIST(:train)"
   ]
  },
  {
   "cell_type": "code",
   "execution_count": 6,
   "id": "2680fe03-88e5-4dd1-95ab-e30519c791e4",
   "metadata": {},
   "outputs": [
    {
     "data": {
      "text/plain": [
       "(features = Float32[0.0 0.0 … 0.0 0.0; 0.0 0.0 … 0.0 0.0; … ; 0.0 0.0 … 0.0 0.0; 0.0 0.0 … 0.0 0.0;;; 0.0 0.0 … 0.0 0.0; 0.0 0.0 … 0.0 0.0; … ; 0.0 0.0 … 0.0 0.0; 0.0 0.0 … 0.0 0.0;;; 0.0 0.0 … 0.0 0.0; 0.0 0.0 … 0.0 0.0; … ; 0.0 0.0 … 0.0 0.0; 0.0 0.0 … 0.0 0.0;;; … ;;; 0.0 0.0 … 0.0 0.0; 0.0 0.0 … 0.0 0.0; … ; 0.0 0.0 … 0.0 0.0; 0.0 0.0 … 0.0 0.0;;; 0.0 0.0 … 0.0 0.0; 0.0 0.0 … 0.0 0.0; … ; 0.0 0.0 … 0.0 0.0; 0.0 0.0 … 0.0 0.0;;; 0.0 0.0 … 0.0 0.0; 0.0 0.0 … 0.0 0.0; … ; 0.0 0.0 … 0.0 0.0; 0.0 0.0 … 0.0 0.0], targets = [5, 0, 4, 1, 9, 2, 1, 3, 1, 4  …  9, 2, 9, 5, 1, 8, 3, 5, 6, 8])"
      ]
     },
     "execution_count": 6,
     "metadata": {},
     "output_type": "execute_result"
    }
   ],
   "source": [
    "x_train, y_train = trainset[:]"
   ]
  },
  {
   "cell_type": "code",
   "execution_count": 13,
   "id": "7a227bea-4edf-47d3-b74e-558872a9965c",
   "metadata": {},
   "outputs": [
    {
     "data": {
      "text/plain": [
       "60000-element Vector{Vector{Int64}}:\n",
       " [0, 0, 0, 0, 0, 0, 0, 0, 0, 0  …  1, 0, 0, 0, 0, 0, 0, 0, 0, 0]\n",
       " [0, 0, 0, 0, 0, 0, 0, 0, 0, 0  …  0, 0, 0, 0, 0, 0, 0, 0, 0, 0]\n",
       " [0, 0, 0, 0, 0, 0, 0, 0, 0, 0  …  0, 0, 0, 0, 0, 0, 0, 0, 0, 0]\n",
       " [0, 0, 0, 0, 0, 0, 0, 0, 0, 0  …  0, 0, 0, 0, 0, 0, 0, 0, 0, 0]\n",
       " [0, 0, 0, 0, 0, 0, 0, 0, 0, 0  …  0, 0, 0, 0, 0, 0, 0, 0, 0, 0]\n",
       " [0, 0, 0, 0, 0, 0, 0, 0, 0, 0  …  0, 0, 0, 0, 0, 0, 0, 0, 0, 0]\n",
       " [0, 0, 0, 0, 0, 0, 0, 0, 0, 0  …  0, 0, 0, 0, 0, 0, 0, 0, 0, 0]\n",
       " [0, 0, 0, 0, 0, 0, 0, 0, 0, 0  …  0, 0, 0, 0, 0, 0, 0, 0, 0, 0]\n",
       " [0, 0, 0, 0, 0, 0, 0, 0, 0, 0  …  0, 0, 0, 0, 0, 0, 0, 0, 0, 0]\n",
       " [0, 0, 0, 0, 0, 0, 0, 0, 0, 0  …  1, 0, 0, 0, 0, 0, 0, 0, 0, 0]\n",
       " [0, 0, 0, 0, 0, 0, 0, 0, 0, 0  …  0, 0, 0, 0, 0, 0, 0, 0, 0, 0]\n",
       " [0, 0, 0, 0, 0, 0, 0, 0, 0, 0  …  0, 0, 0, 0, 0, 0, 0, 0, 0, 0]\n",
       " [0, 0, 0, 0, 0, 0, 0, 0, 0, 0  …  0, 0, 0, 0, 0, 0, 0, 0, 0, 1]\n",
       " ⋮\n",
       " [0, 0, 0, 0, 0, 0, 0, 0, 0, 0  …  0, 0, 0, 0, 0, 0, 0, 0, 0, 0]\n",
       " [0, 0, 0, 0, 0, 0, 0, 0, 0, 0  …  1, 1, 0, 0, 0, 0, 0, 0, 0, 0]\n",
       " [0, 0, 0, 0, 0, 0, 0, 0, 0, 0  …  0, 0, 0, 0, 0, 0, 0, 0, 0, 0]\n",
       " [0, 0, 0, 0, 0, 0, 0, 0, 0, 0  …  1, 1, 0, 0, 0, 0, 0, 0, 0, 0]\n",
       " [0, 0, 0, 0, 0, 0, 0, 0, 0, 0  …  0, 0, 0, 0, 0, 0, 0, 0, 0, 0]\n",
       " [0, 0, 0, 0, 0, 0, 0, 0, 0, 0  …  1, 1, 1, 1, 0, 0, 0, 0, 0, 0]\n",
       " [0, 0, 0, 0, 0, 0, 0, 0, 0, 0  …  0, 0, 0, 0, 0, 0, 0, 0, 0, 0]\n",
       " [0, 0, 0, 0, 0, 0, 0, 0, 0, 0  …  0, 0, 0, 0, 0, 0, 0, 0, 0, 0]\n",
       " [0, 0, 0, 0, 0, 0, 0, 0, 0, 0  …  0, 0, 0, 0, 0, 0, 0, 0, 0, 0]\n",
       " [0, 0, 0, 0, 0, 0, 0, 0, 0, 0  …  1, 1, 0, 0, 0, 0, 0, 0, 0, 0]\n",
       " [0, 0, 0, 0, 0, 0, 0, 0, 0, 0  …  0, 0, 0, 0, 0, 0, 0, 0, 0, 0]\n",
       " [0, 0, 0, 0, 0, 0, 0, 0, 0, 0  …  0, 0, 0, 0, 0, 0, 0, 0, 0, 0]"
      ]
     },
     "execution_count": 13,
     "metadata": {},
     "output_type": "execute_result"
    }
   ],
   "source": [
    "x_bin = [\n",
    "    vec(round.(Int, x_train[:,:,i][1:200])) for i in 1:60000\n",
    "    ]"
   ]
  },
  {
   "cell_type": "code",
   "execution_count": 8,
   "id": "d670e913-964d-4b52-8504-a6394a232ff0",
   "metadata": {},
   "outputs": [],
   "source": [
    "MOI = QARBoM.QUBO.ToQUBO.MOI\n",
    "MOI.supports(::DWave.Neal.Optimizer, ::MOI.ObjectiveSense) = true"
   ]
  },
  {
   "cell_type": "code",
   "execution_count": 9,
   "id": "9839303f-d850-44d0-93ff-2d7bc4f82fa7",
   "metadata": {},
   "outputs": [
    {
     "data": {
      "text/plain": [
       "1284"
      ]
     },
     "execution_count": 9,
     "metadata": {},
     "output_type": "execute_result"
    }
   ],
   "source": [
    "28*28 + 500"
   ]
  },
  {
   "cell_type": "code",
   "execution_count": 34,
   "id": "4da081e3-bd42-41b2-adad-420e2eb57170",
   "metadata": {},
   "outputs": [
    {
     "ename": "LoadError",
     "evalue": "NoOptimizer()",
     "output_type": "error",
     "traceback": [
      "NoOptimizer()",
      "",
      "Stacktrace:",
      " [1] optimize!(model::Model; ignore_optimize_hook::Bool, _differentiation_backend::MathOptInterface.Nonlinear.SparseReverseMode, kwargs::@Kwargs{})",
      "   @ JuMP ~/.julia/packages/JuMP/Gwn88/src/optimizer_interface.jl:445",
      " [2] optimize!(model::Model)",
      "   @ JuMP ~/.julia/packages/JuMP/Gwn88/src/optimizer_interface.jl:409",
      " [3] top-level scope",
      "   @ In[34]:12"
     ]
    }
   ],
   "source": [
    "model = JuMP.direct_model(MOI.Utilities.CachingOptimizer(MOI.Utilities.Model{Float64}(), MOIU.AUTOMATIC))\n",
    "\n",
    "MOI.Utilities.reset_optimizer(model) # detach optimizer\n",
    "\n",
    "@variable(model, x[1:3], Bin)\n",
    "@objective(model, Min, sum(x))\n",
    "\n",
    "JuMP.set_objective_coefficient(model, x[1], 2.0)\n",
    "\n",
    "MOI.Utilities.attach_optimizer(DWave.Neal.Optimizer())\n",
    "\n",
    "optimize!(model)"
   ]
  },
  {
   "cell_type": "code",
   "execution_count": 61,
   "id": "304e54a1-e182-4716-81e2-8b151bced6a9",
   "metadata": {},
   "outputs": [
    {
     "data": {
      "text/plain": [
       "Min::Sense = 0"
      ]
     },
     "execution_count": 61,
     "metadata": {},
     "output_type": "execute_result"
    }
   ],
   "source": [
    "opt.model.form.frame.sense"
   ]
  },
  {
   "cell_type": "code",
   "execution_count": 51,
   "id": "2979117b-86cf-4ed8-bc4a-b7a5002b16a2",
   "metadata": {},
   "outputs": [
    {
     "data": {
      "text/plain": [
       "Dict{Symbol, Any}()"
      ]
     },
     "execution_count": 51,
     "metadata": {},
     "output_type": "execute_result"
    }
   ],
   "source": [
    "opt.attributes."
   ]
  },
  {
   "cell_type": "code",
   "execution_count": 11,
   "id": "a3374083-bd58-413d-b0f6-eb66b080535e",
   "metadata": {},
   "outputs": [],
   "source": [
    "# rbm = QARBoM.RBM(n_vis,n_hid, MOI.Utilities.CachingOptimizer(MOI.Utilities.Model{Float64}(), DWave.Neal.Optimizer()))\n",
    "\n",
    "rbm = QARBoM.RBM(28*28,500, DWave.Neal.Optimizer)\n",
    "\n",
    "MOI.set(rbm.model, MOI.RawOptimizerAttribute(\"num_reads\"), 25)\n",
    "MOI.set(rbm.model, MOI.RawOptimizerAttribute(\"num_sweeps\"), 75)"
   ]
  },
  {
   "cell_type": "code",
   "execution_count": 14,
   "id": "4e69a07f-97c3-4a54-a10e-87252143b05a",
   "metadata": {},
   "outputs": [
    {
     "ename": "LoadError",
     "evalue": "MethodError: no method matching MathOptInterface.ScalarQuadraticFunction{Float64}(::QuadExpr)\n\n\u001b[0mClosest candidates are:\n\u001b[0m  (::Type{MathOptInterface.ScalarQuadraticFunction{T}} where T)(::Any, \u001b[91m::Any\u001b[39m, \u001b[91m::Any\u001b[39m)\n\u001b[0m\u001b[90m   @\u001b[39m \u001b[35mMathOptInterface\u001b[39m \u001b[90m~/.julia/packages/MathOptInterface/2CULs/src/\u001b[39m\u001b[90m\u001b[4mfunctions.jl:269\u001b[24m\u001b[39m\n",
     "output_type": "error",
     "traceback": [
      "MethodError: no method matching MathOptInterface.ScalarQuadraticFunction{Float64}(::QuadExpr)\n\n\u001b[0mClosest candidates are:\n\u001b[0m  (::Type{MathOptInterface.ScalarQuadraticFunction{T}} where T)(::Any, \u001b[91m::Any\u001b[39m, \u001b[91m::Any\u001b[39m)\n\u001b[0m\u001b[90m   @\u001b[39m \u001b[35mMathOptInterface\u001b[39m \u001b[90m~/.julia/packages/MathOptInterface/2CULs/src/\u001b[39m\u001b[90m\u001b[4mfunctions.jl:269\u001b[24m\u001b[39m\n",
      "",
      "Stacktrace:",
      " [1] top-level scope",
      "   @ In[14]:1"
     ]
    }
   ],
   "source": [
    "MOI.set(rbm.model,\n",
    "            MOI.ObjectiveFunction{MOI.ScalarQuadraticFunction{Float64}}(),\n",
    "            MOI.ScalarQuadraticFunction{Float64}(\n",
    "                rbm.model[:vis]' * rand(28*28,500) * rbm.model[:hid] - rand(28*28)'rbm.model[:vis] - rand(500)'rbm.model[:hid]\n",
    "            )\n",
    "        )"
   ]
  },
  {
   "cell_type": "code",
   "execution_count": 8,
   "id": "224ae1d2-15e6-4773-a56f-e71dabd2d4db",
   "metadata": {},
   "outputs": [
    {
     "data": {
      "text/plain": [
       "([0.48, 0.56, 0.52, 0.44, 0.52, 0.48, 0.52, 0.44, 0.8, 0.8  …  0.56, 0.44, 0.44, 0.4, 0.4, 0.32, 0.52, 0.4, 0.4, 0.64], [0.0, 0.0, 0.0, 0.0, 0.0, 0.0, 0.0, 0.0, 0.0, 0.0  …  0.0, 0.0, 0.0, 0.0, 0.0, 0.0, 0.0, 0.0, 0.0, 0.0])"
      ]
     },
     "execution_count": 8,
     "metadata": {},
     "output_type": "execute_result"
    }
   ],
   "source": [
    "QARBoM._qubo_sample(rbm, 1)"
   ]
  },
  {
   "cell_type": "code",
   "execution_count": 9,
   "id": "49edbda0-6c13-4f54-ab1d-b0da7a5c9726",
   "metadata": {},
   "outputs": [
    {
     "data": {
      "text/plain": [
       "\"profile.pb.gz\""
      ]
     },
     "execution_count": 9,
     "metadata": {},
     "output_type": "execute_result"
    },
    {
     "name": "stderr",
     "output_type": "stream",
     "text": [
      "Main binary filename not available.\n",
      "Serving web UI on http://localhost:57599\n",
      "pprof: listen tcp 127.0.0.1:57599: bind: address already in use\n"
     ]
    }
   ],
   "source": [
    "n_vis = 200\n",
    "n_hid = 100\n",
    "\n",
    "rbm = QARBoM.RBM(n_vis,n_hid, DWave.Neal.Optimizer)\n",
    "\n",
    "MOI.set(rbm.model, MOI.RawOptimizerAttribute(\"num_reads\"), 25)\n",
    "MOI.set(rbm.model, MOI.RawOptimizerAttribute(\"num_sweeps\"), 75)\n",
    "\n",
    "Profile.clear()\n",
    "@profile QARBoM.persistent_qubo!(\n",
    "    rbm,\n",
    "    [rand(Int, n_vis) for i in 1:50],\n",
    "    [range(1,50)],\n",
    "    1\n",
    ")\n",
    "pprof()\n"
   ]
  },
  {
   "cell_type": "code",
   "execution_count": 14,
   "id": "601d00b5-695d-456b-98cf-76e086605ff5",
   "metadata": {},
   "outputs": [],
   "source": [
    "rbm = QARBoM.RBM(200,100, DWave.Neal.Optimizer)\n",
    "\n",
    "MOI.set(rbm.model, MOI.RawOptimizerAttribute(\"num_reads\"), 25)\n",
    "MOI.set(rbm.model, MOI.RawOptimizerAttribute(\"num_sweeps\"), 75)"
   ]
  },
  {
   "cell_type": "code",
   "execution_count": null,
   "id": "f7389ea2-9c19-44df-872d-f6a268b8aaca",
   "metadata": {},
   "outputs": [
    {
     "name": "stdout",
     "output_type": "stream",
     "text": [
      "Setting mini-batches\n",
      "Starting training\n",
      "|------------------------------------------------------------------------------|\n",
      "| Epoch |    MSE    | Time (Sample) | Time (Qsamp) | Time (Update) | Total     |\n",
      "|------------------------------------------------------------------------------|\n",
      "|     1 |   23.3608 |        0.7476 |     114.5979 |        2.2198 |  117.5653 |\n",
      "|------------------------------------------------------------------------------|\n",
      "|------------------------------------------------------------------------------|\n",
      "| Epoch |    MSE    | Time (Sample) | Time (Qsamp) | Time (Update) | Total     |\n",
      "|------------------------------------------------------------------------------|\n",
      "|     2 |   23.3602 |        0.6331 |     106.7817 |        1.4709 |  226.4511 |\n",
      "|------------------------------------------------------------------------------|\n",
      "|------------------------------------------------------------------------------|\n",
      "| Epoch |    MSE    | Time (Sample) | Time (Qsamp) | Time (Update) | Total     |\n",
      "|------------------------------------------------------------------------------|\n",
      "|     3 |   23.3607 |        1.1911 |     102.7527 |        2.0836 |  332.4785 |\n",
      "|------------------------------------------------------------------------------|\n",
      "|------------------------------------------------------------------------------|\n",
      "| Epoch |    MSE    | Time (Sample) | Time (Qsamp) | Time (Update) | Total     |\n",
      "|------------------------------------------------------------------------------|\n",
      "|     4 |   23.3603 |        1.4017 |     100.7296 |        2.0020 |  436.6117 |\n",
      "|------------------------------------------------------------------------------|\n",
      "|------------------------------------------------------------------------------|\n",
      "| Epoch |    MSE    | Time (Sample) | Time (Qsamp) | Time (Update) | Total     |\n",
      "|------------------------------------------------------------------------------|\n",
      "|     5 |   23.3597 |        1.1221 |      97.5676 |        1.1221 |  536.4236 |\n",
      "|------------------------------------------------------------------------------|\n",
      "|------------------------------------------------------------------------------|\n",
      "| Epoch |    MSE    | Time (Sample) | Time (Qsamp) | Time (Update) | Total     |\n",
      "|------------------------------------------------------------------------------|\n",
      "|     6 |   23.3605 |        0.5677 |     101.2068 |        2.5449 |  640.7430 |\n",
      "|------------------------------------------------------------------------------|\n",
      "|------------------------------------------------------------------------------|\n",
      "| Epoch |    MSE    | Time (Sample) | Time (Qsamp) | Time (Update) | Total     |\n",
      "|------------------------------------------------------------------------------|\n",
      "|     7 |   23.3610 |        0.2824 |     101.4109 |        0.8687 |  743.3050 |\n",
      "|------------------------------------------------------------------------------|\n",
      "|------------------------------------------------------------------------------|\n",
      "| Epoch |    MSE    | Time (Sample) | Time (Qsamp) | Time (Update) | Total     |\n",
      "|------------------------------------------------------------------------------|\n",
      "|     8 |   23.3601 |        1.3891 |      98.0269 |        1.4212 |  844.1422 |\n",
      "|------------------------------------------------------------------------------|\n",
      "|------------------------------------------------------------------------------|\n",
      "| Epoch |    MSE    | Time (Sample) | Time (Qsamp) | Time (Update) | Total     |\n",
      "|------------------------------------------------------------------------------|\n",
      "|     9 |   23.3610 |        0.2784 |      97.3155 |        2.7372 |  944.4733 |\n",
      "|------------------------------------------------------------------------------|\n",
      "|------------------------------------------------------------------------------|\n",
      "| Epoch |    MSE    | Time (Sample) | Time (Qsamp) | Time (Update) | Total     |\n",
      "|------------------------------------------------------------------------------|\n",
      "|    10 |   23.3614 |        1.7194 |      97.3608 |        1.1575 | 1044.7110 |\n",
      "|------------------------------------------------------------------------------|\n",
      "|------------------------------------------------------------------------------|\n",
      "| Epoch |    MSE    | Time (Sample) | Time (Qsamp) | Time (Update) | Total     |\n",
      "|------------------------------------------------------------------------------|\n",
      "|    11 |   23.3603 |        0.8506 |      97.3961 |        1.3949 | 1144.3526 |\n",
      "|------------------------------------------------------------------------------|\n"
     ]
    }
   ],
   "source": [
    "avg_loss = QARBoM.train_persistent_qubo(rbm, x_bin[1:5000]; batch_size = 10, n_epochs = 50,n_samples= 1, learning_rate = [0.0002 for i in 1:50])"
   ]
  },
  {
   "cell_type": "code",
   "execution_count": 12,
   "id": "db5b3527-0ba1-4581-9fc5-756e61822764",
   "metadata": {},
   "outputs": [
    {
     "data": {
      "text/html": [
       "<div><div style = \"float: left;\"><span>50×2 DataFrame</span></div><div style = \"float: right;\"><span style = \"font-style: italic;\">25 rows omitted</span></div><div style = \"clear: both;\"></div></div><div class = \"data-frame\" style = \"overflow-x: scroll;\"><table class = \"data-frame\" style = \"margin-bottom: 6px;\"><thead><tr class = \"header\"><th class = \"rowNumber\" style = \"font-weight: bold; text-align: right;\">Row</th><th style = \"text-align: left;\">epoch</th><th style = \"text-align: left;\">avg_loss</th></tr><tr class = \"subheader headerLastRow\"><th class = \"rowNumber\" style = \"font-weight: bold; text-align: right;\"></th><th title = \"Int64\" style = \"text-align: left;\">Int64</th><th title = \"Float64\" style = \"text-align: left;\">Float64</th></tr></thead><tbody><tr><td class = \"rowNumber\" style = \"font-weight: bold; text-align: right;\">1</td><td style = \"text-align: right;\">1</td><td style = \"text-align: right;\">36.7693</td></tr><tr><td class = \"rowNumber\" style = \"font-weight: bold; text-align: right;\">2</td><td style = \"text-align: right;\">2</td><td style = \"text-align: right;\">30.1477</td></tr><tr><td class = \"rowNumber\" style = \"font-weight: bold; text-align: right;\">3</td><td style = \"text-align: right;\">3</td><td style = \"text-align: right;\">28.1622</td></tr><tr><td class = \"rowNumber\" style = \"font-weight: bold; text-align: right;\">4</td><td style = \"text-align: right;\">4</td><td style = \"text-align: right;\">27.294</td></tr><tr><td class = \"rowNumber\" style = \"font-weight: bold; text-align: right;\">5</td><td style = \"text-align: right;\">5</td><td style = \"text-align: right;\">26.3444</td></tr><tr><td class = \"rowNumber\" style = \"font-weight: bold; text-align: right;\">6</td><td style = \"text-align: right;\">6</td><td style = \"text-align: right;\">25.6559</td></tr><tr><td class = \"rowNumber\" style = \"font-weight: bold; text-align: right;\">7</td><td style = \"text-align: right;\">7</td><td style = \"text-align: right;\">25.2909</td></tr><tr><td class = \"rowNumber\" style = \"font-weight: bold; text-align: right;\">8</td><td style = \"text-align: right;\">8</td><td style = \"text-align: right;\">24.6009</td></tr><tr><td class = \"rowNumber\" style = \"font-weight: bold; text-align: right;\">9</td><td style = \"text-align: right;\">9</td><td style = \"text-align: right;\">24.1345</td></tr><tr><td class = \"rowNumber\" style = \"font-weight: bold; text-align: right;\">10</td><td style = \"text-align: right;\">10</td><td style = \"text-align: right;\">23.8363</td></tr><tr><td class = \"rowNumber\" style = \"font-weight: bold; text-align: right;\">11</td><td style = \"text-align: right;\">11</td><td style = \"text-align: right;\">23.4504</td></tr><tr><td class = \"rowNumber\" style = \"font-weight: bold; text-align: right;\">12</td><td style = \"text-align: right;\">12</td><td style = \"text-align: right;\">23.489</td></tr><tr><td class = \"rowNumber\" style = \"font-weight: bold; text-align: right;\">13</td><td style = \"text-align: right;\">13</td><td style = \"text-align: right;\">23.1816</td></tr><tr><td style = \"text-align: right;\">&vellip;</td><td style = \"text-align: right;\">&vellip;</td><td style = \"text-align: right;\">&vellip;</td></tr><tr><td class = \"rowNumber\" style = \"font-weight: bold; text-align: right;\">39</td><td style = \"text-align: right;\">39</td><td style = \"text-align: right;\">20.3644</td></tr><tr><td class = \"rowNumber\" style = \"font-weight: bold; text-align: right;\">40</td><td style = \"text-align: right;\">40</td><td style = \"text-align: right;\">20.1011</td></tr><tr><td class = \"rowNumber\" style = \"font-weight: bold; text-align: right;\">41</td><td style = \"text-align: right;\">41</td><td style = \"text-align: right;\">20.3697</td></tr><tr><td class = \"rowNumber\" style = \"font-weight: bold; text-align: right;\">42</td><td style = \"text-align: right;\">42</td><td style = \"text-align: right;\">20.2048</td></tr><tr><td class = \"rowNumber\" style = \"font-weight: bold; text-align: right;\">43</td><td style = \"text-align: right;\">43</td><td style = \"text-align: right;\">20.0281</td></tr><tr><td class = \"rowNumber\" style = \"font-weight: bold; text-align: right;\">44</td><td style = \"text-align: right;\">44</td><td style = \"text-align: right;\">20.203</td></tr><tr><td class = \"rowNumber\" style = \"font-weight: bold; text-align: right;\">45</td><td style = \"text-align: right;\">45</td><td style = \"text-align: right;\">20.0375</td></tr><tr><td class = \"rowNumber\" style = \"font-weight: bold; text-align: right;\">46</td><td style = \"text-align: right;\">46</td><td style = \"text-align: right;\">19.9671</td></tr><tr><td class = \"rowNumber\" style = \"font-weight: bold; text-align: right;\">47</td><td style = \"text-align: right;\">47</td><td style = \"text-align: right;\">20.0349</td></tr><tr><td class = \"rowNumber\" style = \"font-weight: bold; text-align: right;\">48</td><td style = \"text-align: right;\">48</td><td style = \"text-align: right;\">20.0728</td></tr><tr><td class = \"rowNumber\" style = \"font-weight: bold; text-align: right;\">49</td><td style = \"text-align: right;\">49</td><td style = \"text-align: right;\">19.682</td></tr><tr><td class = \"rowNumber\" style = \"font-weight: bold; text-align: right;\">50</td><td style = \"text-align: right;\">50</td><td style = \"text-align: right;\">19.8665</td></tr></tbody></table></div>"
      ],
      "text/latex": [
       "\\begin{tabular}{r|cc}\n",
       "\t& epoch & avg\\_loss\\\\\n",
       "\t\\hline\n",
       "\t& Int64 & Float64\\\\\n",
       "\t\\hline\n",
       "\t1 & 1 & 36.7693 \\\\\n",
       "\t2 & 2 & 30.1477 \\\\\n",
       "\t3 & 3 & 28.1622 \\\\\n",
       "\t4 & 4 & 27.294 \\\\\n",
       "\t5 & 5 & 26.3444 \\\\\n",
       "\t6 & 6 & 25.6559 \\\\\n",
       "\t7 & 7 & 25.2909 \\\\\n",
       "\t8 & 8 & 24.6009 \\\\\n",
       "\t9 & 9 & 24.1345 \\\\\n",
       "\t10 & 10 & 23.8363 \\\\\n",
       "\t11 & 11 & 23.4504 \\\\\n",
       "\t12 & 12 & 23.489 \\\\\n",
       "\t13 & 13 & 23.1816 \\\\\n",
       "\t14 & 14 & 22.8105 \\\\\n",
       "\t15 & 15 & 22.3096 \\\\\n",
       "\t16 & 16 & 22.3421 \\\\\n",
       "\t17 & 17 & 22.1931 \\\\\n",
       "\t18 & 18 & 21.9699 \\\\\n",
       "\t19 & 19 & 22.1541 \\\\\n",
       "\t20 & 20 & 21.7725 \\\\\n",
       "\t21 & 21 & 21.5657 \\\\\n",
       "\t22 & 22 & 21.6379 \\\\\n",
       "\t23 & 23 & 21.3236 \\\\\n",
       "\t24 & 24 & 21.1838 \\\\\n",
       "\t25 & 25 & 21.1071 \\\\\n",
       "\t26 & 26 & 20.7204 \\\\\n",
       "\t27 & 27 & 20.7576 \\\\\n",
       "\t28 & 28 & 20.6916 \\\\\n",
       "\t29 & 29 & 20.8167 \\\\\n",
       "\t30 & 30 & 20.9136 \\\\\n",
       "\t$\\dots$ & $\\dots$ & $\\dots$ \\\\\n",
       "\\end{tabular}\n"
      ],
      "text/plain": [
       "\u001b[1m50×2 DataFrame\u001b[0m\n",
       "\u001b[1m Row \u001b[0m│\u001b[1m epoch \u001b[0m\u001b[1m avg_loss \u001b[0m\n",
       "     │\u001b[90m Int64 \u001b[0m\u001b[90m Float64  \u001b[0m\n",
       "─────┼─────────────────\n",
       "   1 │     1   36.7693\n",
       "   2 │     2   30.1477\n",
       "   3 │     3   28.1622\n",
       "   4 │     4   27.294\n",
       "   5 │     5   26.3444\n",
       "   6 │     6   25.6559\n",
       "   7 │     7   25.2909\n",
       "   8 │     8   24.6009\n",
       "   9 │     9   24.1345\n",
       "  10 │    10   23.8363\n",
       "  11 │    11   23.4504\n",
       "  ⋮  │   ⋮       ⋮\n",
       "  41 │    41   20.3697\n",
       "  42 │    42   20.2048\n",
       "  43 │    43   20.0281\n",
       "  44 │    44   20.203\n",
       "  45 │    45   20.0375\n",
       "  46 │    46   19.9671\n",
       "  47 │    47   20.0349\n",
       "  48 │    48   20.0728\n",
       "  49 │    49   19.682\n",
       "  50 │    50   19.8665\n",
       "\u001b[36m        29 rows omitted\u001b[0m"
      ]
     },
     "execution_count": 12,
     "metadata": {},
     "output_type": "execute_result"
    }
   ],
   "source": [
    "df = DataFrame(\"epoch\" => 1:50, \"avg_loss\" => avg_loss)"
   ]
  },
  {
   "cell_type": "code",
   "execution_count": 15,
   "id": "e336cbb8-3e99-47f1-8086-ade1ef73db90",
   "metadata": {},
   "outputs": [
    {
     "data": {
      "text/plain": [
       "\"pcd_avg_loss.csv\""
      ]
     },
     "execution_count": 15,
     "metadata": {},
     "output_type": "execute_result"
    }
   ],
   "source": [
    "CSV.write(\"pcd_avg_loss.csv\", df)"
   ]
  },
  {
   "cell_type": "code",
   "execution_count": 16,
   "id": "4ed1fd9a-4951-4d97-8069-b4c8e37dee81",
   "metadata": {},
   "outputs": [
    {
     "data": {
      "text/plain": [
       "(features = [0.0 0.0 … 0.0 0.0; 0.0 0.0 … 0.0 0.0; … ; 0.0 0.0 … 0.0 0.0; 0.0 0.0 … 0.0 0.0;;; 0.0 0.0 … 0.0 0.0; 0.0 0.0 … 0.0 0.0; … ; 0.0 0.0 … 0.0 0.0; 0.0 0.0 … 0.0 0.0;;; 0.0 0.0 … 0.0 0.0; 0.0 0.0 … 0.0 0.0; … ; 0.0 0.0 … 0.0 0.0; 0.0 0.0 … 0.0 0.0;;; … ;;; 0.0 0.0 … 0.0 0.0; 0.0 0.0 … 0.0 0.0; … ; 0.0 0.0 … 0.0 0.0; 0.0 0.0 … 0.0 0.0;;; 0.0 0.0 … 0.0 0.0; 0.0 0.0 … 0.0 0.0; … ; 0.0 0.0 … 0.0 0.0; 0.0 0.0 … 0.0 0.0;;; 0.0 0.0 … 0.0 0.0; 0.0 0.0 … 0.0 0.0; … ; 0.0 0.0 … 0.0 0.0; 0.0 0.0 … 0.0 0.0], targets = [7, 2, 1, 0, 4, 1, 4, 9, 5, 9  …  7, 8, 9, 0, 1, 2, 3, 4, 5, 6])"
      ]
     },
     "execution_count": 16,
     "metadata": {},
     "output_type": "execute_result"
    }
   ],
   "source": [
    "testset = MNIST(:test)\n",
    "x_test, y_test = testset[:]"
   ]
  },
  {
   "cell_type": "code",
   "execution_count": 17,
   "id": "f5c99b33-2401-4b8a-b218-9064fc8ac424",
   "metadata": {},
   "outputs": [
    {
     "data": {
      "text/plain": [
       "10000-element Vector{Vector{Float32}}:\n",
       " [0.0, 0.0, 0.0, 0.0, 0.0, 0.0, 0.0, 0.0, 0.0, 0.0  …  0.0, 0.0, 0.0, 0.0, 0.0, 0.0, 0.0, 0.0, 0.0, 0.0]\n",
       " [0.0, 0.0, 0.0, 0.0, 0.0, 0.0, 0.0, 0.0, 0.0, 0.0  …  0.0, 0.0, 0.0, 0.0, 0.0, 0.0, 0.0, 0.0, 0.0, 0.0]\n",
       " [0.0, 0.0, 0.0, 0.0, 0.0, 0.0, 0.0, 0.0, 0.0, 0.0  …  0.0, 0.0, 0.0, 0.0, 0.0, 0.0, 0.0, 0.0, 0.0, 0.0]\n",
       " [0.0, 0.0, 0.0, 0.0, 0.0, 0.0, 0.0, 0.0, 0.0, 0.0  …  0.0, 0.0, 0.0, 0.0, 0.0, 0.0, 0.0, 0.0, 0.0, 0.0]\n",
       " [0.0, 0.0, 0.0, 0.0, 0.0, 0.0, 0.0, 0.0, 0.0, 0.0  …  0.0, 0.0, 0.0, 0.0, 0.0, 0.0, 0.0, 0.0, 0.0, 0.0]\n",
       " [0.0, 0.0, 0.0, 0.0, 0.0, 0.0, 0.0, 0.0, 0.0, 0.0  …  0.0, 0.0, 0.0, 0.0, 0.0, 0.0, 0.0, 0.0, 0.0, 0.0]\n",
       " [0.0, 0.0, 0.0, 0.0, 0.0, 0.0, 0.0, 0.0, 0.0, 0.0  …  0.0, 0.0, 0.0, 0.0, 0.0, 0.0, 0.0, 0.0, 0.0, 0.0]\n",
       " [0.0, 0.0, 0.0, 0.0, 0.0, 0.0, 0.0, 0.0, 0.0, 0.0  …  0.0, 0.0, 0.0, 0.0, 0.0, 0.0, 0.0, 0.0, 0.0, 0.0]\n",
       " [0.0, 0.0, 0.0, 0.0, 0.0, 0.0, 0.0, 0.0, 0.0, 0.0  …  0.0, 0.0, 0.0, 0.0, 0.0, 0.0, 0.0, 0.0, 0.0, 0.0]\n",
       " [0.0, 0.0, 0.0, 0.0, 0.0, 0.0, 0.0, 0.0, 0.0, 0.0  …  0.0, 0.0, 0.0, 0.0, 0.0, 0.0, 0.0, 0.0, 0.0, 0.0]\n",
       " [0.0, 0.0, 0.0, 0.0, 0.0, 0.0, 0.0, 0.0, 0.0, 0.0  …  0.0, 0.0, 0.0, 0.0, 0.0, 0.0, 0.0, 0.0, 0.0, 0.0]\n",
       " [0.0, 0.0, 0.0, 0.0, 0.0, 0.0, 0.0, 0.0, 0.0, 0.0  …  0.0, 0.0, 0.0, 0.0, 0.0, 0.0, 0.0, 0.0, 0.0, 0.0]\n",
       " [0.0, 0.0, 0.0, 0.0, 0.0, 0.0, 0.0, 0.0, 0.0, 0.0  …  0.0, 0.0, 0.0, 0.0, 0.0, 0.0, 0.0, 0.0, 0.0, 0.0]\n",
       " ⋮\n",
       " [0.0, 0.0, 0.0, 0.0, 0.0, 0.0, 0.0, 0.0, 0.0, 0.0  …  0.0, 0.0, 0.0, 0.0, 0.0, 0.0, 0.0, 0.0, 0.0, 0.0]\n",
       " [0.0, 0.0, 0.0, 0.0, 0.0, 0.0, 0.0, 0.0, 0.0, 0.0  …  0.0, 0.0, 0.0, 0.0, 0.0, 0.0, 0.0, 0.0, 0.0, 0.0]\n",
       " [0.0, 0.0, 0.0, 0.0, 0.0, 0.0, 0.0, 0.0, 0.0, 0.0  …  0.0, 0.0, 0.0, 0.0, 0.0, 0.0, 0.0, 0.0, 0.0, 0.0]\n",
       " [0.0, 0.0, 0.0, 0.0, 0.0, 0.0, 0.0, 0.0, 0.0, 0.0  …  0.0, 0.0, 0.0, 0.0, 0.0, 0.0, 0.0, 0.0, 0.0, 0.0]\n",
       " [0.0, 0.0, 0.0, 0.0, 0.0, 0.0, 0.0, 0.0, 0.0, 0.0  …  0.0, 0.0, 0.0, 0.0, 0.0, 0.0, 0.0, 0.0, 0.0, 0.0]\n",
       " [0.0, 0.0, 0.0, 0.0, 0.0, 0.0, 0.0, 0.0, 0.0, 0.0  …  0.0, 0.0, 0.0, 0.0, 0.0, 0.0, 0.0, 0.0, 0.0, 0.0]\n",
       " [0.0, 0.0, 0.0, 0.0, 0.0, 0.0, 0.0, 0.0, 0.0, 0.0  …  0.0, 0.0, 0.0, 0.0, 0.0, 0.0, 0.0, 0.0, 0.0, 0.0]\n",
       " [0.0, 0.0, 0.0, 0.0, 0.0, 0.0, 0.0, 0.0, 0.0, 0.0  …  0.0, 0.0, 0.0, 0.0, 0.0, 0.0, 0.0, 0.0, 0.0, 0.0]\n",
       " [0.0, 0.0, 0.0, 0.0, 0.0, 0.0, 0.0, 0.0, 0.0, 0.0  …  0.0, 0.0, 0.0, 0.0, 0.0, 0.0, 0.0, 0.0, 0.0, 0.0]\n",
       " [0.0, 0.0, 0.0, 0.0, 0.0, 0.0, 0.0, 0.0, 0.0, 0.0  …  0.0, 0.0, 0.0, 0.0, 0.0, 0.0, 0.0, 0.0, 0.0, 0.0]\n",
       " [0.0, 0.0, 0.0, 0.0, 0.0, 0.0, 0.0, 0.0, 0.0, 0.0  …  0.0, 0.0, 0.0, 0.0, 0.0, 0.0, 0.0, 0.0, 0.0, 0.0]\n",
       " [0.0, 0.0, 0.0, 0.0, 0.0, 0.0, 0.0, 0.0, 0.0, 0.0  …  0.0, 0.0, 0.0, 0.0, 0.0, 0.0, 0.0, 0.0, 0.0, 0.0]"
      ]
     },
     "execution_count": 17,
     "metadata": {},
     "output_type": "execute_result"
    }
   ],
   "source": [
    "x_test = [\n",
    "    vec( x_test[:,:,i]) for i in 1:10000\n",
    "    ]"
   ]
  },
  {
   "cell_type": "code",
   "execution_count": 18,
   "id": "5620a722-d03f-4cd3-8f46-78d4fd847942",
   "metadata": {},
   "outputs": [
    {
     "data": {
      "text/plain": [
       "10000-element Vector{Vector{Int64}}:\n",
       " [0, 0, 0, 0, 0, 0, 0, 0, 0, 0  …  0, 0, 0, 0, 0, 0, 0, 0, 0, 0]\n",
       " [0, 0, 0, 0, 0, 0, 0, 0, 0, 0  …  0, 0, 0, 0, 0, 0, 0, 0, 0, 0]\n",
       " [0, 0, 0, 0, 0, 0, 0, 0, 0, 0  …  0, 0, 0, 0, 0, 0, 0, 0, 0, 0]\n",
       " [0, 0, 0, 0, 0, 0, 0, 0, 0, 0  …  0, 0, 0, 0, 0, 0, 0, 0, 0, 0]\n",
       " [0, 0, 0, 0, 0, 0, 0, 0, 0, 0  …  0, 0, 0, 0, 0, 0, 0, 0, 0, 0]\n",
       " [0, 0, 0, 0, 0, 0, 0, 0, 0, 0  …  0, 0, 0, 0, 0, 0, 0, 0, 0, 0]\n",
       " [0, 0, 0, 0, 0, 0, 0, 0, 0, 0  …  0, 0, 0, 0, 0, 0, 0, 0, 0, 0]\n",
       " [0, 0, 0, 0, 0, 0, 0, 0, 0, 0  …  0, 0, 0, 0, 0, 0, 0, 0, 0, 0]\n",
       " [0, 0, 0, 0, 0, 0, 0, 0, 0, 0  …  0, 0, 0, 0, 0, 0, 0, 0, 0, 0]\n",
       " [0, 0, 0, 0, 0, 0, 0, 0, 0, 0  …  0, 0, 0, 0, 0, 0, 0, 0, 0, 0]\n",
       " [0, 0, 0, 0, 0, 0, 0, 0, 0, 0  …  0, 0, 0, 0, 0, 0, 0, 0, 0, 0]\n",
       " [0, 0, 0, 0, 0, 0, 0, 0, 0, 0  …  0, 0, 0, 0, 0, 0, 0, 0, 0, 0]\n",
       " [0, 0, 0, 0, 0, 0, 0, 0, 0, 0  …  0, 0, 0, 0, 0, 0, 0, 0, 0, 0]\n",
       " ⋮\n",
       " [0, 0, 0, 0, 0, 0, 0, 0, 0, 0  …  0, 0, 0, 0, 0, 0, 0, 0, 0, 0]\n",
       " [0, 0, 0, 0, 0, 0, 0, 0, 0, 0  …  0, 0, 0, 0, 0, 0, 0, 0, 0, 0]\n",
       " [0, 0, 0, 0, 0, 0, 0, 0, 0, 0  …  0, 0, 0, 0, 0, 0, 0, 0, 0, 0]\n",
       " [0, 0, 0, 0, 0, 0, 0, 0, 0, 0  …  0, 0, 0, 0, 0, 0, 0, 0, 0, 0]\n",
       " [0, 0, 0, 0, 0, 0, 0, 0, 0, 0  …  0, 0, 0, 0, 0, 0, 0, 0, 0, 0]\n",
       " [0, 0, 0, 0, 0, 0, 0, 0, 0, 0  …  0, 0, 0, 0, 0, 0, 0, 0, 0, 0]\n",
       " [0, 0, 0, 0, 0, 0, 0, 0, 0, 0  …  0, 0, 0, 0, 0, 0, 0, 0, 0, 0]\n",
       " [0, 0, 0, 0, 0, 0, 0, 0, 0, 0  …  0, 0, 0, 0, 0, 0, 0, 0, 0, 0]\n",
       " [0, 0, 0, 0, 0, 0, 0, 0, 0, 0  …  0, 0, 0, 0, 0, 0, 0, 0, 0, 0]\n",
       " [0, 0, 0, 0, 0, 0, 0, 0, 0, 0  …  0, 0, 0, 0, 0, 0, 0, 0, 0, 0]\n",
       " [0, 0, 0, 0, 0, 0, 0, 0, 0, 0  …  0, 0, 0, 0, 0, 0, 0, 0, 0, 0]\n",
       " [0, 0, 0, 0, 0, 0, 0, 0, 0, 0  …  0, 0, 0, 0, 0, 0, 0, 0, 0, 0]"
      ]
     },
     "execution_count": 18,
     "metadata": {},
     "output_type": "execute_result"
    }
   ],
   "source": [
    "x_bin_test = [\n",
    "    vec(round.(Int, x_test[i])) for i in 1:10000\n",
    "    ]"
   ]
  },
  {
   "cell_type": "code",
   "execution_count": 36,
   "id": "0fb4a7ce-d0d4-426a-878d-c82edc8f871d",
   "metadata": {},
   "outputs": [
    {
     "data": {
      "image/png": "[encoded data removed]",
      "text/html": [
       "<img src=\"data:image/png;base64,iVBORw0KGgoAAAANSUhEUgAAAHAAAABwCAAAAADji6uXAAAABGdBTUEAALGPC/xhBQAAAAFzUkdCAK7OHOkAAAAgY0hSTQAAeiYAAICEAAD6AAAAgOgAAHUwAADqYAAAOpgAABdwnLpRPAAAAX5JREFUaAW9wcGR2kAABMB+TF4ska0UGevM/LgHpToEMuWa7iiLsiiLsiiLsiiLsiiLsiiLsiiLsiiLsiiLsiiLsvjCwPBjetr92JyLsiiLsrhoYGA6Nz1tXouyKIuy+GBgYrhuYmLH5ijKoizK4o0NNwzfmVhYnqIsyqIsTgxMry3sWJ4GJoanheUoyqIsyuKFgYejhbtzCwsDDz8GNmyeoizKoixeeDjasblmeS/KoizK4oKb790cRVmURVlc8Mf3hqMoi7IoixcWhqeb7+2OoizKoixe+IPhaWDD5rPhvSiLsiiLizbXDEfLUZRFWZTFRQ/cfTYdLUdRFmVRFi9smI6Gz4bPoizKoixO7Jj+zcPR3W9RFmVRFicWpusejnYsv0VZlEVZnFjYMT1t2BwNTAxHy2tRFmVRFm9suGH4MTGxYzp3x/JalEVZlMUHO4aj6dwdy7koi7Ioiw8WFobP7ljei7Ioi7K44O7/ibIoi7Ioi7Ioi7Ioi7Ioi7K/tYg3Nr1amOMAAAAASUVORK5C\">"
      ],
      "text/plain": [
       "28×28 reinterpret(reshape, Gray{Float64}, ::Matrix{Float64}) with eltype Gray{Float64}:\n",
       " Gray{Float64}(0.0)  Gray{Float64}(0.0)  …  Gray{Float64}(0.0)\n",
       " Gray{Float64}(0.0)  Gray{Float64}(0.0)     Gray{Float64}(0.0)\n",
       " Gray{Float64}(0.0)  Gray{Float64}(0.0)     Gray{Float64}(0.0)\n",
       " Gray{Float64}(0.0)  Gray{Float64}(0.0)     Gray{Float64}(0.0)\n",
       " Gray{Float64}(0.0)  Gray{Float64}(0.0)     Gray{Float64}(0.0)\n",
       " Gray{Float64}(0.0)  Gray{Float64}(0.0)  …  Gray{Float64}(0.0)\n",
       " Gray{Float64}(0.0)  Gray{Float64}(0.0)     Gray{Float64}(0.0)\n",
       " Gray{Float64}(0.0)  Gray{Float64}(0.0)     Gray{Float64}(0.0)\n",
       " Gray{Float64}(0.0)  Gray{Float64}(0.0)     Gray{Float64}(0.0)\n",
       " Gray{Float64}(0.0)  Gray{Float64}(0.0)     Gray{Float64}(0.0)\n",
       " Gray{Float64}(0.0)  Gray{Float64}(0.0)  …  Gray{Float64}(0.0)\n",
       " Gray{Float64}(0.0)  Gray{Float64}(0.0)     Gray{Float64}(0.0)\n",
       " Gray{Float64}(0.0)  Gray{Float64}(0.0)     Gray{Float64}(0.0)\n",
       " ⋮                                       ⋱  \n",
       " Gray{Float64}(0.0)  Gray{Float64}(0.0)     Gray{Float64}(0.0)\n",
       " Gray{Float64}(0.0)  Gray{Float64}(0.0)     Gray{Float64}(0.0)\n",
       " Gray{Float64}(0.0)  Gray{Float64}(0.0)     Gray{Float64}(0.0)\n",
       " Gray{Float64}(0.0)  Gray{Float64}(0.0)     Gray{Float64}(0.0)\n",
       " Gray{Float64}(0.0)  Gray{Float64}(0.0)  …  Gray{Float64}(0.0)\n",
       " Gray{Float64}(0.0)  Gray{Float64}(0.0)     Gray{Float64}(0.0)\n",
       " Gray{Float64}(0.0)  Gray{Float64}(0.0)     Gray{Float64}(0.0)\n",
       " Gray{Float64}(0.0)  Gray{Float64}(0.0)     Gray{Float64}(0.0)\n",
       " Gray{Float64}(0.0)  Gray{Float64}(0.0)     Gray{Float64}(0.0)\n",
       " Gray{Float64}(0.0)  Gray{Float64}(0.0)  …  Gray{Float64}(0.0)\n",
       " Gray{Float64}(0.0)  Gray{Float64}(0.0)     Gray{Float64}(0.0)\n",
       " Gray{Float64}(0.0)  Gray{Float64}(0.0)     Gray{Float64}(0.0)"
      ]
     },
     "execution_count": 36,
     "metadata": {},
     "output_type": "execute_result"
    }
   ],
   "source": [
    "original_vec = x_test[5000]\n",
    "original_img = 1.0 .* reshape(original_vec, (28,28))\n",
    "colorview(Gray, original_img)"
   ]
  },
  {
   "cell_type": "code",
   "execution_count": 37,
   "id": "71311dc9-2178-42f7-8e50-c2296f1c0dbe",
   "metadata": {},
   "outputs": [
    {
     "data": {
      "image/png": "[encoded data removed]",
      "text/html": [
       "<img src=\"data:image/png;base64,iVBORw0KGgoAAAANSUhEUgAAAHAAAABwCAAAAADji6uXAAAABGdBTUEAALGPC/xhBQAAAAFzUkdCAK7OHOkAAAAgY0hSTQAAeiYAAICEAAD6AAAAgOgAAHUwAADqYAAAOpgAABdwnLpRPAAAAX5JREFUaAW9wcGR2kAABMB+TF4ska0UGevM/LgHpToEMuWa7iiLsiiLsiiLsiiLsiiLsiiLsiiLsiiLsiiLsiiLsvjCwPBjetr92JyLsiiLsrhoYGA6Nz1tXouyKIuy+GBgYrhuYmLH5ijKoizK4o0NNwzfmVhYnqIsyqIsTgxMry3sWJ4GJoanheUoyqIsyuKFgYejhbtzCwsDDz8GNmyeoizKoixeeDjasblmeS/KoizK4oKb790cRVmURVlc8Mf3hqMoi7IoixcWhqeb7+2OoizKoixe+IPhaWDD5rPhvSiLsiiLizbXDEfLUZRFWZTFRQ/cfTYdLUdRFmVRFi9smI6Gz4bPoizKoixO7Jj+zcPR3W9RFmVRFicWpusejnYsv0VZlEVZnFjYMT1t2BwNTAxHy2tRFmVRFm9suGH4MTGxYzp3x/JalEVZlMUHO4aj6dwdy7koi7Ioiw8WFobP7ljei7Ioi7K44O7/ibIoi7Ioi7Ioi7Ioi7Ioi7K/tYg3Nr1amOMAAAAASUVORK5C\">"
      ],
      "text/plain": [
       "28×28 reinterpret(reshape, Gray{Float64}, ::Matrix{Float64}) with eltype Gray{Float64}:\n",
       " Gray{Float64}(0.0)  Gray{Float64}(0.0)  …  Gray{Float64}(0.0)\n",
       " Gray{Float64}(0.0)  Gray{Float64}(0.0)     Gray{Float64}(0.0)\n",
       " Gray{Float64}(0.0)  Gray{Float64}(0.0)     Gray{Float64}(0.0)\n",
       " Gray{Float64}(0.0)  Gray{Float64}(0.0)     Gray{Float64}(0.0)\n",
       " Gray{Float64}(0.0)  Gray{Float64}(0.0)     Gray{Float64}(0.0)\n",
       " Gray{Float64}(0.0)  Gray{Float64}(0.0)  …  Gray{Float64}(0.0)\n",
       " Gray{Float64}(0.0)  Gray{Float64}(0.0)     Gray{Float64}(0.0)\n",
       " Gray{Float64}(0.0)  Gray{Float64}(0.0)     Gray{Float64}(0.0)\n",
       " Gray{Float64}(0.0)  Gray{Float64}(0.0)     Gray{Float64}(0.0)\n",
       " Gray{Float64}(0.0)  Gray{Float64}(0.0)     Gray{Float64}(0.0)\n",
       " Gray{Float64}(0.0)  Gray{Float64}(0.0)  …  Gray{Float64}(0.0)\n",
       " Gray{Float64}(0.0)  Gray{Float64}(0.0)     Gray{Float64}(0.0)\n",
       " Gray{Float64}(0.0)  Gray{Float64}(0.0)     Gray{Float64}(0.0)\n",
       " ⋮                                       ⋱  \n",
       " Gray{Float64}(0.0)  Gray{Float64}(0.0)     Gray{Float64}(0.0)\n",
       " Gray{Float64}(0.0)  Gray{Float64}(0.0)     Gray{Float64}(0.0)\n",
       " Gray{Float64}(0.0)  Gray{Float64}(0.0)     Gray{Float64}(0.0)\n",
       " Gray{Float64}(0.0)  Gray{Float64}(0.0)     Gray{Float64}(0.0)\n",
       " Gray{Float64}(0.0)  Gray{Float64}(0.0)  …  Gray{Float64}(0.0)\n",
       " Gray{Float64}(0.0)  Gray{Float64}(0.0)     Gray{Float64}(0.0)\n",
       " Gray{Float64}(0.0)  Gray{Float64}(0.0)     Gray{Float64}(0.0)\n",
       " Gray{Float64}(0.0)  Gray{Float64}(0.0)     Gray{Float64}(0.0)\n",
       " Gray{Float64}(0.0)  Gray{Float64}(0.0)     Gray{Float64}(0.0)\n",
       " Gray{Float64}(0.0)  Gray{Float64}(0.0)  …  Gray{Float64}(0.0)\n",
       " Gray{Float64}(0.0)  Gray{Float64}(0.0)     Gray{Float64}(0.0)\n",
       " Gray{Float64}(0.0)  Gray{Float64}(0.0)     Gray{Float64}(0.0)"
      ]
     },
     "execution_count": 37,
     "metadata": {},
     "output_type": "execute_result"
    }
   ],
   "source": [
    "cut = 784\n",
    "corrupted_vec = vcat(original_vec[1:cut], zeros(784-cut))\n",
    "corrupted_img = 1.0 .* reshape(corrupted_vec, (28,28))\n",
    "colorview(Gray, corrupted_img)"
   ]
  },
  {
   "cell_type": "code",
   "execution_count": 39,
   "id": "82fd3ece-c123-47af-98d2-bd8a659c2792",
   "metadata": {},
   "outputs": [
    {
     "data": {
      "image/png": "[encoded data removed]",
      "text/html": [
       "<img src=\"data:image/png;base64,iVBORw0KGgoAAAANSUhEUgAAAHAAAABwCAAAAADji6uXAAAABGdBTUEAALGPC/xhBQAAAAFzUkdCAK7OHOkAAAAgY0hSTQAAeiYAAICEAAD6AAAAgOgAAHUwAADqYAAAOpgAABdwnLpRPAAAAttJREFUaAW9wT+I13UcB+Dne74877yKVHLRBkEoJYhqaHERIiPENaGlxiI0GhKEaGmPEhraCiKIGgrDpSJoSIiKgiCJDDO0rn8m2Hnn3X0avsOP793v1CLfzxPFolgUi2JRLIpFsSgWxaJYFIticQN0aMaLYlEsisUN0NChWS2KRbEoFv/RNO7Az3gPu7ALs1hAQ4dmKIpFsSgW16lDQ4dpfIjdmME6NJxFwwXciVl0aEaiWBSLYnEd1mMR2/AKHkb0Gk5iSu9ubMIP2IpLhqJYFItisYYOM5jDFD7CvZjQu4gLeADn8Dc240dsxEa8iQOGolgUi2KxhnW4BS/iMQSL6HAOt6MZ+gO/Yxod9mMKl41EsSgWxWINR7EbjxhpeBmvG6/hCRzX6/Au9hmJYlEsisUYN+MoNhj5BfvwrV4z0qHpnTD0p6EoFsWiWIxxGJNGLmMPzmMBzVAzssPQd4aiWBSLYrHCJhxAh6Z3AmexgObqDhp6w1AUi2JRLFZYxj16HRo+x3acwRKatT1q6JShKBbFolissAsx8oLeGSxhEvPGm8R2I/NohqJYFItiscJpLGECDc/ifTTcgr+sbQFbMad3yGpRLIpFsVhhFsdwCB2C+3ETLqJDs7Z39D7Gq1aLYlEsisUYH+AQlnEFx3AFG3DZeB12Yo/e18aLYlEsisUYD+J77MR6PIfXMIsOzVCHzfgCMziPw8aLYlEsisUYp3EJSwg24gieQdPr0GEGc7gPU+hwHBNYtloUi2JRLFbo8Cm2YxtuQ4fDeAqfYCtuxSRO4iUcxAR+wpNYNl4Ui2JRLFZo+Axf4Xl8g21Yj2AvGhoWsR8P4VccxxEsWlsUi2JRLMZomNfbgWmcwwZMo9ObR4e38DjuwilXF8WiWBSL6zCHLWjYgkWsw9tYxNNYxJeuLYpFsSgW19ChYVnvNyN7/XtRLIpFsbiG5v8VxaJYFItiUSyKRbF/AILXlIL3OJVmAAAAAElFTkSuQmCC\">"
      ],
      "text/plain": [
       "28×28 reinterpret(reshape, Gray{Float64}, ::Matrix{Float64}) with eltype Gray{Float64}:\n",
       " Gray{Float64}(1.05185e-10)  …  Gray{Float64}(3.90781e-9)\n",
       " Gray{Float64}(4.49039e-5)      Gray{Float64}(3.12293e-10)\n",
       " Gray{Float64}(1.00448e-7)      Gray{Float64}(6.47262e-6)\n",
       " Gray{Float64}(3.04306e-9)      Gray{Float64}(2.22671e-7)\n",
       " Gray{Float64}(2.06898e-10)     Gray{Float64}(9.24615e-6)\n",
       " Gray{Float64}(4.92072e-6)   …  Gray{Float64}(3.56806e-8)\n",
       " Gray{Float64}(1.19011e-10)     Gray{Float64}(2.83108e-8)\n",
       " Gray{Float64}(3.8758e-6)       Gray{Float64}(1.41273e-7)\n",
       " Gray{Float64}(1.33623e-9)      Gray{Float64}(8.7846e-7)\n",
       " Gray{Float64}(2.10489e-9)      Gray{Float64}(1.05517e-6)\n",
       " Gray{Float64}(4.32163e-8)   …  Gray{Float64}(9.41587e-9)\n",
       " Gray{Float64}(1.52858e-7)      Gray{Float64}(1.17104e-8)\n",
       " Gray{Float64}(3.95072e-8)      Gray{Float64}(2.08332e-6)\n",
       " ⋮                           ⋱  \n",
       " Gray{Float64}(1.75006e-9)      Gray{Float64}(1.1728e-6)\n",
       " Gray{Float64}(1.94667e-8)      Gray{Float64}(5.6142e-9)\n",
       " Gray{Float64}(3.32204e-7)      Gray{Float64}(4.23388e-8)\n",
       " Gray{Float64}(1.98371e-11)     Gray{Float64}(1.08581e-6)\n",
       " Gray{Float64}(3.20613e-10)  …  Gray{Float64}(2.22915e-5)\n",
       " Gray{Float64}(7.81985e-5)      Gray{Float64}(1.01203e-7)\n",
       " Gray{Float64}(2.2026e-8)       Gray{Float64}(1.48502e-6)\n",
       " Gray{Float64}(1.02133e-7)      Gray{Float64}(1.95342e-10)\n",
       " Gray{Float64}(1.35529e-6)      Gray{Float64}(1.94954e-9)\n",
       " Gray{Float64}(2.02397e-7)   …  Gray{Float64}(3.23547e-8)\n",
       " Gray{Float64}(4.27017e-10)     Gray{Float64}(1.00502e-7)\n",
       " Gray{Float64}(6.63656e-8)      Gray{Float64}(4.59451e-8)"
      ]
     },
     "execution_count": 39,
     "metadata": {},
     "output_type": "execute_result"
    },
    {
     "name": "stderr",
     "output_type": "stream",
     "text": [
      "\u001b[91m\u001b[1m┌ \u001b[22m\u001b[39m\u001b[91m\u001b[1mError: \u001b[22m\u001b[39mError watching manifest\n",
      "\u001b[91m\u001b[1m│ \u001b[22m\u001b[39m  exception =\n",
      "\u001b[91m\u001b[1m│ \u001b[22m\u001b[39m   SystemError: opening file \"/Users/pripper/.julia/packages/ArrayInterface/dX1NB/src/ArrayInterface.jl__@require__\": No such file or directory\n",
      "\u001b[91m\u001b[1m│ \u001b[22m\u001b[39m   Stacktrace:\n",
      "\u001b[91m\u001b[1m│ \u001b[22m\u001b[39m    [1] \u001b[0m\u001b[1msystemerror\u001b[22m\u001b[0m\u001b[1m(\u001b[22m\u001b[90mp\u001b[39m::\u001b[0mString, \u001b[90merrno\u001b[39m::\u001b[0mInt32; \u001b[90mextrainfo\u001b[39m::\u001b[0mNothing\u001b[0m\u001b[1m)\u001b[22m\n",
      "\u001b[91m\u001b[1m│ \u001b[22m\u001b[39m   \u001b[90m   @ \u001b[39m\u001b[90mBase\u001b[39m \u001b[90m./\u001b[39m\u001b[90m\u001b[4merror.jl:176\u001b[24m\u001b[39m\n",
      "\u001b[91m\u001b[1m│ \u001b[22m\u001b[39m    [2] \u001b[0m\u001b[1m#systemerror#80\u001b[22m\n",
      "\u001b[91m\u001b[1m│ \u001b[22m\u001b[39m   \u001b[90m   @ \u001b[39m\u001b[90m./\u001b[39m\u001b[90m\u001b[4merror.jl:175\u001b[24m\u001b[39m\u001b[90m [inlined]\u001b[39m\n",
      "\u001b[91m\u001b[1m│ \u001b[22m\u001b[39m    [3] \u001b[0m\u001b[1msystemerror\u001b[22m\n",
      "\u001b[91m\u001b[1m│ \u001b[22m\u001b[39m   \u001b[90m   @ \u001b[39m\u001b[90m./\u001b[39m\u001b[90m\u001b[4merror.jl:175\u001b[24m\u001b[39m\u001b[90m [inlined]\u001b[39m\n",
      "\u001b[91m\u001b[1m│ \u001b[22m\u001b[39m    [4] \u001b[0m\u001b[1mopen\u001b[22m\u001b[0m\u001b[1m(\u001b[22m\u001b[90mfname\u001b[39m::\u001b[0mString; \u001b[90mlock\u001b[39m::\u001b[0mBool, \u001b[90mread\u001b[39m::\u001b[0mNothing, \u001b[90mwrite\u001b[39m::\u001b[0mNothing, \u001b[90mcreate\u001b[39m::\u001b[0mNothing, \u001b[90mtruncate\u001b[39m::\u001b[0mNothing, \u001b[90mappend\u001b[39m::\u001b[0mNothing\u001b[0m\u001b[1m)\u001b[22m\n",
      "\u001b[91m\u001b[1m│ \u001b[22m\u001b[39m   \u001b[90m   @ \u001b[39m\u001b[90mBase\u001b[39m \u001b[90m./\u001b[39m\u001b[90m\u001b[4miostream.jl:293\u001b[24m\u001b[39m\n",
      "\u001b[91m\u001b[1m│ \u001b[22m\u001b[39m    [5] \u001b[0m\u001b[1mopen\u001b[22m\n",
      "\u001b[91m\u001b[1m│ \u001b[22m\u001b[39m   \u001b[90m   @ \u001b[39m\u001b[90m./\u001b[39m\u001b[90m\u001b[4miostream.jl:275\u001b[24m\u001b[39m\u001b[90m [inlined]\u001b[39m\n",
      "\u001b[91m\u001b[1m│ \u001b[22m\u001b[39m    [6] \u001b[0m\u001b[1mopen\u001b[22m\u001b[0m\u001b[1m(\u001b[22m\u001b[90mf\u001b[39m::\u001b[0mBase.var\"#387#388\"\u001b[90m{String}\u001b[39m, \u001b[90margs\u001b[39m::\u001b[0mString; \u001b[90mkwargs\u001b[39m::\u001b[0mBase.Pairs\u001b[90m{Symbol, Union{}, Tuple{}, NamedTuple{(), Tuple{}}}\u001b[39m\u001b[0m\u001b[1m)\u001b[22m\n",
      "\u001b[91m\u001b[1m│ \u001b[22m\u001b[39m   \u001b[90m   @ \u001b[39m\u001b[90mBase\u001b[39m \u001b[90m./\u001b[39m\u001b[90m\u001b[4mio.jl:382\u001b[24m\u001b[39m\n",
      "\u001b[91m\u001b[1m│ \u001b[22m\u001b[39m    [7] \u001b[0m\u001b[1mopen\u001b[22m\n",
      "\u001b[91m\u001b[1m│ \u001b[22m\u001b[39m   \u001b[90m   @ \u001b[39m\u001b[90m./\u001b[39m\u001b[90m\u001b[4mio.jl:381\u001b[24m\u001b[39m\u001b[90m [inlined]\u001b[39m\n",
      "\u001b[91m\u001b[1m│ \u001b[22m\u001b[39m    [8] \u001b[0m\u001b[1mread\u001b[22m\n",
      "\u001b[91m\u001b[1m│ \u001b[22m\u001b[39m   \u001b[90m   @ \u001b[39m\u001b[90m./\u001b[39m\u001b[90m\u001b[4mio.jl:462\u001b[24m\u001b[39m\u001b[90m [inlined]\u001b[39m\n",
      "\u001b[91m\u001b[1m│ \u001b[22m\u001b[39m    [9] \u001b[0m\u001b[1m(::Revise.var\"#41#42\"{String})\u001b[22m\u001b[0m\u001b[1m(\u001b[22m\u001b[0m\u001b[1m)\u001b[22m\n",
      "\u001b[91m\u001b[1m│ \u001b[22m\u001b[39m   \u001b[90m   @ \u001b[39m\u001b[35mRevise\u001b[39m \u001b[90m~/.julia/packages/Revise/bAgL0/src/\u001b[39m\u001b[90m\u001b[4mpkgs.jl:466\u001b[24m\u001b[39m\n",
      "\u001b[91m\u001b[1m└ \u001b[22m\u001b[39m\u001b[90m@ Revise ~/.julia/packages/Revise/bAgL0/src/pkgs.jl:493\u001b[39m\n"
     ]
    }
   ],
   "source": [
    "reconstructed = QARBoM.reconstruct(rbm, round.(Int,original_vec))\n",
    "reconstructed_img = 1.0 .* reshape(reconstructed, (28,28))\n",
    "colorview(Gray, reconstructed_img)"
   ]
  },
  {
   "cell_type": "code",
   "execution_count": 64,
   "id": "fa711b12-7596-4877-bc63-b6bb3c83ca80",
   "metadata": {},
   "outputs": [
    {
     "data": {
      "text/plain": [
       "QARBoM.RBM([-0.644878712730383 -2.0314517600597233 … -0.20789780140624423 1.0923774931552528; -0.374016904115657 0.298548978314043 … -0.7131984152543572 0.6063948330716113; … ; 0.2328611913516183 -0.5269877213921075 … 0.6899755861383681 0.6781252668528139; -1.1627185531091604 -2.2311703227376003 … 0.8564072945366772 -0.12338231697073355], [-1.2068438954294858, -1.034493266065522, -1.014668038371026, -0.6004519364459995, -0.7518556884925321, -1.0402962160987652, -0.9270410746300998, -0.9208301774588163, -0.7041272633184081, -1.0071111654037874  …  -0.6545743787129513, -0.7228061521527742, -1.0489855863672035, -0.9239041060991984, -0.8612390577063783, -1.1620978668542135, -0.9083072270101563, -0.9234904955333247, -1.1993394714943029, -0.6798883248083794], [0.10593815027436804, 2.1496756027850936, 0.06604463896709066, 9.99541427737482, -0.8064975225797423, -1.8678375044072069, 1.2178459541336937, -3.2279189160743593, -0.07123318857023057, -0.10711503466565321  …  -0.005808030496380461, 0.24399471252852892, -0.5825984860801601, -0.22870252933231588, -3.4334291634648277, -0.6814246698491707, -0.5077719764100449, 0.182433989546765, 0.4217841194851845, -2.4591872940463366], 784, 500)"
      ]
     },
     "execution_count": 64,
     "metadata": {},
     "output_type": "execute_result"
    }
   ],
   "source": [
    "rbm"
   ]
  },
  {
   "cell_type": "code",
   "execution_count": 31,
   "id": "e27a2e53-f7b9-4dc6-807e-43d557b86569",
   "metadata": {},
   "outputs": [
    {
     "data": {
      "text/plain": [
       "107"
      ]
     },
     "execution_count": 31,
     "metadata": {},
     "output_type": "execute_result"
    }
   ],
   "source": [
    "length(5:111)"
   ]
  },
  {
   "cell_type": "code",
   "execution_count": null,
   "id": "a9f45aa9-26ac-4b2d-b8cf-171ea6212d31",
   "metadata": {},
   "outputs": [],
   "source": []
  }
 ],
 "metadata": {
  "kernelspec": {
   "display_name": "Julia 1.10.3",
   "language": "julia",
   "name": "julia-1.10"
  },
  "language_info": {
   "file_extension": ".jl",
   "mimetype": "application/julia",
   "name": "julia",
   "version": "1.10.3"
  }
 },
 "nbformat": 4,
 "nbformat_minor": 5
}
