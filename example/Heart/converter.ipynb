{
 "cells": [
  {
   "cell_type": "code",
   "execution_count": 1,
   "id": "0740ac5c-d47d-43b8-bd1f-f7cc8b0f20d7",
   "metadata": {},
   "outputs": [],
   "source": [
    "using DataFrames\n",
    "using CSV"
   ]
  },
  {
   "cell_type": "code",
   "execution_count": 2,
   "id": "76703019-aeb6-4471-af59-7ab201d44040",
   "metadata": {},
   "outputs": [
    {
     "data": {
      "text/plain": [
       "int_to_bin_array (generic function with 1 method)"
      ]
     },
     "execution_count": 2,
     "metadata": {},
     "output_type": "execute_result"
    }
   ],
   "source": [
    "int_to_bin_array(x::Int, n::Int) = [parse(Int, i) for i in string(x, base = 2, pad = n)]"
   ]
  },
  {
   "cell_type": "code",
   "execution_count": 3,
   "id": "976ccf91-4409-4648-b653-833ce00d621b",
   "metadata": {},
   "outputs": [
    {
     "data": {
      "text/html": [
       "<div><div style = \"float: left;\"><span>246022×40 DataFrame</span></div><div style = \"float: right;\"><span style = \"font-style: italic;\">245997 rows omitted</span></div><div style = \"clear: both;\"></div></div><div class = \"data-frame\" style = \"overflow-x: scroll;\"><table class = \"data-frame\" style = \"margin-bottom: 6px;\"><thead><tr class = \"header\"><th class = \"rowNumber\" style = \"font-weight: bold; text-align: right;\">Row</th><th style = \"text-align: left;\">State</th><th style = \"text-align: left;\">Sex</th><th style = \"text-align: left;\">GeneralHealth</th><th style = \"text-align: left;\">PhysicalHealthDays</th><th style = \"text-align: left;\">MentalHealthDays</th><th style = \"text-align: left;\">LastCheckupTime</th><th style = \"text-align: left;\">PhysicalActivities</th><th style = \"text-align: left;\">SleepHours</th><th style = \"text-align: left;\">RemovedTeeth</th><th style = \"text-align: left;\">HadHeartAttack</th><th style = \"text-align: left;\">HadAngina</th><th style = \"text-align: left;\">HadStroke</th><th style = \"text-align: left;\">HadAsthma</th><th style = \"text-align: left;\">HadSkinCancer</th><th style = \"text-align: left;\">HadCOPD</th><th style = \"text-align: left;\">HadDepressiveDisorder</th><th style = \"text-align: left;\">HadKidneyDisease</th><th style = \"text-align: left;\">HadArthritis</th><th style = \"text-align: left;\">HadDiabetes</th><th style = \"text-align: left;\">DeafOrHardOfHearing</th><th style = \"text-align: left;\">BlindOrVisionDifficulty</th><th style = \"text-align: left;\">DifficultyConcentrating</th><th style = \"text-align: left;\">DifficultyWalking</th><th style = \"text-align: left;\">DifficultyDressingBathing</th><th style = \"text-align: left;\">DifficultyErrands</th><th style = \"text-align: left;\">SmokerStatus</th><th style = \"text-align: left;\">ECigaretteUsage</th><th style = \"text-align: left;\">ChestScan</th><th style = \"text-align: left;\">RaceEthnicityCategory</th><th style = \"text-align: left;\">AgeCategory</th><th style = \"text-align: left;\">HeightInMeters</th><th style = \"text-align: left;\">WeightInKilograms</th><th style = \"text-align: left;\">BMI</th><th style = \"text-align: left;\">AlcoholDrinkers</th><th style = \"text-align: left;\">HIVTesting</th><th style = \"text-align: left;\">FluVaxLast12</th><th style = \"text-align: left;\">PneumoVaxEver</th><th style = \"text-align: left;\">TetanusLast10Tdap</th><th style = \"text-align: left;\">HighRiskLastYear</th><th style = \"text-align: left;\">CovidPos</th></tr><tr class = \"subheader headerLastRow\"><th class = \"rowNumber\" style = \"font-weight: bold; text-align: right;\"></th><th title = \"String31\" style = \"text-align: left;\">String31</th><th title = \"String7\" style = \"text-align: left;\">String7</th><th title = \"String15\" style = \"text-align: left;\">String15</th><th title = \"Float64\" style = \"text-align: left;\">Float64</th><th title = \"Float64\" style = \"text-align: left;\">Float64</th><th title = \"String\" style = \"text-align: left;\">String</th><th title = \"String3\" style = \"text-align: left;\">String3</th><th title = \"Float64\" style = \"text-align: left;\">Float64</th><th title = \"String31\" style = \"text-align: left;\">String31</th><th title = \"String3\" style = \"text-align: left;\">String3</th><th title = \"String3\" style = \"text-align: left;\">String3</th><th title = \"String3\" style = \"text-align: left;\">String3</th><th title = \"String3\" style = \"text-align: left;\">String3</th><th title = \"String3\" style = \"text-align: left;\">String3</th><th title = \"String3\" style = \"text-align: left;\">String3</th><th title = \"String3\" style = \"text-align: left;\">String3</th><th title = \"String3\" style = \"text-align: left;\">String3</th><th title = \"String3\" style = \"text-align: left;\">String3</th><th title = \"String\" style = \"text-align: left;\">String</th><th title = \"String3\" style = \"text-align: left;\">String3</th><th title = \"String3\" style = \"text-align: left;\">String3</th><th title = \"String3\" style = \"text-align: left;\">String3</th><th title = \"String3\" style = \"text-align: left;\">String3</th><th title = \"String3\" style = \"text-align: left;\">String3</th><th title = \"String3\" style = \"text-align: left;\">String3</th><th title = \"String\" style = \"text-align: left;\">String</th><th title = \"String\" style = \"text-align: left;\">String</th><th title = \"String3\" style = \"text-align: left;\">String3</th><th title = \"String31\" style = \"text-align: left;\">String31</th><th title = \"String15\" style = \"text-align: left;\">String15</th><th title = \"Float64\" style = \"text-align: left;\">Float64</th><th title = \"Float64\" style = \"text-align: left;\">Float64</th><th title = \"Float64\" style = \"text-align: left;\">Float64</th><th title = \"String3\" style = \"text-align: left;\">String3</th><th title = \"String3\" style = \"text-align: left;\">String3</th><th title = \"String3\" style = \"text-align: left;\">String3</th><th title = \"String3\" style = \"text-align: left;\">String3</th><th title = \"String\" style = \"text-align: left;\">String</th><th title = \"String3\" style = \"text-align: left;\">String3</th><th title = \"String\" style = \"text-align: left;\">String</th></tr></thead><tbody><tr><td class = \"rowNumber\" style = \"font-weight: bold; text-align: right;\">1</td><td style = \"text-align: left;\">Alabama</td><td style = \"text-align: left;\">Female</td><td style = \"text-align: left;\">Very good</td><td style = \"text-align: right;\">4.0</td><td style = \"text-align: right;\">0.0</td><td style = \"text-align: left;\">Within past year (anytime less than 12 months ago)</td><td style = \"text-align: left;\">Yes</td><td style = \"text-align: right;\">9.0</td><td style = \"text-align: left;\">None of them</td><td style = \"text-align: left;\">No</td><td style = \"text-align: left;\">No</td><td style = \"text-align: left;\">No</td><td style = \"text-align: left;\">No</td><td style = \"text-align: left;\">No</td><td style = \"text-align: left;\">No</td><td style = \"text-align: left;\">No</td><td style = \"text-align: left;\">No</td><td style = \"text-align: left;\">Yes</td><td style = \"text-align: left;\">No</td><td style = \"text-align: left;\">No</td><td style = \"text-align: left;\">No</td><td style = \"text-align: left;\">No</td><td style = \"text-align: left;\">No</td><td style = \"text-align: left;\">No</td><td style = \"text-align: left;\">No</td><td style = \"text-align: left;\">Former smoker</td><td style = \"text-align: left;\">Never used e-cigarettes in my entire life</td><td style = \"text-align: left;\">No</td><td style = \"text-align: left;\">White only, Non-Hispanic</td><td style = \"text-align: left;\">Age 65 to 69</td><td style = \"text-align: right;\">1.6</td><td style = \"text-align: right;\">71.67</td><td style = \"text-align: right;\">27.99</td><td style = \"text-align: left;\">No</td><td style = \"text-align: left;\">No</td><td style = \"text-align: left;\">Yes</td><td style = \"text-align: left;\">Yes</td><td style = \"text-align: left;\">Yes, received Tdap</td><td style = \"text-align: left;\">No</td><td style = \"text-align: left;\">No</td></tr><tr><td class = \"rowNumber\" style = \"font-weight: bold; text-align: right;\">2</td><td style = \"text-align: left;\">Alabama</td><td style = \"text-align: left;\">Male</td><td style = \"text-align: left;\">Very good</td><td style = \"text-align: right;\">0.0</td><td style = \"text-align: right;\">0.0</td><td style = \"text-align: left;\">Within past year (anytime less than 12 months ago)</td><td style = \"text-align: left;\">Yes</td><td style = \"text-align: right;\">6.0</td><td style = \"text-align: left;\">None of them</td><td style = \"text-align: left;\">No</td><td style = \"text-align: left;\">No</td><td style = \"text-align: left;\">No</td><td style = \"text-align: left;\">No</td><td style = \"text-align: left;\">No</td><td style = \"text-align: left;\">No</td><td style = \"text-align: left;\">No</td><td style = \"text-align: left;\">No</td><td style = \"text-align: left;\">Yes</td><td style = \"text-align: left;\">Yes</td><td style = \"text-align: left;\">No</td><td style = \"text-align: left;\">No</td><td style = \"text-align: left;\">No</td><td style = \"text-align: left;\">No</td><td style = \"text-align: left;\">No</td><td style = \"text-align: left;\">No</td><td style = \"text-align: left;\">Former smoker</td><td style = \"text-align: left;\">Never used e-cigarettes in my entire life</td><td style = \"text-align: left;\">No</td><td style = \"text-align: left;\">White only, Non-Hispanic</td><td style = \"text-align: left;\">Age 70 to 74</td><td style = \"text-align: right;\">1.78</td><td style = \"text-align: right;\">95.25</td><td style = \"text-align: right;\">30.13</td><td style = \"text-align: left;\">No</td><td style = \"text-align: left;\">No</td><td style = \"text-align: left;\">Yes</td><td style = \"text-align: left;\">Yes</td><td style = \"text-align: left;\">Yes, received tetanus shot but not sure what type</td><td style = \"text-align: left;\">No</td><td style = \"text-align: left;\">No</td></tr><tr><td class = \"rowNumber\" style = \"font-weight: bold; text-align: right;\">3</td><td style = \"text-align: left;\">Alabama</td><td style = \"text-align: left;\">Male</td><td style = \"text-align: left;\">Very good</td><td style = \"text-align: right;\">0.0</td><td style = \"text-align: right;\">0.0</td><td style = \"text-align: left;\">Within past year (anytime less than 12 months ago)</td><td style = \"text-align: left;\">No</td><td style = \"text-align: right;\">8.0</td><td style = \"text-align: left;\">6 or more, but not all</td><td style = \"text-align: left;\">No</td><td style = \"text-align: left;\">No</td><td style = \"text-align: left;\">No</td><td style = \"text-align: left;\">No</td><td style = \"text-align: left;\">No</td><td style = \"text-align: left;\">No</td><td style = \"text-align: left;\">No</td><td style = \"text-align: left;\">No</td><td style = \"text-align: left;\">Yes</td><td style = \"text-align: left;\">No</td><td style = \"text-align: left;\">No</td><td style = \"text-align: left;\">Yes</td><td style = \"text-align: left;\">No</td><td style = \"text-align: left;\">Yes</td><td style = \"text-align: left;\">No</td><td style = \"text-align: left;\">No</td><td style = \"text-align: left;\">Former smoker</td><td style = \"text-align: left;\">Never used e-cigarettes in my entire life</td><td style = \"text-align: left;\">Yes</td><td style = \"text-align: left;\">White only, Non-Hispanic</td><td style = \"text-align: left;\">Age 75 to 79</td><td style = \"text-align: right;\">1.85</td><td style = \"text-align: right;\">108.86</td><td style = \"text-align: right;\">31.66</td><td style = \"text-align: left;\">Yes</td><td style = \"text-align: left;\">No</td><td style = \"text-align: left;\">No</td><td style = \"text-align: left;\">Yes</td><td style = \"text-align: left;\">No, did not receive any tetanus shot in the past 10 years</td><td style = \"text-align: left;\">No</td><td style = \"text-align: left;\">Yes</td></tr><tr><td class = \"rowNumber\" style = \"font-weight: bold; text-align: right;\">4</td><td style = \"text-align: left;\">Alabama</td><td style = \"text-align: left;\">Female</td><td style = \"text-align: left;\">Fair</td><td style = \"text-align: right;\">5.0</td><td style = \"text-align: right;\">0.0</td><td style = \"text-align: left;\">Within past year (anytime less than 12 months ago)</td><td style = \"text-align: left;\">Yes</td><td style = \"text-align: right;\">9.0</td><td style = \"text-align: left;\">None of them</td><td style = \"text-align: left;\">No</td><td style = \"text-align: left;\">No</td><td style = \"text-align: left;\">No</td><td style = \"text-align: left;\">No</td><td style = \"text-align: left;\">Yes</td><td style = \"text-align: left;\">No</td><td style = \"text-align: left;\">Yes</td><td style = \"text-align: left;\">No</td><td style = \"text-align: left;\">Yes</td><td style = \"text-align: left;\">No</td><td style = \"text-align: left;\">No</td><td style = \"text-align: left;\">No</td><td style = \"text-align: left;\">No</td><td style = \"text-align: left;\">Yes</td><td style = \"text-align: left;\">No</td><td style = \"text-align: left;\">No</td><td style = \"text-align: left;\">Never smoked</td><td style = \"text-align: left;\">Never used e-cigarettes in my entire life</td><td style = \"text-align: left;\">No</td><td style = \"text-align: left;\">White only, Non-Hispanic</td><td style = \"text-align: left;\">Age 80 or older</td><td style = \"text-align: right;\">1.7</td><td style = \"text-align: right;\">90.72</td><td style = \"text-align: right;\">31.32</td><td style = \"text-align: left;\">No</td><td style = \"text-align: left;\">No</td><td style = \"text-align: left;\">Yes</td><td style = \"text-align: left;\">Yes</td><td style = \"text-align: left;\">No, did not receive any tetanus shot in the past 10 years</td><td style = \"text-align: left;\">No</td><td style = \"text-align: left;\">Yes</td></tr><tr><td class = \"rowNumber\" style = \"font-weight: bold; text-align: right;\">5</td><td style = \"text-align: left;\">Alabama</td><td style = \"text-align: left;\">Female</td><td style = \"text-align: left;\">Good</td><td style = \"text-align: right;\">3.0</td><td style = \"text-align: right;\">15.0</td><td style = \"text-align: left;\">Within past year (anytime less than 12 months ago)</td><td style = \"text-align: left;\">Yes</td><td style = \"text-align: right;\">5.0</td><td style = \"text-align: left;\">1 to 5</td><td style = \"text-align: left;\">No</td><td style = \"text-align: left;\">No</td><td style = \"text-align: left;\">No</td><td style = \"text-align: left;\">No</td><td style = \"text-align: left;\">No</td><td style = \"text-align: left;\">No</td><td style = \"text-align: left;\">No</td><td style = \"text-align: left;\">No</td><td style = \"text-align: left;\">Yes</td><td style = \"text-align: left;\">No</td><td style = \"text-align: left;\">No</td><td style = \"text-align: left;\">No</td><td style = \"text-align: left;\">No</td><td style = \"text-align: left;\">No</td><td style = \"text-align: left;\">No</td><td style = \"text-align: left;\">No</td><td style = \"text-align: left;\">Never smoked</td><td style = \"text-align: left;\">Never used e-cigarettes in my entire life</td><td style = \"text-align: left;\">No</td><td style = \"text-align: left;\">White only, Non-Hispanic</td><td style = \"text-align: left;\">Age 80 or older</td><td style = \"text-align: right;\">1.55</td><td style = \"text-align: right;\">79.38</td><td style = \"text-align: right;\">33.07</td><td style = \"text-align: left;\">No</td><td style = \"text-align: left;\">No</td><td style = \"text-align: left;\">Yes</td><td style = \"text-align: left;\">Yes</td><td style = \"text-align: left;\">No, did not receive any tetanus shot in the past 10 years</td><td style = \"text-align: left;\">No</td><td style = \"text-align: left;\">No</td></tr><tr><td class = \"rowNumber\" style = \"font-weight: bold; text-align: right;\">6</td><td style = \"text-align: left;\">Alabama</td><td style = \"text-align: left;\">Male</td><td style = \"text-align: left;\">Good</td><td style = \"text-align: right;\">0.0</td><td style = \"text-align: right;\">0.0</td><td style = \"text-align: left;\">Within past year (anytime less than 12 months ago)</td><td style = \"text-align: left;\">Yes</td><td style = \"text-align: right;\">7.0</td><td style = \"text-align: left;\">None of them</td><td style = \"text-align: left;\">No</td><td style = \"text-align: left;\">No</td><td style = \"text-align: left;\">No</td><td style = \"text-align: left;\">No</td><td style = \"text-align: left;\">No</td><td style = \"text-align: left;\">No</td><td style = \"text-align: left;\">No</td><td style = \"text-align: left;\">No</td><td style = \"text-align: left;\">No</td><td style = \"text-align: left;\">No</td><td style = \"text-align: left;\">No</td><td style = \"text-align: left;\">No</td><td style = \"text-align: left;\">No</td><td style = \"text-align: left;\">No</td><td style = \"text-align: left;\">No</td><td style = \"text-align: left;\">No</td><td style = \"text-align: left;\">Never smoked</td><td style = \"text-align: left;\">Never used e-cigarettes in my entire life</td><td style = \"text-align: left;\">Yes</td><td style = \"text-align: left;\">White only, Non-Hispanic</td><td style = \"text-align: left;\">Age 50 to 54</td><td style = \"text-align: right;\">1.85</td><td style = \"text-align: right;\">120.2</td><td style = \"text-align: right;\">34.96</td><td style = \"text-align: left;\">Yes</td><td style = \"text-align: left;\">Yes</td><td style = \"text-align: left;\">Yes</td><td style = \"text-align: left;\">No</td><td style = \"text-align: left;\">Yes, received tetanus shot but not sure what type</td><td style = \"text-align: left;\">No</td><td style = \"text-align: left;\">No</td></tr><tr><td class = \"rowNumber\" style = \"font-weight: bold; text-align: right;\">7</td><td style = \"text-align: left;\">Alabama</td><td style = \"text-align: left;\">Female</td><td style = \"text-align: left;\">Good</td><td style = \"text-align: right;\">3.0</td><td style = \"text-align: right;\">0.0</td><td style = \"text-align: left;\">Within past year (anytime less than 12 months ago)</td><td style = \"text-align: left;\">Yes</td><td style = \"text-align: right;\">8.0</td><td style = \"text-align: left;\">6 or more, but not all</td><td style = \"text-align: left;\">No</td><td style = \"text-align: left;\">No</td><td style = \"text-align: left;\">Yes</td><td style = \"text-align: left;\">No</td><td style = \"text-align: left;\">No</td><td style = \"text-align: left;\">No</td><td style = \"text-align: left;\">No</td><td style = \"text-align: left;\">No</td><td style = \"text-align: left;\">No</td><td style = \"text-align: left;\">Yes</td><td style = \"text-align: left;\">No</td><td style = \"text-align: left;\">No</td><td style = \"text-align: left;\">No</td><td style = \"text-align: left;\">No</td><td style = \"text-align: left;\">No</td><td style = \"text-align: left;\">No</td><td style = \"text-align: left;\">Never smoked</td><td style = \"text-align: left;\">Never used e-cigarettes in my entire life</td><td style = \"text-align: left;\">Yes</td><td style = \"text-align: left;\">Black only, Non-Hispanic</td><td style = \"text-align: left;\">Age 80 or older</td><td style = \"text-align: right;\">1.63</td><td style = \"text-align: right;\">88.0</td><td style = \"text-align: right;\">33.3</td><td style = \"text-align: left;\">No</td><td style = \"text-align: left;\">No</td><td style = \"text-align: left;\">Yes</td><td style = \"text-align: left;\">Yes</td><td style = \"text-align: left;\">No, did not receive any tetanus shot in the past 10 years</td><td style = \"text-align: left;\">No</td><td style = \"text-align: left;\">No</td></tr><tr><td class = \"rowNumber\" style = \"font-weight: bold; text-align: right;\">8</td><td style = \"text-align: left;\">Alabama</td><td style = \"text-align: left;\">Male</td><td style = \"text-align: left;\">Fair</td><td style = \"text-align: right;\">5.0</td><td style = \"text-align: right;\">0.0</td><td style = \"text-align: left;\">Within past year (anytime less than 12 months ago)</td><td style = \"text-align: left;\">Yes</td><td style = \"text-align: right;\">8.0</td><td style = \"text-align: left;\">1 to 5</td><td style = \"text-align: left;\">Yes</td><td style = \"text-align: left;\">Yes</td><td style = \"text-align: left;\">No</td><td style = \"text-align: left;\">No</td><td style = \"text-align: left;\">Yes</td><td style = \"text-align: left;\">No</td><td style = \"text-align: left;\">No</td><td style = \"text-align: left;\">No</td><td style = \"text-align: left;\">Yes</td><td style = \"text-align: left;\">Yes</td><td style = \"text-align: left;\">No</td><td style = \"text-align: left;\">No</td><td style = \"text-align: left;\">No</td><td style = \"text-align: left;\">No</td><td style = \"text-align: left;\">No</td><td style = \"text-align: left;\">No</td><td style = \"text-align: left;\">Never smoked</td><td style = \"text-align: left;\">Never used e-cigarettes in my entire life</td><td style = \"text-align: left;\">Yes</td><td style = \"text-align: left;\">White only, Non-Hispanic</td><td style = \"text-align: left;\">Age 75 to 79</td><td style = \"text-align: right;\">1.75</td><td style = \"text-align: right;\">74.84</td><td style = \"text-align: right;\">24.37</td><td style = \"text-align: left;\">No</td><td style = \"text-align: left;\">Yes</td><td style = \"text-align: left;\">Yes</td><td style = \"text-align: left;\">Yes</td><td style = \"text-align: left;\">No, did not receive any tetanus shot in the past 10 years</td><td style = \"text-align: left;\">No</td><td style = \"text-align: left;\">Yes</td></tr><tr><td class = \"rowNumber\" style = \"font-weight: bold; text-align: right;\">9</td><td style = \"text-align: left;\">Alabama</td><td style = \"text-align: left;\">Male</td><td style = \"text-align: left;\">Good</td><td style = \"text-align: right;\">2.0</td><td style = \"text-align: right;\">0.0</td><td style = \"text-align: left;\">5 or more years ago</td><td style = \"text-align: left;\">No</td><td style = \"text-align: right;\">6.0</td><td style = \"text-align: left;\">None of them</td><td style = \"text-align: left;\">No</td><td style = \"text-align: left;\">No</td><td style = \"text-align: left;\">No</td><td style = \"text-align: left;\">No</td><td style = \"text-align: left;\">No</td><td style = \"text-align: left;\">No</td><td style = \"text-align: left;\">No</td><td style = \"text-align: left;\">No</td><td style = \"text-align: left;\">Yes</td><td style = \"text-align: left;\">No</td><td style = \"text-align: left;\">Yes</td><td style = \"text-align: left;\">No</td><td style = \"text-align: left;\">No</td><td style = \"text-align: left;\">No</td><td style = \"text-align: left;\">No</td><td style = \"text-align: left;\">No</td><td style = \"text-align: left;\">Former smoker</td><td style = \"text-align: left;\">Never used e-cigarettes in my entire life</td><td style = \"text-align: left;\">Yes</td><td style = \"text-align: left;\">White only, Non-Hispanic</td><td style = \"text-align: left;\">Age 40 to 44</td><td style = \"text-align: right;\">1.7</td><td style = \"text-align: right;\">78.02</td><td style = \"text-align: right;\">26.94</td><td style = \"text-align: left;\">No</td><td style = \"text-align: left;\">No</td><td style = \"text-align: left;\">No</td><td style = \"text-align: left;\">No</td><td style = \"text-align: left;\">No, did not receive any tetanus shot in the past 10 years</td><td style = \"text-align: left;\">No</td><td style = \"text-align: left;\">Yes</td></tr><tr><td class = \"rowNumber\" style = \"font-weight: bold; text-align: right;\">10</td><td style = \"text-align: left;\">Alabama</td><td style = \"text-align: left;\">Female</td><td style = \"text-align: left;\">Very good</td><td style = \"text-align: right;\">0.0</td><td style = \"text-align: right;\">0.0</td><td style = \"text-align: left;\">Within past year (anytime less than 12 months ago)</td><td style = \"text-align: left;\">Yes</td><td style = \"text-align: right;\">7.0</td><td style = \"text-align: left;\">None of them</td><td style = \"text-align: left;\">No</td><td style = \"text-align: left;\">No</td><td style = \"text-align: left;\">No</td><td style = \"text-align: left;\">Yes</td><td style = \"text-align: left;\">Yes</td><td style = \"text-align: left;\">No</td><td style = \"text-align: left;\">No</td><td style = \"text-align: left;\">No</td><td style = \"text-align: left;\">Yes</td><td style = \"text-align: left;\">No</td><td style = \"text-align: left;\">No</td><td style = \"text-align: left;\">No</td><td style = \"text-align: left;\">No</td><td style = \"text-align: left;\">No</td><td style = \"text-align: left;\">No</td><td style = \"text-align: left;\">No</td><td style = \"text-align: left;\">Former smoker</td><td style = \"text-align: left;\">Never used e-cigarettes in my entire life</td><td style = \"text-align: left;\">Yes</td><td style = \"text-align: left;\">White only, Non-Hispanic</td><td style = \"text-align: left;\">Age 75 to 79</td><td style = \"text-align: right;\">1.68</td><td style = \"text-align: right;\">63.5</td><td style = \"text-align: right;\">22.6</td><td style = \"text-align: left;\">No</td><td style = \"text-align: left;\">No</td><td style = \"text-align: left;\">Yes</td><td style = \"text-align: left;\">Yes</td><td style = \"text-align: left;\">No, did not receive any tetanus shot in the past 10 years</td><td style = \"text-align: left;\">No</td><td style = \"text-align: left;\">No</td></tr><tr><td class = \"rowNumber\" style = \"font-weight: bold; text-align: right;\">11</td><td style = \"text-align: left;\">Alabama</td><td style = \"text-align: left;\">Male</td><td style = \"text-align: left;\">Very good</td><td style = \"text-align: right;\">0.0</td><td style = \"text-align: right;\">0.0</td><td style = \"text-align: left;\">Within past year (anytime less than 12 months ago)</td><td style = \"text-align: left;\">Yes</td><td style = \"text-align: right;\">8.0</td><td style = \"text-align: left;\">1 to 5</td><td style = \"text-align: left;\">No</td><td style = \"text-align: left;\">No</td><td style = \"text-align: left;\">No</td><td style = \"text-align: left;\">No</td><td style = \"text-align: left;\">No</td><td style = \"text-align: left;\">No</td><td style = \"text-align: left;\">No</td><td style = \"text-align: left;\">No</td><td style = \"text-align: left;\">No</td><td style = \"text-align: left;\">No</td><td style = \"text-align: left;\">No</td><td style = \"text-align: left;\">No</td><td style = \"text-align: left;\">No</td><td style = \"text-align: left;\">No</td><td style = \"text-align: left;\">No</td><td style = \"text-align: left;\">No</td><td style = \"text-align: left;\">Never smoked</td><td style = \"text-align: left;\">Never used e-cigarettes in my entire life</td><td style = \"text-align: left;\">Yes</td><td style = \"text-align: left;\">White only, Non-Hispanic</td><td style = \"text-align: left;\">Age 80 or older</td><td style = \"text-align: right;\">1.83</td><td style = \"text-align: right;\">122.47</td><td style = \"text-align: right;\">36.62</td><td style = \"text-align: left;\">Yes</td><td style = \"text-align: left;\">No</td><td style = \"text-align: left;\">Yes</td><td style = \"text-align: left;\">Yes</td><td style = \"text-align: left;\">Yes, received Tdap</td><td style = \"text-align: left;\">No</td><td style = \"text-align: left;\">No</td></tr><tr><td class = \"rowNumber\" style = \"font-weight: bold; text-align: right;\">12</td><td style = \"text-align: left;\">Alabama</td><td style = \"text-align: left;\">Female</td><td style = \"text-align: left;\">Good</td><td style = \"text-align: right;\">3.0</td><td style = \"text-align: right;\">4.0</td><td style = \"text-align: left;\">Within past year (anytime less than 12 months ago)</td><td style = \"text-align: left;\">Yes</td><td style = \"text-align: right;\">5.0</td><td style = \"text-align: left;\">None of them</td><td style = \"text-align: left;\">No</td><td style = \"text-align: left;\">No</td><td style = \"text-align: left;\">No</td><td style = \"text-align: left;\">No</td><td style = \"text-align: left;\">No</td><td style = \"text-align: left;\">No</td><td style = \"text-align: left;\">No</td><td style = \"text-align: left;\">No</td><td style = \"text-align: left;\">Yes</td><td style = \"text-align: left;\">Yes</td><td style = \"text-align: left;\">No</td><td style = \"text-align: left;\">No</td><td style = \"text-align: left;\">No</td><td style = \"text-align: left;\">Yes</td><td style = \"text-align: left;\">No</td><td style = \"text-align: left;\">No</td><td style = \"text-align: left;\">Never smoked</td><td style = \"text-align: left;\">Never used e-cigarettes in my entire life</td><td style = \"text-align: left;\">No</td><td style = \"text-align: left;\">White only, Non-Hispanic</td><td style = \"text-align: left;\">Age 60 to 64</td><td style = \"text-align: right;\">1.52</td><td style = \"text-align: right;\">108.86</td><td style = \"text-align: right;\">46.87</td><td style = \"text-align: left;\">No</td><td style = \"text-align: left;\">No</td><td style = \"text-align: left;\">No</td><td style = \"text-align: left;\">No</td><td style = \"text-align: left;\">Yes, received tetanus shot, but not Tdap</td><td style = \"text-align: left;\">No</td><td style = \"text-align: left;\">Yes</td></tr><tr><td class = \"rowNumber\" style = \"font-weight: bold; text-align: right;\">13</td><td style = \"text-align: left;\">Alabama</td><td style = \"text-align: left;\">Male</td><td style = \"text-align: left;\">Good</td><td style = \"text-align: right;\">5.0</td><td style = \"text-align: right;\">0.0</td><td style = \"text-align: left;\">Within past year (anytime less than 12 months ago)</td><td style = \"text-align: left;\">Yes</td><td style = \"text-align: right;\">5.0</td><td style = \"text-align: left;\">6 or more, but not all</td><td style = \"text-align: left;\">Yes</td><td style = \"text-align: left;\">No</td><td style = \"text-align: left;\">No</td><td style = \"text-align: left;\">No</td><td style = \"text-align: left;\">Yes</td><td style = \"text-align: left;\">No</td><td style = \"text-align: left;\">No</td><td style = \"text-align: left;\">No</td><td style = \"text-align: left;\">Yes</td><td style = \"text-align: left;\">No</td><td style = \"text-align: left;\">No</td><td style = \"text-align: left;\">No</td><td style = \"text-align: left;\">Yes</td><td style = \"text-align: left;\">Yes</td><td style = \"text-align: left;\">No</td><td style = \"text-align: left;\">No</td><td style = \"text-align: left;\">Current smoker - now smokes every day</td><td style = \"text-align: left;\">Use them some days</td><td style = \"text-align: left;\">Yes</td><td style = \"text-align: left;\">White only, Non-Hispanic</td><td style = \"text-align: left;\">Age 60 to 64</td><td style = \"text-align: right;\">1.88</td><td style = \"text-align: right;\">115.67</td><td style = \"text-align: right;\">32.74</td><td style = \"text-align: left;\">No</td><td style = \"text-align: left;\">No</td><td style = \"text-align: left;\">Yes</td><td style = \"text-align: left;\">Yes</td><td style = \"text-align: left;\">Yes, received tetanus shot but not sure what type</td><td style = \"text-align: left;\">No</td><td style = \"text-align: left;\">No</td></tr><tr><td style = \"text-align: right;\">&vellip;</td><td style = \"text-align: right;\">&vellip;</td><td style = \"text-align: right;\">&vellip;</td><td style = \"text-align: right;\">&vellip;</td><td style = \"text-align: right;\">&vellip;</td><td style = \"text-align: right;\">&vellip;</td><td style = \"text-align: right;\">&vellip;</td><td style = \"text-align: right;\">&vellip;</td><td style = \"text-align: right;\">&vellip;</td><td style = \"text-align: right;\">&vellip;</td><td style = \"text-align: right;\">&vellip;</td><td style = \"text-align: right;\">&vellip;</td><td style = \"text-align: right;\">&vellip;</td><td style = \"text-align: right;\">&vellip;</td><td style = \"text-align: right;\">&vellip;</td><td style = \"text-align: right;\">&vellip;</td><td style = \"text-align: right;\">&vellip;</td><td style = \"text-align: right;\">&vellip;</td><td style = \"text-align: right;\">&vellip;</td><td style = \"text-align: right;\">&vellip;</td><td style = \"text-align: right;\">&vellip;</td><td style = \"text-align: right;\">&vellip;</td><td style = \"text-align: right;\">&vellip;</td><td style = \"text-align: right;\">&vellip;</td><td style = \"text-align: right;\">&vellip;</td><td style = \"text-align: right;\">&vellip;</td><td style = \"text-align: right;\">&vellip;</td><td style = \"text-align: right;\">&vellip;</td><td style = \"text-align: right;\">&vellip;</td><td style = \"text-align: right;\">&vellip;</td><td style = \"text-align: right;\">&vellip;</td><td style = \"text-align: right;\">&vellip;</td><td style = \"text-align: right;\">&vellip;</td><td style = \"text-align: right;\">&vellip;</td><td style = \"text-align: right;\">&vellip;</td><td style = \"text-align: right;\">&vellip;</td><td style = \"text-align: right;\">&vellip;</td><td style = \"text-align: right;\">&vellip;</td><td style = \"text-align: right;\">&vellip;</td><td style = \"text-align: right;\">&vellip;</td><td style = \"text-align: right;\">&vellip;</td></tr><tr><td class = \"rowNumber\" style = \"font-weight: bold; text-align: right;\">246011</td><td style = \"text-align: left;\">Virgin Islands</td><td style = \"text-align: left;\">Male</td><td style = \"text-align: left;\">Very good</td><td style = \"text-align: right;\">0.0</td><td style = \"text-align: right;\">0.0</td><td style = \"text-align: left;\">Within past year (anytime less than 12 months ago)</td><td style = \"text-align: left;\">Yes</td><td style = \"text-align: right;\">8.0</td><td style = \"text-align: left;\">1 to 5</td><td style = \"text-align: left;\">No</td><td style = \"text-align: left;\">No</td><td style = \"text-align: left;\">No</td><td style = \"text-align: left;\">No</td><td style = \"text-align: left;\">No</td><td style = \"text-align: left;\">No</td><td style = \"text-align: left;\">No</td><td style = \"text-align: left;\">No</td><td style = \"text-align: left;\">Yes</td><td style = \"text-align: left;\">No</td><td style = \"text-align: left;\">No</td><td style = \"text-align: left;\">No</td><td style = \"text-align: left;\">No</td><td style = \"text-align: left;\">No</td><td style = \"text-align: left;\">No</td><td style = \"text-align: left;\">No</td><td style = \"text-align: left;\">Never smoked</td><td style = \"text-align: left;\">Never used e-cigarettes in my entire life</td><td style = \"text-align: left;\">No</td><td style = \"text-align: left;\">Black only, Non-Hispanic</td><td style = \"text-align: left;\">Age 60 to 64</td><td style = \"text-align: right;\">1.83</td><td style = \"text-align: right;\">99.79</td><td style = \"text-align: right;\">29.84</td><td style = \"text-align: left;\">Yes</td><td style = \"text-align: left;\">Yes</td><td style = \"text-align: left;\">No</td><td style = \"text-align: left;\">No</td><td style = \"text-align: left;\">No, did not receive any tetanus shot in the past 10 years</td><td style = \"text-align: left;\">No</td><td style = \"text-align: left;\">No</td></tr><tr><td class = \"rowNumber\" style = \"font-weight: bold; text-align: right;\">246012</td><td style = \"text-align: left;\">Virgin Islands</td><td style = \"text-align: left;\">Female</td><td style = \"text-align: left;\">Good</td><td style = \"text-align: right;\">0.0</td><td style = \"text-align: right;\">0.0</td><td style = \"text-align: left;\">Within past year (anytime less than 12 months ago)</td><td style = \"text-align: left;\">Yes</td><td style = \"text-align: right;\">8.0</td><td style = \"text-align: left;\">None of them</td><td style = \"text-align: left;\">No</td><td style = \"text-align: left;\">No</td><td style = \"text-align: left;\">No</td><td style = \"text-align: left;\">No</td><td style = \"text-align: left;\">No</td><td style = \"text-align: left;\">No</td><td style = \"text-align: left;\">No</td><td style = \"text-align: left;\">No</td><td style = \"text-align: left;\">No</td><td style = \"text-align: left;\">No</td><td style = \"text-align: left;\">No</td><td style = \"text-align: left;\">No</td><td style = \"text-align: left;\">No</td><td style = \"text-align: left;\">No</td><td style = \"text-align: left;\">No</td><td style = \"text-align: left;\">No</td><td style = \"text-align: left;\">Never smoked</td><td style = \"text-align: left;\">Never used e-cigarettes in my entire life</td><td style = \"text-align: left;\">No</td><td style = \"text-align: left;\">Black only, Non-Hispanic</td><td style = \"text-align: left;\">Age 65 to 69</td><td style = \"text-align: right;\">1.63</td><td style = \"text-align: right;\">60.33</td><td style = \"text-align: right;\">22.83</td><td style = \"text-align: left;\">No</td><td style = \"text-align: left;\">Yes</td><td style = \"text-align: left;\">No</td><td style = \"text-align: left;\">Yes</td><td style = \"text-align: left;\">Yes, received tetanus shot but not sure what type</td><td style = \"text-align: left;\">No</td><td style = \"text-align: left;\">No</td></tr><tr><td class = \"rowNumber\" style = \"font-weight: bold; text-align: right;\">246013</td><td style = \"text-align: left;\">Virgin Islands</td><td style = \"text-align: left;\">Male</td><td style = \"text-align: left;\">Fair</td><td style = \"text-align: right;\">7.0</td><td style = \"text-align: right;\">30.0</td><td style = \"text-align: left;\">Within past year (anytime less than 12 months ago)</td><td style = \"text-align: left;\">No</td><td style = \"text-align: right;\">4.0</td><td style = \"text-align: left;\">None of them</td><td style = \"text-align: left;\">Yes</td><td style = \"text-align: left;\">Yes</td><td style = \"text-align: left;\">No</td><td style = \"text-align: left;\">No</td><td style = \"text-align: left;\">No</td><td style = \"text-align: left;\">No</td><td style = \"text-align: left;\">No</td><td style = \"text-align: left;\">No</td><td style = \"text-align: left;\">No</td><td style = \"text-align: left;\">No</td><td style = \"text-align: left;\">Yes</td><td style = \"text-align: left;\">No</td><td style = \"text-align: left;\">No</td><td style = \"text-align: left;\">No</td><td style = \"text-align: left;\">No</td><td style = \"text-align: left;\">No</td><td style = \"text-align: left;\">Never smoked</td><td style = \"text-align: left;\">Never used e-cigarettes in my entire life</td><td style = \"text-align: left;\">Yes</td><td style = \"text-align: left;\">Black only, Non-Hispanic</td><td style = \"text-align: left;\">Age 65 to 69</td><td style = \"text-align: right;\">1.88</td><td style = \"text-align: right;\">117.93</td><td style = \"text-align: right;\">33.38</td><td style = \"text-align: left;\">Yes</td><td style = \"text-align: left;\">Yes</td><td style = \"text-align: left;\">No</td><td style = \"text-align: left;\">No</td><td style = \"text-align: left;\">No, did not receive any tetanus shot in the past 10 years</td><td style = \"text-align: left;\">No</td><td style = \"text-align: left;\">Yes</td></tr><tr><td class = \"rowNumber\" style = \"font-weight: bold; text-align: right;\">246014</td><td style = \"text-align: left;\">Virgin Islands</td><td style = \"text-align: left;\">Male</td><td style = \"text-align: left;\">Excellent</td><td style = \"text-align: right;\">0.0</td><td style = \"text-align: right;\">7.0</td><td style = \"text-align: left;\">Within past year (anytime less than 12 months ago)</td><td style = \"text-align: left;\">No</td><td style = \"text-align: right;\">4.0</td><td style = \"text-align: left;\">None of them</td><td style = \"text-align: left;\">No</td><td style = \"text-align: left;\">No</td><td style = \"text-align: left;\">No</td><td style = \"text-align: left;\">No</td><td style = \"text-align: left;\">No</td><td style = \"text-align: left;\">No</td><td style = \"text-align: left;\">Yes</td><td style = \"text-align: left;\">No</td><td style = \"text-align: left;\">No</td><td style = \"text-align: left;\">Yes</td><td style = \"text-align: left;\">No</td><td style = \"text-align: left;\">No</td><td style = \"text-align: left;\">Yes</td><td style = \"text-align: left;\">No</td><td style = \"text-align: left;\">No</td><td style = \"text-align: left;\">Yes</td><td style = \"text-align: left;\">Never smoked</td><td style = \"text-align: left;\">Not at all (right now)</td><td style = \"text-align: left;\">No</td><td style = \"text-align: left;\">Black only, Non-Hispanic</td><td style = \"text-align: left;\">Age 18 to 24</td><td style = \"text-align: right;\">1.65</td><td style = \"text-align: right;\">49.9</td><td style = \"text-align: right;\">18.3</td><td style = \"text-align: left;\">Yes</td><td style = \"text-align: left;\">No</td><td style = \"text-align: left;\">No</td><td style = \"text-align: left;\">No</td><td style = \"text-align: left;\">No, did not receive any tetanus shot in the past 10 years</td><td style = \"text-align: left;\">No</td><td style = \"text-align: left;\">No</td></tr><tr><td class = \"rowNumber\" style = \"font-weight: bold; text-align: right;\">246015</td><td style = \"text-align: left;\">Virgin Islands</td><td style = \"text-align: left;\">Female</td><td style = \"text-align: left;\">Good</td><td style = \"text-align: right;\">0.0</td><td style = \"text-align: right;\">0.0</td><td style = \"text-align: left;\">Within past year (anytime less than 12 months ago)</td><td style = \"text-align: left;\">Yes</td><td style = \"text-align: right;\">12.0</td><td style = \"text-align: left;\">1 to 5</td><td style = \"text-align: left;\">No</td><td style = \"text-align: left;\">No</td><td style = \"text-align: left;\">No</td><td style = \"text-align: left;\">No</td><td style = \"text-align: left;\">No</td><td style = \"text-align: left;\">No</td><td style = \"text-align: left;\">No</td><td style = \"text-align: left;\">No</td><td style = \"text-align: left;\">No</td><td style = \"text-align: left;\">No</td><td style = \"text-align: left;\">No</td><td style = \"text-align: left;\">No</td><td style = \"text-align: left;\">No</td><td style = \"text-align: left;\">No</td><td style = \"text-align: left;\">No</td><td style = \"text-align: left;\">No</td><td style = \"text-align: left;\">Never smoked</td><td style = \"text-align: left;\">Never used e-cigarettes in my entire life</td><td style = \"text-align: left;\">No</td><td style = \"text-align: left;\">Black only, Non-Hispanic</td><td style = \"text-align: left;\">Age 65 to 69</td><td style = \"text-align: right;\">1.65</td><td style = \"text-align: right;\">52.16</td><td style = \"text-align: right;\">19.14</td><td style = \"text-align: left;\">No</td><td style = \"text-align: left;\">No</td><td style = \"text-align: left;\">No</td><td style = \"text-align: left;\">Yes</td><td style = \"text-align: left;\">Yes, received Tdap</td><td style = \"text-align: left;\">No</td><td style = \"text-align: left;\">No</td></tr><tr><td class = \"rowNumber\" style = \"font-weight: bold; text-align: right;\">246016</td><td style = \"text-align: left;\">Virgin Islands</td><td style = \"text-align: left;\">Female</td><td style = \"text-align: left;\">Very good</td><td style = \"text-align: right;\">0.0</td><td style = \"text-align: right;\">0.0</td><td style = \"text-align: left;\">Within past year (anytime less than 12 months ago)</td><td style = \"text-align: left;\">Yes</td><td style = \"text-align: right;\">7.0</td><td style = \"text-align: left;\">1 to 5</td><td style = \"text-align: left;\">No</td><td style = \"text-align: left;\">No</td><td style = \"text-align: left;\">No</td><td style = \"text-align: left;\">No</td><td style = \"text-align: left;\">No</td><td style = \"text-align: left;\">No</td><td style = \"text-align: left;\">No</td><td style = \"text-align: left;\">No</td><td style = \"text-align: left;\">No</td><td style = \"text-align: left;\">No</td><td style = \"text-align: left;\">No</td><td style = \"text-align: left;\">No</td><td style = \"text-align: left;\">No</td><td style = \"text-align: left;\">No</td><td style = \"text-align: left;\">No</td><td style = \"text-align: left;\">No</td><td style = \"text-align: left;\">Never smoked</td><td style = \"text-align: left;\">Never used e-cigarettes in my entire life</td><td style = \"text-align: left;\">No</td><td style = \"text-align: left;\">Black only, Non-Hispanic</td><td style = \"text-align: left;\">Age 45 to 49</td><td style = \"text-align: right;\">1.65</td><td style = \"text-align: right;\">77.11</td><td style = \"text-align: right;\">28.29</td><td style = \"text-align: left;\">Yes</td><td style = \"text-align: left;\">Yes</td><td style = \"text-align: left;\">No</td><td style = \"text-align: left;\">No</td><td style = \"text-align: left;\">No, did not receive any tetanus shot in the past 10 years</td><td style = \"text-align: left;\">No</td><td style = \"text-align: left;\">No</td></tr><tr><td class = \"rowNumber\" style = \"font-weight: bold; text-align: right;\">246017</td><td style = \"text-align: left;\">Virgin Islands</td><td style = \"text-align: left;\">Male</td><td style = \"text-align: left;\">Good</td><td style = \"text-align: right;\">0.0</td><td style = \"text-align: right;\">0.0</td><td style = \"text-align: left;\">Within past year (anytime less than 12 months ago)</td><td style = \"text-align: left;\">No</td><td style = \"text-align: right;\">6.0</td><td style = \"text-align: left;\">1 to 5</td><td style = \"text-align: left;\">Yes</td><td style = \"text-align: left;\">No</td><td style = \"text-align: left;\">No</td><td style = \"text-align: left;\">No</td><td style = \"text-align: left;\">No</td><td style = \"text-align: left;\">No</td><td style = \"text-align: left;\">No</td><td style = \"text-align: left;\">No</td><td style = \"text-align: left;\">No</td><td style = \"text-align: left;\">No</td><td style = \"text-align: left;\">No</td><td style = \"text-align: left;\">No</td><td style = \"text-align: left;\">No</td><td style = \"text-align: left;\">No</td><td style = \"text-align: left;\">No</td><td style = \"text-align: left;\">No</td><td style = \"text-align: left;\">Current smoker - now smokes every day</td><td style = \"text-align: left;\">Never used e-cigarettes in my entire life</td><td style = \"text-align: left;\">Yes</td><td style = \"text-align: left;\">Black only, Non-Hispanic</td><td style = \"text-align: left;\">Age 55 to 59</td><td style = \"text-align: right;\">1.8</td><td style = \"text-align: right;\">118.84</td><td style = \"text-align: right;\">36.54</td><td style = \"text-align: left;\">Yes</td><td style = \"text-align: left;\">Yes</td><td style = \"text-align: left;\">Yes</td><td style = \"text-align: left;\">No</td><td style = \"text-align: left;\">Yes, received tetanus shot but not sure what type</td><td style = \"text-align: left;\">No</td><td style = \"text-align: left;\">No</td></tr><tr><td class = \"rowNumber\" style = \"font-weight: bold; text-align: right;\">246018</td><td style = \"text-align: left;\">Virgin Islands</td><td style = \"text-align: left;\">Male</td><td style = \"text-align: left;\">Very good</td><td style = \"text-align: right;\">0.0</td><td style = \"text-align: right;\">0.0</td><td style = \"text-align: left;\">Within past 2 years (1 year but less than 2 years ago)</td><td style = \"text-align: left;\">Yes</td><td style = \"text-align: right;\">6.0</td><td style = \"text-align: left;\">None of them</td><td style = \"text-align: left;\">No</td><td style = \"text-align: left;\">No</td><td style = \"text-align: left;\">No</td><td style = \"text-align: left;\">No</td><td style = \"text-align: left;\">No</td><td style = \"text-align: left;\">No</td><td style = \"text-align: left;\">No</td><td style = \"text-align: left;\">No</td><td style = \"text-align: left;\">No</td><td style = \"text-align: left;\">No</td><td style = \"text-align: left;\">No</td><td style = \"text-align: left;\">No</td><td style = \"text-align: left;\">No</td><td style = \"text-align: left;\">No</td><td style = \"text-align: left;\">No</td><td style = \"text-align: left;\">No</td><td style = \"text-align: left;\">Never smoked</td><td style = \"text-align: left;\">Never used e-cigarettes in my entire life</td><td style = \"text-align: left;\">No</td><td style = \"text-align: left;\">White only, Non-Hispanic</td><td style = \"text-align: left;\">Age 60 to 64</td><td style = \"text-align: right;\">1.78</td><td style = \"text-align: right;\">102.06</td><td style = \"text-align: right;\">32.28</td><td style = \"text-align: left;\">Yes</td><td style = \"text-align: left;\">No</td><td style = \"text-align: left;\">No</td><td style = \"text-align: left;\">No</td><td style = \"text-align: left;\">Yes, received tetanus shot but not sure what type</td><td style = \"text-align: left;\">No</td><td style = \"text-align: left;\">No</td></tr><tr><td class = \"rowNumber\" style = \"font-weight: bold; text-align: right;\">246019</td><td style = \"text-align: left;\">Virgin Islands</td><td style = \"text-align: left;\">Female</td><td style = \"text-align: left;\">Fair</td><td style = \"text-align: right;\">0.0</td><td style = \"text-align: right;\">7.0</td><td style = \"text-align: left;\">Within past year (anytime less than 12 months ago)</td><td style = \"text-align: left;\">Yes</td><td style = \"text-align: right;\">7.0</td><td style = \"text-align: left;\">None of them</td><td style = \"text-align: left;\">No</td><td style = \"text-align: left;\">No</td><td style = \"text-align: left;\">No</td><td style = \"text-align: left;\">No</td><td style = \"text-align: left;\">No</td><td style = \"text-align: left;\">No</td><td style = \"text-align: left;\">Yes</td><td style = \"text-align: left;\">No</td><td style = \"text-align: left;\">No</td><td style = \"text-align: left;\">No</td><td style = \"text-align: left;\">No</td><td style = \"text-align: left;\">No</td><td style = \"text-align: left;\">No</td><td style = \"text-align: left;\">No</td><td style = \"text-align: left;\">No</td><td style = \"text-align: left;\">No</td><td style = \"text-align: left;\">Never smoked</td><td style = \"text-align: left;\">Never used e-cigarettes in my entire life</td><td style = \"text-align: left;\">No</td><td style = \"text-align: left;\">Black only, Non-Hispanic</td><td style = \"text-align: left;\">Age 25 to 29</td><td style = \"text-align: right;\">1.93</td><td style = \"text-align: right;\">90.72</td><td style = \"text-align: right;\">24.34</td><td style = \"text-align: left;\">No</td><td style = \"text-align: left;\">No</td><td style = \"text-align: left;\">No</td><td style = \"text-align: left;\">No</td><td style = \"text-align: left;\">No, did not receive any tetanus shot in the past 10 years</td><td style = \"text-align: left;\">No</td><td style = \"text-align: left;\">Yes</td></tr><tr><td class = \"rowNumber\" style = \"font-weight: bold; text-align: right;\">246020</td><td style = \"text-align: left;\">Virgin Islands</td><td style = \"text-align: left;\">Male</td><td style = \"text-align: left;\">Good</td><td style = \"text-align: right;\">0.0</td><td style = \"text-align: right;\">15.0</td><td style = \"text-align: left;\">Within past year (anytime less than 12 months ago)</td><td style = \"text-align: left;\">Yes</td><td style = \"text-align: right;\">7.0</td><td style = \"text-align: left;\">1 to 5</td><td style = \"text-align: left;\">No</td><td style = \"text-align: left;\">No</td><td style = \"text-align: left;\">Yes</td><td style = \"text-align: left;\">No</td><td style = \"text-align: left;\">No</td><td style = \"text-align: left;\">No</td><td style = \"text-align: left;\">No</td><td style = \"text-align: left;\">No</td><td style = \"text-align: left;\">Yes</td><td style = \"text-align: left;\">Yes</td><td style = \"text-align: left;\">No</td><td style = \"text-align: left;\">No</td><td style = \"text-align: left;\">No</td><td style = \"text-align: left;\">No</td><td style = \"text-align: left;\">No</td><td style = \"text-align: left;\">No</td><td style = \"text-align: left;\">Never smoked</td><td style = \"text-align: left;\">Never used e-cigarettes in my entire life</td><td style = \"text-align: left;\">No</td><td style = \"text-align: left;\">Multiracial, Non-Hispanic</td><td style = \"text-align: left;\">Age 65 to 69</td><td style = \"text-align: right;\">1.68</td><td style = \"text-align: right;\">83.91</td><td style = \"text-align: right;\">29.86</td><td style = \"text-align: left;\">Yes</td><td style = \"text-align: left;\">Yes</td><td style = \"text-align: left;\">Yes</td><td style = \"text-align: left;\">Yes</td><td style = \"text-align: left;\">Yes, received tetanus shot but not sure what type</td><td style = \"text-align: left;\">No</td><td style = \"text-align: left;\">Yes</td></tr><tr><td class = \"rowNumber\" style = \"font-weight: bold; text-align: right;\">246021</td><td style = \"text-align: left;\">Virgin Islands</td><td style = \"text-align: left;\">Female</td><td style = \"text-align: left;\">Excellent</td><td style = \"text-align: right;\">2.0</td><td style = \"text-align: right;\">2.0</td><td style = \"text-align: left;\">Within past year (anytime less than 12 months ago)</td><td style = \"text-align: left;\">Yes</td><td style = \"text-align: right;\">7.0</td><td style = \"text-align: left;\">None of them</td><td style = \"text-align: left;\">No</td><td style = \"text-align: left;\">No</td><td style = \"text-align: left;\">No</td><td style = \"text-align: left;\">No</td><td style = \"text-align: left;\">No</td><td style = \"text-align: left;\">No</td><td style = \"text-align: left;\">No</td><td style = \"text-align: left;\">No</td><td style = \"text-align: left;\">No</td><td style = \"text-align: left;\">No</td><td style = \"text-align: left;\">No</td><td style = \"text-align: left;\">No</td><td style = \"text-align: left;\">No</td><td style = \"text-align: left;\">No</td><td style = \"text-align: left;\">No</td><td style = \"text-align: left;\">No</td><td style = \"text-align: left;\">Never smoked</td><td style = \"text-align: left;\">Never used e-cigarettes in my entire life</td><td style = \"text-align: left;\">No</td><td style = \"text-align: left;\">Black only, Non-Hispanic</td><td style = \"text-align: left;\">Age 50 to 54</td><td style = \"text-align: right;\">1.7</td><td style = \"text-align: right;\">83.01</td><td style = \"text-align: right;\">28.66</td><td style = \"text-align: left;\">No</td><td style = \"text-align: left;\">Yes</td><td style = \"text-align: left;\">Yes</td><td style = \"text-align: left;\">No</td><td style = \"text-align: left;\">Yes, received tetanus shot but not sure what type</td><td style = \"text-align: left;\">No</td><td style = \"text-align: left;\">No</td></tr><tr><td class = \"rowNumber\" style = \"font-weight: bold; text-align: right;\">246022</td><td style = \"text-align: left;\">Virgin Islands</td><td style = \"text-align: left;\">Male</td><td style = \"text-align: left;\">Very good</td><td style = \"text-align: right;\">0.0</td><td style = \"text-align: right;\">0.0</td><td style = \"text-align: left;\">Within past year (anytime less than 12 months ago)</td><td style = \"text-align: left;\">No</td><td style = \"text-align: right;\">5.0</td><td style = \"text-align: left;\">None of them</td><td style = \"text-align: left;\">Yes</td><td style = \"text-align: left;\">No</td><td style = \"text-align: left;\">No</td><td style = \"text-align: left;\">Yes</td><td style = \"text-align: left;\">No</td><td style = \"text-align: left;\">No</td><td style = \"text-align: left;\">No</td><td style = \"text-align: left;\">No</td><td style = \"text-align: left;\">No</td><td style = \"text-align: left;\">No</td><td style = \"text-align: left;\">No</td><td style = \"text-align: left;\">No</td><td style = \"text-align: left;\">No</td><td style = \"text-align: left;\">No</td><td style = \"text-align: left;\">No</td><td style = \"text-align: left;\">No</td><td style = \"text-align: left;\">Never smoked</td><td style = \"text-align: left;\">Never used e-cigarettes in my entire life</td><td style = \"text-align: left;\">Yes</td><td style = \"text-align: left;\">Black only, Non-Hispanic</td><td style = \"text-align: left;\">Age 70 to 74</td><td style = \"text-align: right;\">1.83</td><td style = \"text-align: right;\">108.86</td><td style = \"text-align: right;\">32.55</td><td style = \"text-align: left;\">No</td><td style = \"text-align: left;\">Yes</td><td style = \"text-align: left;\">Yes</td><td style = \"text-align: left;\">Yes</td><td style = \"text-align: left;\">No, did not receive any tetanus shot in the past 10 years</td><td style = \"text-align: left;\">No</td><td style = \"text-align: left;\">Yes</td></tr></tbody></table></div>"
      ],
      "text/latex": [
       "\\begin{tabular}{r|ccccccc}\n",
       "\t& State & Sex & GeneralHealth & PhysicalHealthDays & MentalHealthDays & LastCheckupTime & \\\\\n",
       "\t\\hline\n",
       "\t& String31 & String7 & String15 & Float64 & Float64 & String & \\\\\n",
       "\t\\hline\n",
       "\t1 & Alabama & Female & Very good & 4.0 & 0.0 & Within past year (anytime less than 12 months ago) & $\\dots$ \\\\\n",
       "\t2 & Alabama & Male & Very good & 0.0 & 0.0 & Within past year (anytime less than 12 months ago) & $\\dots$ \\\\\n",
       "\t3 & Alabama & Male & Very good & 0.0 & 0.0 & Within past year (anytime less than 12 months ago) & $\\dots$ \\\\\n",
       "\t4 & Alabama & Female & Fair & 5.0 & 0.0 & Within past year (anytime less than 12 months ago) & $\\dots$ \\\\\n",
       "\t5 & Alabama & Female & Good & 3.0 & 15.0 & Within past year (anytime less than 12 months ago) & $\\dots$ \\\\\n",
       "\t6 & Alabama & Male & Good & 0.0 & 0.0 & Within past year (anytime less than 12 months ago) & $\\dots$ \\\\\n",
       "\t7 & Alabama & Female & Good & 3.0 & 0.0 & Within past year (anytime less than 12 months ago) & $\\dots$ \\\\\n",
       "\t8 & Alabama & Male & Fair & 5.0 & 0.0 & Within past year (anytime less than 12 months ago) & $\\dots$ \\\\\n",
       "\t9 & Alabama & Male & Good & 2.0 & 0.0 & 5 or more years ago & $\\dots$ \\\\\n",
       "\t10 & Alabama & Female & Very good & 0.0 & 0.0 & Within past year (anytime less than 12 months ago) & $\\dots$ \\\\\n",
       "\t11 & Alabama & Male & Very good & 0.0 & 0.0 & Within past year (anytime less than 12 months ago) & $\\dots$ \\\\\n",
       "\t12 & Alabama & Female & Good & 3.0 & 4.0 & Within past year (anytime less than 12 months ago) & $\\dots$ \\\\\n",
       "\t13 & Alabama & Male & Good & 5.0 & 0.0 & Within past year (anytime less than 12 months ago) & $\\dots$ \\\\\n",
       "\t14 & Alabama & Female & Good & 0.0 & 0.0 & Within past year (anytime less than 12 months ago) & $\\dots$ \\\\\n",
       "\t15 & Alabama & Male & Fair & 25.0 & 25.0 & Within past year (anytime less than 12 months ago) & $\\dots$ \\\\\n",
       "\t16 & Alabama & Female & Good & 0.0 & 15.0 & Within past year (anytime less than 12 months ago) & $\\dots$ \\\\\n",
       "\t17 & Alabama & Female & Good & 0.0 & 0.0 & Within past year (anytime less than 12 months ago) & $\\dots$ \\\\\n",
       "\t18 & Alabama & Female & Good & 0.0 & 0.0 & Within past year (anytime less than 12 months ago) & $\\dots$ \\\\\n",
       "\t19 & Alabama & Female & Excellent & 0.0 & 0.0 & Within past year (anytime less than 12 months ago) & $\\dots$ \\\\\n",
       "\t20 & Alabama & Male & Poor & 30.0 & 0.0 & Within past year (anytime less than 12 months ago) & $\\dots$ \\\\\n",
       "\t21 & Alabama & Female & Fair & 30.0 & 0.0 & Within past year (anytime less than 12 months ago) & $\\dots$ \\\\\n",
       "\t22 & Alabama & Male & Good & 4.0 & 0.0 & Within past year (anytime less than 12 months ago) & $\\dots$ \\\\\n",
       "\t23 & Alabama & Female & Very good & 0.0 & 5.0 & Within past year (anytime less than 12 months ago) & $\\dots$ \\\\\n",
       "\t24 & Alabama & Female & Very good & 0.0 & 30.0 & Within past 2 years (1 year but less than 2 years ago) & $\\dots$ \\\\\n",
       "\t25 & Alabama & Female & Fair & 30.0 & 0.0 & Within past year (anytime less than 12 months ago) & $\\dots$ \\\\\n",
       "\t26 & Alabama & Female & Poor & 4.0 & 0.0 & Within past year (anytime less than 12 months ago) & $\\dots$ \\\\\n",
       "\t27 & Alabama & Female & Good & 3.0 & 0.0 & Within past year (anytime less than 12 months ago) & $\\dots$ \\\\\n",
       "\t28 & Alabama & Male & Good & 0.0 & 0.0 & Within past year (anytime less than 12 months ago) & $\\dots$ \\\\\n",
       "\t29 & Alabama & Female & Excellent & 0.0 & 0.0 & Within past 2 years (1 year but less than 2 years ago) & $\\dots$ \\\\\n",
       "\t30 & Alabama & Female & Very good & 3.0 & 0.0 & Within past year (anytime less than 12 months ago) & $\\dots$ \\\\\n",
       "\t$\\dots$ & $\\dots$ & $\\dots$ & $\\dots$ & $\\dots$ & $\\dots$ & $\\dots$ &  \\\\\n",
       "\\end{tabular}\n"
      ],
      "text/plain": [
       "\u001b[1m246022×40 DataFrame\u001b[0m\n",
       "\u001b[1m    Row \u001b[0m│\u001b[1m State          \u001b[0m\u001b[1m Sex     \u001b[0m\u001b[1m GeneralHealth \u001b[0m\u001b[1m PhysicalHealthDays \u001b[0m\u001b[1m MentalHe\u001b[0m ⋯\n",
       "        │\u001b[90m String31       \u001b[0m\u001b[90m String7 \u001b[0m\u001b[90m String15      \u001b[0m\u001b[90m Float64            \u001b[0m\u001b[90m Float64 \u001b[0m ⋯\n",
       "────────┼───────────────────────────────────────────────────────────────────────\n",
       "      1 │ Alabama         Female   Very good                     4.0           ⋯\n",
       "      2 │ Alabama         Male     Very good                     0.0\n",
       "      3 │ Alabama         Male     Very good                     0.0\n",
       "      4 │ Alabama         Female   Fair                          5.0\n",
       "      5 │ Alabama         Female   Good                          3.0           ⋯\n",
       "      6 │ Alabama         Male     Good                          0.0\n",
       "      7 │ Alabama         Female   Good                          3.0\n",
       "      8 │ Alabama         Male     Fair                          5.0\n",
       "      9 │ Alabama         Male     Good                          2.0           ⋯\n",
       "     10 │ Alabama         Female   Very good                     0.0\n",
       "     11 │ Alabama         Male     Very good                     0.0\n",
       "   ⋮    │       ⋮            ⋮           ⋮                ⋮                  ⋮ ⋱\n",
       " 246013 │ Virgin Islands  Male     Fair                          7.0\n",
       " 246014 │ Virgin Islands  Male     Excellent                     0.0           ⋯\n",
       " 246015 │ Virgin Islands  Female   Good                          0.0\n",
       " 246016 │ Virgin Islands  Female   Very good                     0.0\n",
       " 246017 │ Virgin Islands  Male     Good                          0.0\n",
       " 246018 │ Virgin Islands  Male     Very good                     0.0           ⋯\n",
       " 246019 │ Virgin Islands  Female   Fair                          0.0\n",
       " 246020 │ Virgin Islands  Male     Good                          0.0\n",
       " 246021 │ Virgin Islands  Female   Excellent                     2.0\n",
       " 246022 │ Virgin Islands  Male     Very good                     0.0           ⋯\n",
       "\u001b[36m                                              36 columns and 246001 rows omitted\u001b[0m"
      ]
     },
     "execution_count": 3,
     "metadata": {},
     "output_type": "execute_result"
    }
   ],
   "source": [
    "df = DataFrame(CSV.File(raw\"./heart_2022_no_nans.csv\"))"
   ]
  },
  {
   "cell_type": "code",
   "execution_count": 4,
   "id": "a47e3f3b-16da-48c7-9abf-322485aa281d",
   "metadata": {},
   "outputs": [
    {
     "data": {
      "text/plain": [
       "4-element Vector{String}:\n",
       " \"Within past year (anytime less than 12 months ago)\"\n",
       " \"5 or more years ago\"\n",
       " \"Within past 2 years (1 year but less than 2 years ago)\"\n",
       " \"Within past 5 years (2 years but less than 5 years ago)\""
      ]
     },
     "execution_count": 4,
     "metadata": {},
     "output_type": "execute_result"
    }
   ],
   "source": [
    "unique(df[!,\"LastCheckupTime\"])"
   ]
  },
  {
   "cell_type": "code",
   "execution_count": 5,
   "id": "7ed81ffa-8931-4cb1-a641-2bcb9fdddecc",
   "metadata": {},
   "outputs": [
    {
     "ename": "LoadError",
     "evalue": "ArgumentError: column name :Last not found in the data frame",
     "output_type": "error",
     "traceback": [
      "ArgumentError: column name :Last not found in the data frame",
      "",
      "Stacktrace:",
      " [1] lookupname",
      "   @ ~/.julia/packages/DataFrames/58MUJ/src/other/index.jl:413 [inlined]",
      " [2] getindex",
      "   @ ~/.julia/packages/DataFrames/58MUJ/src/other/index.jl:422 [inlined]",
      " [3] getindex",
      "   @ ~/.julia/packages/DataFrames/58MUJ/src/other/index.jl:423 [inlined]",
      " [4] getindex(df::DataFrame, ::typeof(!), col_ind::String)",
      "   @ DataFrames ~/.julia/packages/DataFrames/58MUJ/src/dataframe/dataframe.jl:557",
      " [5] top-level scope",
      "   @ In[5]:1"
     ]
    }
   ],
   "source": [
    "unique_values = sort(unique(df[!,\"Last\"]))"
   ]
  },
  {
   "cell_type": "code",
   "execution_count": 6,
   "id": "1fa1127c-e95c-4ca2-a860-ddf0aed1c914",
   "metadata": {},
   "outputs": [
    {
     "data": {
      "text/plain": [
       "3.0"
      ]
     },
     "execution_count": 6,
     "metadata": {},
     "output_type": "execute_result"
    }
   ],
   "source": [
    "log2(8)"
   ]
  },
  {
   "cell_type": "code",
   "execution_count": 7,
   "id": "77224245-af86-42f3-8334-59c1bf227fd6",
   "metadata": {},
   "outputs": [
    {
     "data": {
      "text/plain": [
       "4-element Vector{Int64}:\n",
       " 0\n",
       " 1\n",
       " 1\n",
       " 1"
      ]
     },
     "execution_count": 7,
     "metadata": {},
     "output_type": "execute_result"
    }
   ],
   "source": [
    "int_to_bin_array(7, round(Int, ceil(Int,log2(8+1))))"
   ]
  },
  {
   "cell_type": "code",
   "execution_count": 8,
   "id": "8f895448-c301-4f01-ae1f-4af818e2257a",
   "metadata": {},
   "outputs": [
    {
     "data": {
      "text/plain": [
       "Dict{Any, Any}()"
      ]
     },
     "execution_count": 8,
     "metadata": {},
     "output_type": "execute_result"
    }
   ],
   "source": [
    "aa = Dict()"
   ]
  },
  {
   "cell_type": "code",
   "execution_count": 9,
   "id": "ff9934f9-a814-423b-81fa-d2cb508d6156",
   "metadata": {},
   "outputs": [
    {
     "data": {
      "text/plain": [
       "Dict{Any, Any} with 1 entry:\n",
       "  \"b\" => Any[]"
      ]
     },
     "execution_count": 9,
     "metadata": {},
     "output_type": "execute_result"
    }
   ],
   "source": [
    "push!(aa, \"b\"=> [])"
   ]
  },
  {
   "cell_type": "code",
   "execution_count": 10,
   "id": "14a5a187-b324-4d02-ae9d-0c517127ec19",
   "metadata": {},
   "outputs": [
    {
     "data": {
      "text/plain": [
       "Dict{Any, Any} with 1 entry:\n",
       "  \"b\" => Any[]"
      ]
     },
     "execution_count": 10,
     "metadata": {},
     "output_type": "execute_result"
    }
   ],
   "source": [
    "aa"
   ]
  },
  {
   "cell_type": "code",
   "execution_count": 15,
   "id": "e11676e0-41b4-4fe7-9c51-88c08111ec8e",
   "metadata": {},
   "outputs": [
    {
     "data": {
      "text/plain": [
       "col_to_binary (generic function with 1 method)"
      ]
     },
     "execution_count": 15,
     "metadata": {},
     "output_type": "execute_result"
    }
   ],
   "source": [
    "function col_to_binary(df)\n",
    "    newDict = Dict()\n",
    "    for col in names(df)\n",
    "        coltype = typeof(df[1, col]) \n",
    "        # if coltype == String\n",
    "        #     push!(newDict, col => [])\n",
    "        #     unique_values = sort(unique(df[!,col]))\n",
    "        #     total_unique = length(unique_values)\n",
    "        #     # iterate over each row\n",
    "        #     for i in 1:size(df,1)\n",
    "        #         push!(newDict[col], int_to_bin_array(findfirst(x-> x == df[i,col], unique_values) - 1, ceil(Int,log2(total_unique))))\n",
    "        #     end\n",
    "        # else\n",
    "        if coltype == String3\n",
    "            push!(newDict, col => [])\n",
    "            unique_values = [\"No\", \"Yes\"]\n",
    "            total_unique = length(unique_values)\n",
    "            # iterate over each row\n",
    "            for i in 1:size(df,1)\n",
    "                append!(newDict[col], int_to_bin_array(findfirst(x-> x == df[i,col], unique_values) - 1, ceil(Int,log2(total_unique))))\n",
    "            end\n",
    "        # elseif coltype == Float64\n",
    "        #     push!(newDict, col => [])\n",
    "        #     max_val = maximum(df[!,col])\n",
    "        #     # iterate over each row\n",
    "        #     for i in 1:size(df,1)\n",
    "        #         push!(newDict[col], int_to_bin_array(round(Int,df[i, col]), ceil(Int,log2(max_val)) + 1))\n",
    "        #     end\n",
    "        end\n",
    "    end\n",
    "    return DataFrame(newDict)\n",
    "end"
   ]
  },
  {
   "cell_type": "code",
   "execution_count": 16,
   "id": "e7f6ae48-df42-411e-a9d9-dcc312b1bd1d",
   "metadata": {},
   "outputs": [
    {
     "data": {
      "text/html": [
       "<div><div style = \"float: left;\"><span>246022×22 DataFrame</span></div><div style = \"float: right;\"><span style = \"font-style: italic;\">245997 rows omitted</span></div><div style = \"clear: both;\"></div></div><div class = \"data-frame\" style = \"overflow-x: scroll;\"><table class = \"data-frame\" style = \"margin-bottom: 6px;\"><thead><tr class = \"header\"><th class = \"rowNumber\" style = \"font-weight: bold; text-align: right;\">Row</th><th style = \"text-align: left;\">AlcoholDrinkers</th><th style = \"text-align: left;\">BlindOrVisionDifficulty</th><th style = \"text-align: left;\">ChestScan</th><th style = \"text-align: left;\">DeafOrHardOfHearing</th><th style = \"text-align: left;\">DifficultyConcentrating</th><th style = \"text-align: left;\">DifficultyDressingBathing</th><th style = \"text-align: left;\">DifficultyErrands</th><th style = \"text-align: left;\">DifficultyWalking</th><th style = \"text-align: left;\">FluVaxLast12</th><th style = \"text-align: left;\">HIVTesting</th><th style = \"text-align: left;\">HadAngina</th><th style = \"text-align: left;\">HadArthritis</th><th style = \"text-align: left;\">HadAsthma</th><th style = \"text-align: left;\">HadCOPD</th><th style = \"text-align: left;\">HadDepressiveDisorder</th><th style = \"text-align: left;\">HadHeartAttack</th><th style = \"text-align: left;\">HadKidneyDisease</th><th style = \"text-align: left;\">HadSkinCancer</th><th style = \"text-align: left;\">HadStroke</th><th style = \"text-align: left;\">HighRiskLastYear</th><th style = \"text-align: left;\">PhysicalActivities</th><th style = \"text-align: left;\">PneumoVaxEver</th></tr><tr class = \"subheader headerLastRow\"><th class = \"rowNumber\" style = \"font-weight: bold; text-align: right;\"></th><th title = \"Any\" style = \"text-align: left;\">Any</th><th title = \"Any\" style = \"text-align: left;\">Any</th><th title = \"Any\" style = \"text-align: left;\">Any</th><th title = \"Any\" style = \"text-align: left;\">Any</th><th title = \"Any\" style = \"text-align: left;\">Any</th><th title = \"Any\" style = \"text-align: left;\">Any</th><th title = \"Any\" style = \"text-align: left;\">Any</th><th title = \"Any\" style = \"text-align: left;\">Any</th><th title = \"Any\" style = \"text-align: left;\">Any</th><th title = \"Any\" style = \"text-align: left;\">Any</th><th title = \"Any\" style = \"text-align: left;\">Any</th><th title = \"Any\" style = \"text-align: left;\">Any</th><th title = \"Any\" style = \"text-align: left;\">Any</th><th title = \"Any\" style = \"text-align: left;\">Any</th><th title = \"Any\" style = \"text-align: left;\">Any</th><th title = \"Any\" style = \"text-align: left;\">Any</th><th title = \"Any\" style = \"text-align: left;\">Any</th><th title = \"Any\" style = \"text-align: left;\">Any</th><th title = \"Any\" style = \"text-align: left;\">Any</th><th title = \"Any\" style = \"text-align: left;\">Any</th><th title = \"Any\" style = \"text-align: left;\">Any</th><th title = \"Any\" style = \"text-align: left;\">Any</th></tr></thead><tbody><tr><td class = \"rowNumber\" style = \"font-weight: bold; text-align: right;\">1</td><td style = \"text-align: left;\">0</td><td style = \"text-align: left;\">0</td><td style = \"text-align: left;\">0</td><td style = \"text-align: left;\">0</td><td style = \"text-align: left;\">0</td><td style = \"text-align: left;\">0</td><td style = \"text-align: left;\">0</td><td style = \"text-align: left;\">0</td><td style = \"text-align: left;\">1</td><td style = \"text-align: left;\">0</td><td style = \"text-align: left;\">0</td><td style = \"text-align: left;\">1</td><td style = \"text-align: left;\">0</td><td style = \"text-align: left;\">0</td><td style = \"text-align: left;\">0</td><td style = \"text-align: left;\">0</td><td style = \"text-align: left;\">0</td><td style = \"text-align: left;\">0</td><td style = \"text-align: left;\">0</td><td style = \"text-align: left;\">0</td><td style = \"text-align: left;\">1</td><td style = \"text-align: left;\">1</td></tr><tr><td class = \"rowNumber\" style = \"font-weight: bold; text-align: right;\">2</td><td style = \"text-align: left;\">0</td><td style = \"text-align: left;\">0</td><td style = \"text-align: left;\">0</td><td style = \"text-align: left;\">0</td><td style = \"text-align: left;\">0</td><td style = \"text-align: left;\">0</td><td style = \"text-align: left;\">0</td><td style = \"text-align: left;\">0</td><td style = \"text-align: left;\">1</td><td style = \"text-align: left;\">0</td><td style = \"text-align: left;\">0</td><td style = \"text-align: left;\">1</td><td style = \"text-align: left;\">0</td><td style = \"text-align: left;\">0</td><td style = \"text-align: left;\">0</td><td style = \"text-align: left;\">0</td><td style = \"text-align: left;\">0</td><td style = \"text-align: left;\">0</td><td style = \"text-align: left;\">0</td><td style = \"text-align: left;\">0</td><td style = \"text-align: left;\">1</td><td style = \"text-align: left;\">1</td></tr><tr><td class = \"rowNumber\" style = \"font-weight: bold; text-align: right;\">3</td><td style = \"text-align: left;\">1</td><td style = \"text-align: left;\">1</td><td style = \"text-align: left;\">1</td><td style = \"text-align: left;\">0</td><td style = \"text-align: left;\">0</td><td style = \"text-align: left;\">0</td><td style = \"text-align: left;\">0</td><td style = \"text-align: left;\">1</td><td style = \"text-align: left;\">0</td><td style = \"text-align: left;\">0</td><td style = \"text-align: left;\">0</td><td style = \"text-align: left;\">1</td><td style = \"text-align: left;\">0</td><td style = \"text-align: left;\">0</td><td style = \"text-align: left;\">0</td><td style = \"text-align: left;\">0</td><td style = \"text-align: left;\">0</td><td style = \"text-align: left;\">0</td><td style = \"text-align: left;\">0</td><td style = \"text-align: left;\">0</td><td style = \"text-align: left;\">0</td><td style = \"text-align: left;\">1</td></tr><tr><td class = \"rowNumber\" style = \"font-weight: bold; text-align: right;\">4</td><td style = \"text-align: left;\">0</td><td style = \"text-align: left;\">0</td><td style = \"text-align: left;\">0</td><td style = \"text-align: left;\">0</td><td style = \"text-align: left;\">0</td><td style = \"text-align: left;\">0</td><td style = \"text-align: left;\">0</td><td style = \"text-align: left;\">1</td><td style = \"text-align: left;\">1</td><td style = \"text-align: left;\">0</td><td style = \"text-align: left;\">0</td><td style = \"text-align: left;\">1</td><td style = \"text-align: left;\">0</td><td style = \"text-align: left;\">0</td><td style = \"text-align: left;\">1</td><td style = \"text-align: left;\">0</td><td style = \"text-align: left;\">0</td><td style = \"text-align: left;\">1</td><td style = \"text-align: left;\">0</td><td style = \"text-align: left;\">0</td><td style = \"text-align: left;\">1</td><td style = \"text-align: left;\">1</td></tr><tr><td class = \"rowNumber\" style = \"font-weight: bold; text-align: right;\">5</td><td style = \"text-align: left;\">0</td><td style = \"text-align: left;\">0</td><td style = \"text-align: left;\">0</td><td style = \"text-align: left;\">0</td><td style = \"text-align: left;\">0</td><td style = \"text-align: left;\">0</td><td style = \"text-align: left;\">0</td><td style = \"text-align: left;\">0</td><td style = \"text-align: left;\">1</td><td style = \"text-align: left;\">0</td><td style = \"text-align: left;\">0</td><td style = \"text-align: left;\">1</td><td style = \"text-align: left;\">0</td><td style = \"text-align: left;\">0</td><td style = \"text-align: left;\">0</td><td style = \"text-align: left;\">0</td><td style = \"text-align: left;\">0</td><td style = \"text-align: left;\">0</td><td style = \"text-align: left;\">0</td><td style = \"text-align: left;\">0</td><td style = \"text-align: left;\">1</td><td style = \"text-align: left;\">1</td></tr><tr><td class = \"rowNumber\" style = \"font-weight: bold; text-align: right;\">6</td><td style = \"text-align: left;\">1</td><td style = \"text-align: left;\">0</td><td style = \"text-align: left;\">1</td><td style = \"text-align: left;\">0</td><td style = \"text-align: left;\">0</td><td style = \"text-align: left;\">0</td><td style = \"text-align: left;\">0</td><td style = \"text-align: left;\">0</td><td style = \"text-align: left;\">1</td><td style = \"text-align: left;\">1</td><td style = \"text-align: left;\">0</td><td style = \"text-align: left;\">0</td><td style = \"text-align: left;\">0</td><td style = \"text-align: left;\">0</td><td style = \"text-align: left;\">0</td><td style = \"text-align: left;\">0</td><td style = \"text-align: left;\">0</td><td style = \"text-align: left;\">0</td><td style = \"text-align: left;\">0</td><td style = \"text-align: left;\">0</td><td style = \"text-align: left;\">1</td><td style = \"text-align: left;\">0</td></tr><tr><td class = \"rowNumber\" style = \"font-weight: bold; text-align: right;\">7</td><td style = \"text-align: left;\">0</td><td style = \"text-align: left;\">0</td><td style = \"text-align: left;\">1</td><td style = \"text-align: left;\">0</td><td style = \"text-align: left;\">0</td><td style = \"text-align: left;\">0</td><td style = \"text-align: left;\">0</td><td style = \"text-align: left;\">0</td><td style = \"text-align: left;\">1</td><td style = \"text-align: left;\">0</td><td style = \"text-align: left;\">0</td><td style = \"text-align: left;\">0</td><td style = \"text-align: left;\">0</td><td style = \"text-align: left;\">0</td><td style = \"text-align: left;\">0</td><td style = \"text-align: left;\">0</td><td style = \"text-align: left;\">0</td><td style = \"text-align: left;\">0</td><td style = \"text-align: left;\">1</td><td style = \"text-align: left;\">0</td><td style = \"text-align: left;\">1</td><td style = \"text-align: left;\">1</td></tr><tr><td class = \"rowNumber\" style = \"font-weight: bold; text-align: right;\">8</td><td style = \"text-align: left;\">0</td><td style = \"text-align: left;\">0</td><td style = \"text-align: left;\">1</td><td style = \"text-align: left;\">0</td><td style = \"text-align: left;\">0</td><td style = \"text-align: left;\">0</td><td style = \"text-align: left;\">0</td><td style = \"text-align: left;\">0</td><td style = \"text-align: left;\">1</td><td style = \"text-align: left;\">1</td><td style = \"text-align: left;\">1</td><td style = \"text-align: left;\">1</td><td style = \"text-align: left;\">0</td><td style = \"text-align: left;\">0</td><td style = \"text-align: left;\">0</td><td style = \"text-align: left;\">1</td><td style = \"text-align: left;\">0</td><td style = \"text-align: left;\">1</td><td style = \"text-align: left;\">0</td><td style = \"text-align: left;\">0</td><td style = \"text-align: left;\">1</td><td style = \"text-align: left;\">1</td></tr><tr><td class = \"rowNumber\" style = \"font-weight: bold; text-align: right;\">9</td><td style = \"text-align: left;\">0</td><td style = \"text-align: left;\">0</td><td style = \"text-align: left;\">1</td><td style = \"text-align: left;\">1</td><td style = \"text-align: left;\">0</td><td style = \"text-align: left;\">0</td><td style = \"text-align: left;\">0</td><td style = \"text-align: left;\">0</td><td style = \"text-align: left;\">0</td><td style = \"text-align: left;\">0</td><td style = \"text-align: left;\">0</td><td style = \"text-align: left;\">1</td><td style = \"text-align: left;\">0</td><td style = \"text-align: left;\">0</td><td style = \"text-align: left;\">0</td><td style = \"text-align: left;\">0</td><td style = \"text-align: left;\">0</td><td style = \"text-align: left;\">0</td><td style = \"text-align: left;\">0</td><td style = \"text-align: left;\">0</td><td style = \"text-align: left;\">0</td><td style = \"text-align: left;\">0</td></tr><tr><td class = \"rowNumber\" style = \"font-weight: bold; text-align: right;\">10</td><td style = \"text-align: left;\">0</td><td style = \"text-align: left;\">0</td><td style = \"text-align: left;\">1</td><td style = \"text-align: left;\">0</td><td style = \"text-align: left;\">0</td><td style = \"text-align: left;\">0</td><td style = \"text-align: left;\">0</td><td style = \"text-align: left;\">0</td><td style = \"text-align: left;\">1</td><td style = \"text-align: left;\">0</td><td style = \"text-align: left;\">0</td><td style = \"text-align: left;\">1</td><td style = \"text-align: left;\">1</td><td style = \"text-align: left;\">0</td><td style = \"text-align: left;\">0</td><td style = \"text-align: left;\">0</td><td style = \"text-align: left;\">0</td><td style = \"text-align: left;\">1</td><td style = \"text-align: left;\">0</td><td style = \"text-align: left;\">0</td><td style = \"text-align: left;\">1</td><td style = \"text-align: left;\">1</td></tr><tr><td class = \"rowNumber\" style = \"font-weight: bold; text-align: right;\">11</td><td style = \"text-align: left;\">1</td><td style = \"text-align: left;\">0</td><td style = \"text-align: left;\">1</td><td style = \"text-align: left;\">0</td><td style = \"text-align: left;\">0</td><td style = \"text-align: left;\">0</td><td style = \"text-align: left;\">0</td><td style = \"text-align: left;\">0</td><td style = \"text-align: left;\">1</td><td style = \"text-align: left;\">0</td><td style = \"text-align: left;\">0</td><td style = \"text-align: left;\">0</td><td style = \"text-align: left;\">0</td><td style = \"text-align: left;\">0</td><td style = \"text-align: left;\">0</td><td style = \"text-align: left;\">0</td><td style = \"text-align: left;\">0</td><td style = \"text-align: left;\">0</td><td style = \"text-align: left;\">0</td><td style = \"text-align: left;\">0</td><td style = \"text-align: left;\">1</td><td style = \"text-align: left;\">1</td></tr><tr><td class = \"rowNumber\" style = \"font-weight: bold; text-align: right;\">12</td><td style = \"text-align: left;\">0</td><td style = \"text-align: left;\">0</td><td style = \"text-align: left;\">0</td><td style = \"text-align: left;\">0</td><td style = \"text-align: left;\">0</td><td style = \"text-align: left;\">0</td><td style = \"text-align: left;\">0</td><td style = \"text-align: left;\">1</td><td style = \"text-align: left;\">0</td><td style = \"text-align: left;\">0</td><td style = \"text-align: left;\">0</td><td style = \"text-align: left;\">1</td><td style = \"text-align: left;\">0</td><td style = \"text-align: left;\">0</td><td style = \"text-align: left;\">0</td><td style = \"text-align: left;\">0</td><td style = \"text-align: left;\">0</td><td style = \"text-align: left;\">0</td><td style = \"text-align: left;\">0</td><td style = \"text-align: left;\">0</td><td style = \"text-align: left;\">1</td><td style = \"text-align: left;\">0</td></tr><tr><td class = \"rowNumber\" style = \"font-weight: bold; text-align: right;\">13</td><td style = \"text-align: left;\">0</td><td style = \"text-align: left;\">0</td><td style = \"text-align: left;\">1</td><td style = \"text-align: left;\">0</td><td style = \"text-align: left;\">1</td><td style = \"text-align: left;\">0</td><td style = \"text-align: left;\">0</td><td style = \"text-align: left;\">1</td><td style = \"text-align: left;\">1</td><td style = \"text-align: left;\">0</td><td style = \"text-align: left;\">0</td><td style = \"text-align: left;\">1</td><td style = \"text-align: left;\">0</td><td style = \"text-align: left;\">0</td><td style = \"text-align: left;\">0</td><td style = \"text-align: left;\">1</td><td style = \"text-align: left;\">0</td><td style = \"text-align: left;\">1</td><td style = \"text-align: left;\">0</td><td style = \"text-align: left;\">0</td><td style = \"text-align: left;\">1</td><td style = \"text-align: left;\">1</td></tr><tr><td style = \"text-align: right;\">&vellip;</td><td style = \"text-align: right;\">&vellip;</td><td style = \"text-align: right;\">&vellip;</td><td style = \"text-align: right;\">&vellip;</td><td style = \"text-align: right;\">&vellip;</td><td style = \"text-align: right;\">&vellip;</td><td style = \"text-align: right;\">&vellip;</td><td style = \"text-align: right;\">&vellip;</td><td style = \"text-align: right;\">&vellip;</td><td style = \"text-align: right;\">&vellip;</td><td style = \"text-align: right;\">&vellip;</td><td style = \"text-align: right;\">&vellip;</td><td style = \"text-align: right;\">&vellip;</td><td style = \"text-align: right;\">&vellip;</td><td style = \"text-align: right;\">&vellip;</td><td style = \"text-align: right;\">&vellip;</td><td style = \"text-align: right;\">&vellip;</td><td style = \"text-align: right;\">&vellip;</td><td style = \"text-align: right;\">&vellip;</td><td style = \"text-align: right;\">&vellip;</td><td style = \"text-align: right;\">&vellip;</td><td style = \"text-align: right;\">&vellip;</td><td style = \"text-align: right;\">&vellip;</td></tr><tr><td class = \"rowNumber\" style = \"font-weight: bold; text-align: right;\">246011</td><td style = \"text-align: left;\">1</td><td style = \"text-align: left;\">0</td><td style = \"text-align: left;\">0</td><td style = \"text-align: left;\">0</td><td style = \"text-align: left;\">0</td><td style = \"text-align: left;\">0</td><td style = \"text-align: left;\">0</td><td style = \"text-align: left;\">0</td><td style = \"text-align: left;\">0</td><td style = \"text-align: left;\">1</td><td style = \"text-align: left;\">0</td><td style = \"text-align: left;\">1</td><td style = \"text-align: left;\">0</td><td style = \"text-align: left;\">0</td><td style = \"text-align: left;\">0</td><td style = \"text-align: left;\">0</td><td style = \"text-align: left;\">0</td><td style = \"text-align: left;\">0</td><td style = \"text-align: left;\">0</td><td style = \"text-align: left;\">0</td><td style = \"text-align: left;\">1</td><td style = \"text-align: left;\">0</td></tr><tr><td class = \"rowNumber\" style = \"font-weight: bold; text-align: right;\">246012</td><td style = \"text-align: left;\">0</td><td style = \"text-align: left;\">0</td><td style = \"text-align: left;\">0</td><td style = \"text-align: left;\">0</td><td style = \"text-align: left;\">0</td><td style = \"text-align: left;\">0</td><td style = \"text-align: left;\">0</td><td style = \"text-align: left;\">0</td><td style = \"text-align: left;\">0</td><td style = \"text-align: left;\">1</td><td style = \"text-align: left;\">0</td><td style = \"text-align: left;\">0</td><td style = \"text-align: left;\">0</td><td style = \"text-align: left;\">0</td><td style = \"text-align: left;\">0</td><td style = \"text-align: left;\">0</td><td style = \"text-align: left;\">0</td><td style = \"text-align: left;\">0</td><td style = \"text-align: left;\">0</td><td style = \"text-align: left;\">0</td><td style = \"text-align: left;\">1</td><td style = \"text-align: left;\">1</td></tr><tr><td class = \"rowNumber\" style = \"font-weight: bold; text-align: right;\">246013</td><td style = \"text-align: left;\">1</td><td style = \"text-align: left;\">0</td><td style = \"text-align: left;\">1</td><td style = \"text-align: left;\">1</td><td style = \"text-align: left;\">0</td><td style = \"text-align: left;\">0</td><td style = \"text-align: left;\">0</td><td style = \"text-align: left;\">0</td><td style = \"text-align: left;\">0</td><td style = \"text-align: left;\">1</td><td style = \"text-align: left;\">1</td><td style = \"text-align: left;\">0</td><td style = \"text-align: left;\">0</td><td style = \"text-align: left;\">0</td><td style = \"text-align: left;\">0</td><td style = \"text-align: left;\">1</td><td style = \"text-align: left;\">0</td><td style = \"text-align: left;\">0</td><td style = \"text-align: left;\">0</td><td style = \"text-align: left;\">0</td><td style = \"text-align: left;\">0</td><td style = \"text-align: left;\">0</td></tr><tr><td class = \"rowNumber\" style = \"font-weight: bold; text-align: right;\">246014</td><td style = \"text-align: left;\">1</td><td style = \"text-align: left;\">0</td><td style = \"text-align: left;\">0</td><td style = \"text-align: left;\">0</td><td style = \"text-align: left;\">1</td><td style = \"text-align: left;\">0</td><td style = \"text-align: left;\">1</td><td style = \"text-align: left;\">0</td><td style = \"text-align: left;\">0</td><td style = \"text-align: left;\">0</td><td style = \"text-align: left;\">0</td><td style = \"text-align: left;\">0</td><td style = \"text-align: left;\">0</td><td style = \"text-align: left;\">0</td><td style = \"text-align: left;\">1</td><td style = \"text-align: left;\">0</td><td style = \"text-align: left;\">0</td><td style = \"text-align: left;\">0</td><td style = \"text-align: left;\">0</td><td style = \"text-align: left;\">0</td><td style = \"text-align: left;\">0</td><td style = \"text-align: left;\">0</td></tr><tr><td class = \"rowNumber\" style = \"font-weight: bold; text-align: right;\">246015</td><td style = \"text-align: left;\">0</td><td style = \"text-align: left;\">0</td><td style = \"text-align: left;\">0</td><td style = \"text-align: left;\">0</td><td style = \"text-align: left;\">0</td><td style = \"text-align: left;\">0</td><td style = \"text-align: left;\">0</td><td style = \"text-align: left;\">0</td><td style = \"text-align: left;\">0</td><td style = \"text-align: left;\">0</td><td style = \"text-align: left;\">0</td><td style = \"text-align: left;\">0</td><td style = \"text-align: left;\">0</td><td style = \"text-align: left;\">0</td><td style = \"text-align: left;\">0</td><td style = \"text-align: left;\">0</td><td style = \"text-align: left;\">0</td><td style = \"text-align: left;\">0</td><td style = \"text-align: left;\">0</td><td style = \"text-align: left;\">0</td><td style = \"text-align: left;\">1</td><td style = \"text-align: left;\">1</td></tr><tr><td class = \"rowNumber\" style = \"font-weight: bold; text-align: right;\">246016</td><td style = \"text-align: left;\">1</td><td style = \"text-align: left;\">0</td><td style = \"text-align: left;\">0</td><td style = \"text-align: left;\">0</td><td style = \"text-align: left;\">0</td><td style = \"text-align: left;\">0</td><td style = \"text-align: left;\">0</td><td style = \"text-align: left;\">0</td><td style = \"text-align: left;\">0</td><td style = \"text-align: left;\">1</td><td style = \"text-align: left;\">0</td><td style = \"text-align: left;\">0</td><td style = \"text-align: left;\">0</td><td style = \"text-align: left;\">0</td><td style = \"text-align: left;\">0</td><td style = \"text-align: left;\">0</td><td style = \"text-align: left;\">0</td><td style = \"text-align: left;\">0</td><td style = \"text-align: left;\">0</td><td style = \"text-align: left;\">0</td><td style = \"text-align: left;\">1</td><td style = \"text-align: left;\">0</td></tr><tr><td class = \"rowNumber\" style = \"font-weight: bold; text-align: right;\">246017</td><td style = \"text-align: left;\">1</td><td style = \"text-align: left;\">0</td><td style = \"text-align: left;\">1</td><td style = \"text-align: left;\">0</td><td style = \"text-align: left;\">0</td><td style = \"text-align: left;\">0</td><td style = \"text-align: left;\">0</td><td style = \"text-align: left;\">0</td><td style = \"text-align: left;\">1</td><td style = \"text-align: left;\">1</td><td style = \"text-align: left;\">0</td><td style = \"text-align: left;\">0</td><td style = \"text-align: left;\">0</td><td style = \"text-align: left;\">0</td><td style = \"text-align: left;\">0</td><td style = \"text-align: left;\">1</td><td style = \"text-align: left;\">0</td><td style = \"text-align: left;\">0</td><td style = \"text-align: left;\">0</td><td style = \"text-align: left;\">0</td><td style = \"text-align: left;\">0</td><td style = \"text-align: left;\">0</td></tr><tr><td class = \"rowNumber\" style = \"font-weight: bold; text-align: right;\">246018</td><td style = \"text-align: left;\">1</td><td style = \"text-align: left;\">0</td><td style = \"text-align: left;\">0</td><td style = \"text-align: left;\">0</td><td style = \"text-align: left;\">0</td><td style = \"text-align: left;\">0</td><td style = \"text-align: left;\">0</td><td style = \"text-align: left;\">0</td><td style = \"text-align: left;\">0</td><td style = \"text-align: left;\">0</td><td style = \"text-align: left;\">0</td><td style = \"text-align: left;\">0</td><td style = \"text-align: left;\">0</td><td style = \"text-align: left;\">0</td><td style = \"text-align: left;\">0</td><td style = \"text-align: left;\">0</td><td style = \"text-align: left;\">0</td><td style = \"text-align: left;\">0</td><td style = \"text-align: left;\">0</td><td style = \"text-align: left;\">0</td><td style = \"text-align: left;\">1</td><td style = \"text-align: left;\">0</td></tr><tr><td class = \"rowNumber\" style = \"font-weight: bold; text-align: right;\">246019</td><td style = \"text-align: left;\">0</td><td style = \"text-align: left;\">0</td><td style = \"text-align: left;\">0</td><td style = \"text-align: left;\">0</td><td style = \"text-align: left;\">0</td><td style = \"text-align: left;\">0</td><td style = \"text-align: left;\">0</td><td style = \"text-align: left;\">0</td><td style = \"text-align: left;\">0</td><td style = \"text-align: left;\">0</td><td style = \"text-align: left;\">0</td><td style = \"text-align: left;\">0</td><td style = \"text-align: left;\">0</td><td style = \"text-align: left;\">0</td><td style = \"text-align: left;\">1</td><td style = \"text-align: left;\">0</td><td style = \"text-align: left;\">0</td><td style = \"text-align: left;\">0</td><td style = \"text-align: left;\">0</td><td style = \"text-align: left;\">0</td><td style = \"text-align: left;\">1</td><td style = \"text-align: left;\">0</td></tr><tr><td class = \"rowNumber\" style = \"font-weight: bold; text-align: right;\">246020</td><td style = \"text-align: left;\">1</td><td style = \"text-align: left;\">0</td><td style = \"text-align: left;\">0</td><td style = \"text-align: left;\">0</td><td style = \"text-align: left;\">0</td><td style = \"text-align: left;\">0</td><td style = \"text-align: left;\">0</td><td style = \"text-align: left;\">0</td><td style = \"text-align: left;\">1</td><td style = \"text-align: left;\">1</td><td style = \"text-align: left;\">0</td><td style = \"text-align: left;\">1</td><td style = \"text-align: left;\">0</td><td style = \"text-align: left;\">0</td><td style = \"text-align: left;\">0</td><td style = \"text-align: left;\">0</td><td style = \"text-align: left;\">0</td><td style = \"text-align: left;\">0</td><td style = \"text-align: left;\">1</td><td style = \"text-align: left;\">0</td><td style = \"text-align: left;\">1</td><td style = \"text-align: left;\">1</td></tr><tr><td class = \"rowNumber\" style = \"font-weight: bold; text-align: right;\">246021</td><td style = \"text-align: left;\">0</td><td style = \"text-align: left;\">0</td><td style = \"text-align: left;\">0</td><td style = \"text-align: left;\">0</td><td style = \"text-align: left;\">0</td><td style = \"text-align: left;\">0</td><td style = \"text-align: left;\">0</td><td style = \"text-align: left;\">0</td><td style = \"text-align: left;\">1</td><td style = \"text-align: left;\">1</td><td style = \"text-align: left;\">0</td><td style = \"text-align: left;\">0</td><td style = \"text-align: left;\">0</td><td style = \"text-align: left;\">0</td><td style = \"text-align: left;\">0</td><td style = \"text-align: left;\">0</td><td style = \"text-align: left;\">0</td><td style = \"text-align: left;\">0</td><td style = \"text-align: left;\">0</td><td style = \"text-align: left;\">0</td><td style = \"text-align: left;\">1</td><td style = \"text-align: left;\">0</td></tr><tr><td class = \"rowNumber\" style = \"font-weight: bold; text-align: right;\">246022</td><td style = \"text-align: left;\">0</td><td style = \"text-align: left;\">0</td><td style = \"text-align: left;\">1</td><td style = \"text-align: left;\">0</td><td style = \"text-align: left;\">0</td><td style = \"text-align: left;\">0</td><td style = \"text-align: left;\">0</td><td style = \"text-align: left;\">0</td><td style = \"text-align: left;\">1</td><td style = \"text-align: left;\">1</td><td style = \"text-align: left;\">0</td><td style = \"text-align: left;\">0</td><td style = \"text-align: left;\">1</td><td style = \"text-align: left;\">0</td><td style = \"text-align: left;\">0</td><td style = \"text-align: left;\">1</td><td style = \"text-align: left;\">0</td><td style = \"text-align: left;\">0</td><td style = \"text-align: left;\">0</td><td style = \"text-align: left;\">0</td><td style = \"text-align: left;\">0</td><td style = \"text-align: left;\">1</td></tr></tbody></table></div>"
      ],
      "text/latex": [
       "\\begin{tabular}{r|cccccc}\n",
       "\t& AlcoholDrinkers & BlindOrVisionDifficulty & ChestScan & DeafOrHardOfHearing & DifficultyConcentrating & \\\\\n",
       "\t\\hline\n",
       "\t& Any & Any & Any & Any & Any & \\\\\n",
       "\t\\hline\n",
       "\t1 & 0 & 0 & 0 & 0 & 0 & $\\dots$ \\\\\n",
       "\t2 & 0 & 0 & 0 & 0 & 0 & $\\dots$ \\\\\n",
       "\t3 & 1 & 1 & 1 & 0 & 0 & $\\dots$ \\\\\n",
       "\t4 & 0 & 0 & 0 & 0 & 0 & $\\dots$ \\\\\n",
       "\t5 & 0 & 0 & 0 & 0 & 0 & $\\dots$ \\\\\n",
       "\t6 & 1 & 0 & 1 & 0 & 0 & $\\dots$ \\\\\n",
       "\t7 & 0 & 0 & 1 & 0 & 0 & $\\dots$ \\\\\n",
       "\t8 & 0 & 0 & 1 & 0 & 0 & $\\dots$ \\\\\n",
       "\t9 & 0 & 0 & 1 & 1 & 0 & $\\dots$ \\\\\n",
       "\t10 & 0 & 0 & 1 & 0 & 0 & $\\dots$ \\\\\n",
       "\t11 & 1 & 0 & 1 & 0 & 0 & $\\dots$ \\\\\n",
       "\t12 & 0 & 0 & 0 & 0 & 0 & $\\dots$ \\\\\n",
       "\t13 & 0 & 0 & 1 & 0 & 1 & $\\dots$ \\\\\n",
       "\t14 & 0 & 0 & 0 & 0 & 0 & $\\dots$ \\\\\n",
       "\t15 & 0 & 0 & 1 & 1 & 1 & $\\dots$ \\\\\n",
       "\t16 & 0 & 0 & 1 & 0 & 0 & $\\dots$ \\\\\n",
       "\t17 & 0 & 0 & 1 & 0 & 0 & $\\dots$ \\\\\n",
       "\t18 & 1 & 0 & 1 & 0 & 0 & $\\dots$ \\\\\n",
       "\t19 & 0 & 0 & 0 & 0 & 0 & $\\dots$ \\\\\n",
       "\t20 & 0 & 0 & 0 & 0 & 1 & $\\dots$ \\\\\n",
       "\t21 & 0 & 0 & 1 & 1 & 1 & $\\dots$ \\\\\n",
       "\t22 & 0 & 0 & 1 & 1 & 1 & $\\dots$ \\\\\n",
       "\t23 & 1 & 0 & 1 & 0 & 0 & $\\dots$ \\\\\n",
       "\t24 & 1 & 0 & 0 & 0 & 0 & $\\dots$ \\\\\n",
       "\t25 & 0 & 1 & 1 & 0 & 0 & $\\dots$ \\\\\n",
       "\t26 & 0 & 0 & 1 & 0 & 0 & $\\dots$ \\\\\n",
       "\t27 & 0 & 0 & 1 & 1 & 1 & $\\dots$ \\\\\n",
       "\t28 & 1 & 0 & 0 & 0 & 0 & $\\dots$ \\\\\n",
       "\t29 & 0 & 0 & 0 & 0 & 0 & $\\dots$ \\\\\n",
       "\t30 & 0 & 0 & 0 & 0 & 0 & $\\dots$ \\\\\n",
       "\t$\\dots$ & $\\dots$ & $\\dots$ & $\\dots$ & $\\dots$ & $\\dots$ &  \\\\\n",
       "\\end{tabular}\n"
      ],
      "text/plain": [
       "\u001b[1m246022×22 DataFrame\u001b[0m\n",
       "\u001b[1m    Row \u001b[0m│\u001b[1m AlcoholDrinkers \u001b[0m\u001b[1m BlindOrVisionDifficulty \u001b[0m\u001b[1m ChestScan \u001b[0m\u001b[1m DeafOrHardOfHea\u001b[0m ⋯\n",
       "        │\u001b[90m Any             \u001b[0m\u001b[90m Any                     \u001b[0m\u001b[90m Any       \u001b[0m\u001b[90m Any            \u001b[0m ⋯\n",
       "────────┼───────────────────────────────────────────────────────────────────────\n",
       "      1 │ 0                0                        0          0               ⋯\n",
       "      2 │ 0                0                        0          0\n",
       "      3 │ 1                1                        1          0\n",
       "      4 │ 0                0                        0          0\n",
       "      5 │ 0                0                        0          0               ⋯\n",
       "      6 │ 1                0                        1          0\n",
       "      7 │ 0                0                        1          0\n",
       "      8 │ 0                0                        1          0\n",
       "      9 │ 0                0                        1          1               ⋯\n",
       "     10 │ 0                0                        1          0\n",
       "     11 │ 1                0                        1          0\n",
       "   ⋮    │        ⋮                    ⋮                 ⋮               ⋮      ⋱\n",
       " 246013 │ 1                0                        1          1\n",
       " 246014 │ 1                0                        0          0               ⋯\n",
       " 246015 │ 0                0                        0          0\n",
       " 246016 │ 1                0                        0          0\n",
       " 246017 │ 1                0                        1          0\n",
       " 246018 │ 1                0                        0          0               ⋯\n",
       " 246019 │ 0                0                        0          0\n",
       " 246020 │ 1                0                        0          0\n",
       " 246021 │ 0                0                        0          0\n",
       " 246022 │ 0                0                        1          0               ⋯\n",
       "\u001b[36m                                              19 columns and 246001 rows omitted\u001b[0m"
      ]
     },
     "execution_count": 16,
     "metadata": {},
     "output_type": "execute_result"
    }
   ],
   "source": [
    "df_new = col_to_binary(df)"
   ]
  },
  {
   "cell_type": "code",
   "execution_count": 17,
   "id": "376bd2c4-ae5a-402b-9a01-cf630303c51b",
   "metadata": {},
   "outputs": [
    {
     "data": {
      "text/plain": [
       "\"converted_bool_only.csv\""
      ]
     },
     "execution_count": 17,
     "metadata": {},
     "output_type": "execute_result"
    }
   ],
   "source": [
    "CSV.write(\"converted_bool_only.csv\", df_new)"
   ]
  },
  {
   "cell_type": "code",
   "execution_count": 168,
   "id": "317c7829-9196-472d-8a79-62c695f55d61",
   "metadata": {},
   "outputs": [],
   "source": [
    "final_row = []\n",
    "\n",
    "for col in collect(df_new[1, :])\n",
    "    append!(final_row, col)\n",
    "end"
   ]
  },
  {
   "cell_type": "code",
   "execution_count": 169,
   "id": "9e765ac4-820e-4fff-93c6-d6d5b59b4650",
   "metadata": {},
   "outputs": [
    {
     "data": {
      "text/plain": [
       "73-element Vector{Any}:\n",
       " 1\n",
       " 0\n",
       " 0\n",
       " 0\n",
       " 1\n",
       " 1\n",
       " 1\n",
       " 0\n",
       " 0\n",
       " 1\n",
       " 1\n",
       " 0\n",
       " 0\n",
       " ⋮\n",
       " 0\n",
       " 1\n",
       " 0\n",
       " 0\n",
       " 0\n",
       " 1\n",
       " 0\n",
       " 0\n",
       " 1\n",
       " 0\n",
       " 0\n",
       " 0"
      ]
     },
     "execution_count": 169,
     "metadata": {},
     "output_type": "execute_result"
    }
   ],
   "source": [
    "final_row"
   ]
  },
  {
   "cell_type": "code",
   "execution_count": null,
   "id": "ad83beb4-565c-47fa-a252-962cec533eab",
   "metadata": {},
   "outputs": [],
   "source": []
  },
  {
   "cell_type": "code",
   "execution_count": 153,
   "id": "a98c46d8-4fb6-4229-a78a-10940d7f4cb0",
   "metadata": {},
   "outputs": [
    {
     "data": {
      "text/plain": [
       "3-element Vector{Int64}:\n",
       " 0\n",
       " 1\n",
       " 1"
      ]
     },
     "execution_count": 153,
     "metadata": {},
     "output_type": "execute_result"
    }
   ],
   "source": [
    "int_to_bin_array(3, round(Int,log2(4)+1))"
   ]
  },
  {
   "cell_type": "code",
   "execution_count": null,
   "id": "8b79829d-3876-4d4b-8e36-109dff0a0a10",
   "metadata": {},
   "outputs": [],
   "source": []
  }
 ],
 "metadata": {
  "kernelspec": {
   "display_name": "Julia 1.10.3",
   "language": "julia",
   "name": "julia-1.10"
  },
  "language_info": {
   "file_extension": ".jl",
   "mimetype": "application/julia",
   "name": "julia",
   "version": "1.10.3"
  }
 },
 "nbformat": 4,
 "nbformat_minor": 5
}
