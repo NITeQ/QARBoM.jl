{
 "cells": [
  {
   "cell_type": "code",
   "execution_count": 3,
   "id": "b79db771-e63a-40a2-9bea-2bdd7e50a821",
   "metadata": {
    "scrolled": true
   },
   "outputs": [
    {
     "name": "stderr",
     "output_type": "stream",
     "text": [
      "\u001b[32m\u001b[1m    Updating\u001b[22m\u001b[39m registry at `~/.julia/registries/General.toml`\n"
     ]
    },
    {
     "ename": "LoadError",
     "evalue": "Unsatisfiable requirements detected for package \u001b[38;5;1mQUBOTools [60eb5b62]\u001b[39m:\n \u001b[38;5;1mQUBOTools [60eb5b62]\u001b[39m log:\n ├─possible versions are: \u001b[38;5;1m0.1.0-0.9.2\u001b[39m or uninstalled\n ├─restricted by compatibility requirements with \u001b[38;5;6mQUBO [ce8c2e91]\u001b[39m to versions: \u001b[38;5;1m0.9.2\u001b[39m\n │ └─\u001b[38;5;6mQUBO [ce8c2e91]\u001b[39m log:\n │   ├─possible versions are: \u001b[38;5;6m0.1.0-0.3.0\u001b[39m or uninstalled\n │   └─restricted to versions \u001b[38;5;6m0.3\u001b[39m by \u001b[38;5;4mQARBoM [5d121597]\u001b[39m, leaving only versions \u001b[38;5;6m0.3.0\u001b[39m\n │     └─\u001b[38;5;4mQARBoM [5d121597]\u001b[39m log:\n │       ├─possible versions are: \u001b[38;5;4m0.1.0\u001b[39m or uninstalled\n │       └─\u001b[38;5;4mQARBoM [5d121597]\u001b[39m is fixed to version \u001b[38;5;4m0.1.0\u001b[39m\n └─restricted by julia compatibility requirements to versions: \u001b[38;5;1m0.1.0-0.8.1\u001b[39m or uninstalled — no versions left",
     "output_type": "error",
     "traceback": [
      "Unsatisfiable requirements detected for package \u001b[38;5;1mQUBOTools [60eb5b62]\u001b[39m:\n \u001b[38;5;1mQUBOTools [60eb5b62]\u001b[39m log:\n ├─possible versions are: \u001b[38;5;1m0.1.0-0.9.2\u001b[39m or uninstalled\n ├─restricted by compatibility requirements with \u001b[38;5;6mQUBO [ce8c2e91]\u001b[39m to versions: \u001b[38;5;1m0.9.2\u001b[39m\n │ └─\u001b[38;5;6mQUBO [ce8c2e91]\u001b[39m log:\n │   ├─possible versions are: \u001b[38;5;6m0.1.0-0.3.0\u001b[39m or uninstalled\n │   └─restricted to versions \u001b[38;5;6m0.3\u001b[39m by \u001b[38;5;4mQARBoM [5d121597]\u001b[39m, leaving only versions \u001b[38;5;6m0.3.0\u001b[39m\n │     └─\u001b[38;5;4mQARBoM [5d121597]\u001b[39m log:\n │       ├─possible versions are: \u001b[38;5;4m0.1.0\u001b[39m or uninstalled\n │       └─\u001b[38;5;4mQARBoM [5d121597]\u001b[39m is fixed to version \u001b[38;5;4m0.1.0\u001b[39m\n └─restricted by julia compatibility requirements to versions: \u001b[38;5;1m0.1.0-0.8.1\u001b[39m or uninstalled — no versions left",
      "",
      "Stacktrace:",
      "  [1] propagate_constraints!(graph::Pkg.Resolve.Graph, sources::Set{Int64}; log_events::Bool)",
      "    @ Pkg.Resolve /Applications/Julia-1.8.app/Contents/Resources/julia/share/julia/stdlib/v1.8/Pkg/src/Resolve/graphtype.jl:1072",
      "  [2] propagate_constraints! (repeats 2 times)",
      "    @ /Applications/Julia-1.8.app/Contents/Resources/julia/share/julia/stdlib/v1.8/Pkg/src/Resolve/graphtype.jl:1008 [inlined]",
      "  [3] simplify_graph!(graph::Pkg.Resolve.Graph, sources::Set{Int64}; clean_graph::Bool)",
      "    @ Pkg.Resolve /Applications/Julia-1.8.app/Contents/Resources/julia/share/julia/stdlib/v1.8/Pkg/src/Resolve/graphtype.jl:1533",
      "  [4] simplify_graph! (repeats 2 times)",
      "    @ /Applications/Julia-1.8.app/Contents/Resources/julia/share/julia/stdlib/v1.8/Pkg/src/Resolve/graphtype.jl:1532 [inlined]",
      "  [5] resolve_versions!(env::Pkg.Types.EnvCache, registries::Vector{Pkg.Registry.RegistryInstance}, pkgs::Vector{Pkg.Types.PackageSpec}, julia_version::VersionNumber)",
      "    @ Pkg.Operations /Applications/Julia-1.8.app/Contents/Resources/julia/share/julia/stdlib/v1.8/Pkg/src/Operations.jl:352",
      "  [6] up(ctx::Pkg.Types.Context, pkgs::Vector{Pkg.Types.PackageSpec}, level::Pkg.Types.UpgradeLevel; skip_writing_project::Bool)",
      "    @ Pkg.Operations /Applications/Julia-1.8.app/Contents/Resources/julia/share/julia/stdlib/v1.8/Pkg/src/Operations.jl:1364",
      "  [7] up(ctx::Pkg.Types.Context, pkgs::Vector{Pkg.Types.PackageSpec}; level::Pkg.Types.UpgradeLevel, mode::Pkg.Types.PackageMode, update_registry::Bool, skip_writing_project::Bool, kwargs::Base.Pairs{Symbol, IJulia.IJuliaStdio{Base.PipeEndpoint}, Tuple{Symbol}, NamedTuple{(:io,), Tuple{IJulia.IJuliaStdio{Base.PipeEndpoint}}}})",
      "    @ Pkg.API /Applications/Julia-1.8.app/Contents/Resources/julia/share/julia/stdlib/v1.8/Pkg/src/API.jl:341",
      "  [8] up(pkgs::Vector{Pkg.Types.PackageSpec}; io::IJulia.IJuliaStdio{Base.PipeEndpoint}, kwargs::Base.Pairs{Symbol, Pkg.Types.PackageMode, Tuple{Symbol}, NamedTuple{(:mode,), Tuple{Pkg.Types.PackageMode}}})",
      "    @ Pkg.API /Applications/Julia-1.8.app/Contents/Resources/julia/share/julia/stdlib/v1.8/Pkg/src/API.jl:156",
      "  [9] up(; name::Nothing, uuid::Nothing, version::Nothing, url::Nothing, rev::Nothing, path::Nothing, mode::Pkg.Types.PackageMode, subdir::Nothing, kwargs::Base.Pairs{Symbol, Union{}, Tuple{}, NamedTuple{(), Tuple{}}})",
      "    @ Pkg.API /Applications/Julia-1.8.app/Contents/Resources/julia/share/julia/stdlib/v1.8/Pkg/src/API.jl:171",
      " [10] up()",
      "    @ Pkg.API /Applications/Julia-1.8.app/Contents/Resources/julia/share/julia/stdlib/v1.8/Pkg/src/API.jl:162",
      " [11] top-level scope",
      "    @ In[3]:3"
     ]
    }
   ],
   "source": [
    "using Pkg\n",
    "Pkg.instantiate()\n",
    "Pkg.update()"
   ]
  },
  {
   "cell_type": "code",
   "execution_count": 4,
   "id": "adbd5089-d2a1-41c3-8d90-b9ef184baa29",
   "metadata": {},
   "outputs": [
    {
     "name": "stderr",
     "output_type": "stream",
     "text": [
      "\u001b[36m\u001b[1m[ \u001b[22m\u001b[39m\u001b[36m\u001b[1mInfo: \u001b[22m\u001b[39mPrecompiling QARBoM [5d121597-357b-4444-99a5-61a265ddccc8]\n",
      "\u001b[91m\u001b[1mERROR: \u001b[22m\u001b[39mLoadError: ArgumentError: Package LogExpFunctions does not have ChainRulesCore in its dependencies:\n",
      "- You may have a partially installed environment. Try `Pkg.instantiate()`\n",
      "  to ensure all packages in the environment are installed.\n",
      "- Or, if you have LogExpFunctions checked out for development and have\n",
      "  added ChainRulesCore as a dependency but haven't updated your primary\n",
      "  environment's manifest file, try `Pkg.resolve()`.\n",
      "- Otherwise you may need to report an issue with LogExpFunctions\n",
      "Stacktrace:\n",
      " [1] \u001b[0m\u001b[1mmacro expansion\u001b[22m\n",
      "\u001b[90m   @ \u001b[39m\u001b[90m./\u001b[39m\u001b[90m\u001b[4mloading.jl:1167\u001b[24m\u001b[39m\u001b[90m [inlined]\u001b[39m\n",
      " [2] \u001b[0m\u001b[1mmacro expansion\u001b[22m\n",
      "\u001b[90m   @ \u001b[39m\u001b[90m./\u001b[39m\u001b[90m\u001b[4mlock.jl:223\u001b[24m\u001b[39m\u001b[90m [inlined]\u001b[39m\n",
      " [3] \u001b[0m\u001b[1mrequire\u001b[22m\u001b[0m\u001b[1m(\u001b[22m\u001b[90minto\u001b[39m::\u001b[0mModule, \u001b[90mmod\u001b[39m::\u001b[0mSymbol\u001b[0m\u001b[1m)\u001b[22m\n",
      "\u001b[90m   @ \u001b[39m\u001b[90mBase\u001b[39m \u001b[90m./\u001b[39m\u001b[90m\u001b[4mloading.jl:1144\u001b[24m\u001b[39m\n",
      " [4] \u001b[0m\u001b[1minclude\u001b[22m\u001b[0m\u001b[1m(\u001b[22m\u001b[90mmod\u001b[39m::\u001b[0mModule, \u001b[90m_path\u001b[39m::\u001b[0mString\u001b[0m\u001b[1m)\u001b[22m\n",
      "\u001b[90m   @ \u001b[39m\u001b[90mBase\u001b[39m \u001b[90m./\u001b[39m\u001b[90m\u001b[4mBase.jl:419\u001b[24m\u001b[39m\n",
      " [5] \u001b[0m\u001b[1minclude\u001b[22m\u001b[0m\u001b[1m(\u001b[22m\u001b[90mx\u001b[39m::\u001b[0mString\u001b[0m\u001b[1m)\u001b[22m\n",
      "\u001b[90m   @ \u001b[39m\u001b[35mLogExpFunctions\u001b[39m \u001b[90m~/.julia/packages/LogExpFunctions/P1sjM/src/\u001b[39m\u001b[90m\u001b[4mLogExpFunctions.jl:1\u001b[24m\u001b[39m\n",
      " [6] top-level scope\n",
      "\u001b[90m   @ \u001b[39m\u001b[90m~/.julia/packages/LogExpFunctions/P1sjM/src/\u001b[39m\u001b[90m\u001b[4mLogExpFunctions.jl:27\u001b[24m\u001b[39m\n",
      " [7] \u001b[0m\u001b[1minclude\u001b[22m\n",
      "\u001b[90m   @ \u001b[39m\u001b[90m./\u001b[39m\u001b[90m\u001b[4mBase.jl:419\u001b[24m\u001b[39m\u001b[90m [inlined]\u001b[39m\n",
      " [8] \u001b[0m\u001b[1minclude_package_for_output\u001b[22m\u001b[0m\u001b[1m(\u001b[22m\u001b[90mpkg\u001b[39m::\u001b[0mBase.PkgId, \u001b[90minput\u001b[39m::\u001b[0mString, \u001b[90mdepot_path\u001b[39m::\u001b[0mVector\u001b[90m{String}\u001b[39m, \u001b[90mdl_load_path\u001b[39m::\u001b[0mVector\u001b[90m{String}\u001b[39m, \u001b[90mload_path\u001b[39m::\u001b[0mVector\u001b[90m{String}\u001b[39m, \u001b[90mconcrete_deps\u001b[39m::\u001b[0mVector\u001b[90m{Pair{Base.PkgId, UInt64}}\u001b[39m, \u001b[90msource\u001b[39m::\u001b[0mString\u001b[0m\u001b[1m)\u001b[22m\n",
      "\u001b[90m   @ \u001b[39m\u001b[90mBase\u001b[39m \u001b[90m./\u001b[39m\u001b[90m\u001b[4mloading.jl:1554\u001b[24m\u001b[39m\n",
      " [9] top-level scope\n",
      "\u001b[90m   @ \u001b[39m\u001b[90m\u001b[4mstdin:1\u001b[24m\u001b[39m\n",
      "in expression starting at /Users/pripper/.julia/packages/LogExpFunctions/P1sjM/ext/LogExpFunctionsChainRulesCoreExt.jl:1\n",
      "in expression starting at /Users/pripper/.julia/packages/LogExpFunctions/P1sjM/src/LogExpFunctions.jl:1\n",
      "in expression starting at stdin:1\n",
      "\u001b[91m\u001b[1mERROR: \u001b[22m\u001b[39mLoadError: Failed to precompile LogExpFunctions [2ab3a3ac-af41-5b50-aa03-7779005ae688] to /Users/pripper/.julia/compiled/v1.8/LogExpFunctions/jl_hOHAaN.\n",
      "Stacktrace:\n",
      "  [1] \u001b[0m\u001b[1merror\u001b[22m\u001b[0m\u001b[1m(\u001b[22m\u001b[90ms\u001b[39m::\u001b[0mString\u001b[0m\u001b[1m)\u001b[22m\n",
      "\u001b[90m    @ \u001b[39m\u001b[90mBase\u001b[39m \u001b[90m./\u001b[39m\u001b[90m\u001b[4merror.jl:35\u001b[24m\u001b[39m\n",
      "  [2] \u001b[0m\u001b[1mcompilecache\u001b[22m\u001b[0m\u001b[1m(\u001b[22m\u001b[90mpkg\u001b[39m::\u001b[0mBase.PkgId, \u001b[90mpath\u001b[39m::\u001b[0mString, \u001b[90minternal_stderr\u001b[39m::\u001b[0mIO, \u001b[90minternal_stdout\u001b[39m::\u001b[0mIO, \u001b[90mkeep_loaded_modules\u001b[39m::\u001b[0mBool\u001b[0m\u001b[1m)\u001b[22m\n",
      "\u001b[90m    @ \u001b[39m\u001b[90mBase\u001b[39m \u001b[90m./\u001b[39m\u001b[90m\u001b[4mloading.jl:1707\u001b[24m\u001b[39m\n",
      "  [3] \u001b[0m\u001b[1mcompilecache\u001b[22m\n",
      "\u001b[90m    @ \u001b[39m\u001b[90m./\u001b[39m\u001b[90m\u001b[4mloading.jl:1651\u001b[24m\u001b[39m\u001b[90m [inlined]\u001b[39m\n",
      "  [4] \u001b[0m\u001b[1m_require\u001b[22m\u001b[0m\u001b[1m(\u001b[22m\u001b[90mpkg\u001b[39m::\u001b[0mBase.PkgId\u001b[0m\u001b[1m)\u001b[22m\n",
      "\u001b[90m    @ \u001b[39m\u001b[90mBase\u001b[39m \u001b[90m./\u001b[39m\u001b[90m\u001b[4mloading.jl:1337\u001b[24m\u001b[39m\n",
      "  [5] \u001b[0m\u001b[1m_require_prelocked\u001b[22m\u001b[0m\u001b[1m(\u001b[22m\u001b[90muuidkey\u001b[39m::\u001b[0mBase.PkgId\u001b[0m\u001b[1m)\u001b[22m\n",
      "\u001b[90m    @ \u001b[39m\u001b[90mBase\u001b[39m \u001b[90m./\u001b[39m\u001b[90m\u001b[4mloading.jl:1200\u001b[24m\u001b[39m\n",
      "  [6] \u001b[0m\u001b[1mmacro expansion\u001b[22m\n",
      "\u001b[90m    @ \u001b[39m\u001b[90m./\u001b[39m\u001b[90m\u001b[4mloading.jl:1180\u001b[24m\u001b[39m\u001b[90m [inlined]\u001b[39m\n",
      "  [7] \u001b[0m\u001b[1mmacro expansion\u001b[22m\n",
      "\u001b[90m    @ \u001b[39m\u001b[90m./\u001b[39m\u001b[90m\u001b[4mlock.jl:223\u001b[24m\u001b[39m\u001b[90m [inlined]\u001b[39m\n",
      "  [8] \u001b[0m\u001b[1mrequire\u001b[22m\u001b[0m\u001b[1m(\u001b[22m\u001b[90minto\u001b[39m::\u001b[0mModule, \u001b[90mmod\u001b[39m::\u001b[0mSymbol\u001b[0m\u001b[1m)\u001b[22m\n",
      "\u001b[90m    @ \u001b[39m\u001b[90mBase\u001b[39m \u001b[90m./\u001b[39m\u001b[90m\u001b[4mloading.jl:1144\u001b[24m\u001b[39m\n",
      "  [9] \u001b[0m\u001b[1minclude\u001b[22m\n",
      "\u001b[90m    @ \u001b[39m\u001b[90m./\u001b[39m\u001b[90m\u001b[4mBase.jl:419\u001b[24m\u001b[39m\u001b[90m [inlined]\u001b[39m\n",
      " [10] \u001b[0m\u001b[1minclude_package_for_output\u001b[22m\u001b[0m\u001b[1m(\u001b[22m\u001b[90mpkg\u001b[39m::\u001b[0mBase.PkgId, \u001b[90minput\u001b[39m::\u001b[0mString, \u001b[90mdepot_path\u001b[39m::\u001b[0mVector\u001b[90m{String}\u001b[39m, \u001b[90mdl_load_path\u001b[39m::\u001b[0mVector\u001b[90m{String}\u001b[39m, \u001b[90mload_path\u001b[39m::\u001b[0mVector\u001b[90m{String}\u001b[39m, \u001b[90mconcrete_deps\u001b[39m::\u001b[0mVector\u001b[90m{Pair{Base.PkgId, UInt64}}\u001b[39m, \u001b[90msource\u001b[39m::\u001b[0mString\u001b[0m\u001b[1m)\u001b[22m\n",
      "\u001b[90m    @ \u001b[39m\u001b[90mBase\u001b[39m \u001b[90m./\u001b[39m\u001b[90m\u001b[4mloading.jl:1554\u001b[24m\u001b[39m\n",
      " [11] top-level scope\n",
      "\u001b[90m    @ \u001b[39m\u001b[90m\u001b[4mstdin:1\u001b[24m\u001b[39m\n",
      "in expression starting at /Users/pripper/.julia/packages/SpecialFunctions/npKKV/src/SpecialFunctions.jl:1\n",
      "in expression starting at stdin:1\n",
      "\u001b[91m\u001b[1mERROR: \u001b[22m\u001b[39mLoadError: Failed to precompile SpecialFunctions [276daf66-3868-5448-9aa4-cd146d93841b] to /Users/pripper/.julia/compiled/v1.8/SpecialFunctions/jl_eTGD0v.\n",
      "Stacktrace:\n",
      "  [1] \u001b[0m\u001b[1merror\u001b[22m\u001b[0m\u001b[1m(\u001b[22m\u001b[90ms\u001b[39m::\u001b[0mString\u001b[0m\u001b[1m)\u001b[22m\n",
      "\u001b[90m    @ \u001b[39m\u001b[90mBase\u001b[39m \u001b[90m./\u001b[39m\u001b[90m\u001b[4merror.jl:35\u001b[24m\u001b[39m\n",
      "  [2] \u001b[0m\u001b[1mcompilecache\u001b[22m\u001b[0m\u001b[1m(\u001b[22m\u001b[90mpkg\u001b[39m::\u001b[0mBase.PkgId, \u001b[90mpath\u001b[39m::\u001b[0mString, \u001b[90minternal_stderr\u001b[39m::\u001b[0mIO, \u001b[90minternal_stdout\u001b[39m::\u001b[0mIO, \u001b[90mkeep_loaded_modules\u001b[39m::\u001b[0mBool\u001b[0m\u001b[1m)\u001b[22m\n",
      "\u001b[90m    @ \u001b[39m\u001b[90mBase\u001b[39m \u001b[90m./\u001b[39m\u001b[90m\u001b[4mloading.jl:1707\u001b[24m\u001b[39m\n",
      "  [3] \u001b[0m\u001b[1mcompilecache\u001b[22m\n",
      "\u001b[90m    @ \u001b[39m\u001b[90m./\u001b[39m\u001b[90m\u001b[4mloading.jl:1651\u001b[24m\u001b[39m\u001b[90m [inlined]\u001b[39m\n",
      "  [4] \u001b[0m\u001b[1m_require\u001b[22m\u001b[0m\u001b[1m(\u001b[22m\u001b[90mpkg\u001b[39m::\u001b[0mBase.PkgId\u001b[0m\u001b[1m)\u001b[22m\n",
      "\u001b[90m    @ \u001b[39m\u001b[90mBase\u001b[39m \u001b[90m./\u001b[39m\u001b[90m\u001b[4mloading.jl:1337\u001b[24m\u001b[39m\n",
      "  [5] \u001b[0m\u001b[1m_require_prelocked\u001b[22m\u001b[0m\u001b[1m(\u001b[22m\u001b[90muuidkey\u001b[39m::\u001b[0mBase.PkgId\u001b[0m\u001b[1m)\u001b[22m\n",
      "\u001b[90m    @ \u001b[39m\u001b[90mBase\u001b[39m \u001b[90m./\u001b[39m\u001b[90m\u001b[4mloading.jl:1200\u001b[24m\u001b[39m\n",
      "  [6] \u001b[0m\u001b[1mmacro expansion\u001b[22m\n",
      "\u001b[90m    @ \u001b[39m\u001b[90m./\u001b[39m\u001b[90m\u001b[4mloading.jl:1180\u001b[24m\u001b[39m\u001b[90m [inlined]\u001b[39m\n",
      "  [7] \u001b[0m\u001b[1mmacro expansion\u001b[22m\n",
      "\u001b[90m    @ \u001b[39m\u001b[90m./\u001b[39m\u001b[90m\u001b[4mlock.jl:223\u001b[24m\u001b[39m\u001b[90m [inlined]\u001b[39m\n",
      "  [8] \u001b[0m\u001b[1mrequire\u001b[22m\u001b[0m\u001b[1m(\u001b[22m\u001b[90minto\u001b[39m::\u001b[0mModule, \u001b[90mmod\u001b[39m::\u001b[0mSymbol\u001b[0m\u001b[1m)\u001b[22m\n",
      "\u001b[90m    @ \u001b[39m\u001b[90mBase\u001b[39m \u001b[90m./\u001b[39m\u001b[90m\u001b[4mloading.jl:1144\u001b[24m\u001b[39m\n",
      "  [9] \u001b[0m\u001b[1minclude\u001b[22m\n",
      "\u001b[90m    @ \u001b[39m\u001b[90m./\u001b[39m\u001b[90m\u001b[4mBase.jl:419\u001b[24m\u001b[39m\u001b[90m [inlined]\u001b[39m\n",
      " [10] \u001b[0m\u001b[1minclude_package_for_output\u001b[22m\u001b[0m\u001b[1m(\u001b[22m\u001b[90mpkg\u001b[39m::\u001b[0mBase.PkgId, \u001b[90minput\u001b[39m::\u001b[0mString, \u001b[90mdepot_path\u001b[39m::\u001b[0mVector\u001b[90m{String}\u001b[39m, \u001b[90mdl_load_path\u001b[39m::\u001b[0mVector\u001b[90m{String}\u001b[39m, \u001b[90mload_path\u001b[39m::\u001b[0mVector\u001b[90m{String}\u001b[39m, \u001b[90mconcrete_deps\u001b[39m::\u001b[0mVector\u001b[90m{Pair{Base.PkgId, UInt64}}\u001b[39m, \u001b[90msource\u001b[39m::\u001b[0mString\u001b[0m\u001b[1m)\u001b[22m\n",
      "\u001b[90m    @ \u001b[39m\u001b[90mBase\u001b[39m \u001b[90m./\u001b[39m\u001b[90m\u001b[4mloading.jl:1554\u001b[24m\u001b[39m\n",
      " [11] top-level scope\n",
      "\u001b[90m    @ \u001b[39m\u001b[90m\u001b[4mstdin:1\u001b[24m\u001b[39m\n",
      "in expression starting at /Users/pripper/.julia/packages/ForwardDiff/PcZ48/src/ForwardDiff.jl:1\n",
      "in expression starting at stdin:1\n",
      "\u001b[91m\u001b[1mERROR: \u001b[22m\u001b[39mLoadError: Failed to precompile ForwardDiff [f6369f11-7733-5829-9624-2563aa707210] to /Users/pripper/.julia/compiled/v1.8/ForwardDiff/jl_5dMvIK.\n",
      "Stacktrace:\n",
      "  [1] \u001b[0m\u001b[1merror\u001b[22m\u001b[0m\u001b[1m(\u001b[22m\u001b[90ms\u001b[39m::\u001b[0mString\u001b[0m\u001b[1m)\u001b[22m\n",
      "\u001b[90m    @ \u001b[39m\u001b[90mBase\u001b[39m \u001b[90m./\u001b[39m\u001b[90m\u001b[4merror.jl:35\u001b[24m\u001b[39m\n",
      "  [2] \u001b[0m\u001b[1mcompilecache\u001b[22m\u001b[0m\u001b[1m(\u001b[22m\u001b[90mpkg\u001b[39m::\u001b[0mBase.PkgId, \u001b[90mpath\u001b[39m::\u001b[0mString, \u001b[90minternal_stderr\u001b[39m::\u001b[0mIO, \u001b[90minternal_stdout\u001b[39m::\u001b[0mIO, \u001b[90mkeep_loaded_modules\u001b[39m::\u001b[0mBool\u001b[0m\u001b[1m)\u001b[22m\n",
      "\u001b[90m    @ \u001b[39m\u001b[90mBase\u001b[39m \u001b[90m./\u001b[39m\u001b[90m\u001b[4mloading.jl:1707\u001b[24m\u001b[39m\n",
      "  [3] \u001b[0m\u001b[1mcompilecache\u001b[22m\n",
      "\u001b[90m    @ \u001b[39m\u001b[90m./\u001b[39m\u001b[90m\u001b[4mloading.jl:1651\u001b[24m\u001b[39m\u001b[90m [inlined]\u001b[39m\n",
      "  [4] \u001b[0m\u001b[1m_require\u001b[22m\u001b[0m\u001b[1m(\u001b[22m\u001b[90mpkg\u001b[39m::\u001b[0mBase.PkgId\u001b[0m\u001b[1m)\u001b[22m\n",
      "\u001b[90m    @ \u001b[39m\u001b[90mBase\u001b[39m \u001b[90m./\u001b[39m\u001b[90m\u001b[4mloading.jl:1337\u001b[24m\u001b[39m\n",
      "  [5] \u001b[0m\u001b[1m_require_prelocked\u001b[22m\u001b[0m\u001b[1m(\u001b[22m\u001b[90muuidkey\u001b[39m::\u001b[0mBase.PkgId\u001b[0m\u001b[1m)\u001b[22m\n",
      "\u001b[90m    @ \u001b[39m\u001b[90mBase\u001b[39m \u001b[90m./\u001b[39m\u001b[90m\u001b[4mloading.jl:1200\u001b[24m\u001b[39m\n",
      "  [6] \u001b[0m\u001b[1mmacro expansion\u001b[22m\n",
      "\u001b[90m    @ \u001b[39m\u001b[90m./\u001b[39m\u001b[90m\u001b[4mloading.jl:1180\u001b[24m\u001b[39m\u001b[90m [inlined]\u001b[39m\n",
      "  [7] \u001b[0m\u001b[1mmacro expansion\u001b[22m\n",
      "\u001b[90m    @ \u001b[39m\u001b[90m./\u001b[39m\u001b[90m\u001b[4mlock.jl:223\u001b[24m\u001b[39m\u001b[90m [inlined]\u001b[39m\n",
      "  [8] \u001b[0m\u001b[1mrequire\u001b[22m\u001b[0m\u001b[1m(\u001b[22m\u001b[90minto\u001b[39m::\u001b[0mModule, \u001b[90mmod\u001b[39m::\u001b[0mSymbol\u001b[0m\u001b[1m)\u001b[22m\n",
      "\u001b[90m    @ \u001b[39m\u001b[90mBase\u001b[39m \u001b[90m./\u001b[39m\u001b[90m\u001b[4mloading.jl:1144\u001b[24m\u001b[39m\n",
      "  [9] \u001b[0m\u001b[1minclude\u001b[22m\u001b[0m\u001b[1m(\u001b[22m\u001b[90mmod\u001b[39m::\u001b[0mModule, \u001b[90m_path\u001b[39m::\u001b[0mString\u001b[0m\u001b[1m)\u001b[22m\n",
      "\u001b[90m    @ \u001b[39m\u001b[90mBase\u001b[39m \u001b[90m./\u001b[39m\u001b[90m\u001b[4mBase.jl:419\u001b[24m\u001b[39m\n",
      " [10] \u001b[0m\u001b[1minclude\u001b[22m\u001b[0m\u001b[1m(\u001b[22m\u001b[90mx\u001b[39m::\u001b[0mString\u001b[0m\u001b[1m)\u001b[22m\n",
      "\u001b[90m    @ \u001b[39m\u001b[35mMathOptInterface\u001b[39m \u001b[90m~/.julia/packages/MathOptInterface/2rAFb/src/\u001b[39m\u001b[90m\u001b[4mMathOptInterface.jl:7\u001b[24m\u001b[39m\n",
      " [11] top-level scope\n",
      "\u001b[90m    @ \u001b[39m\u001b[90m~/.julia/packages/MathOptInterface/2rAFb/src/\u001b[39m\u001b[90m\u001b[4mMathOptInterface.jl:337\u001b[24m\u001b[39m\n",
      " [12] \u001b[0m\u001b[1minclude\u001b[22m\n",
      "\u001b[90m    @ \u001b[39m\u001b[90m./\u001b[39m\u001b[90m\u001b[4mBase.jl:419\u001b[24m\u001b[39m\u001b[90m [inlined]\u001b[39m\n",
      " [13] \u001b[0m\u001b[1minclude_package_for_output\u001b[22m\u001b[0m\u001b[1m(\u001b[22m\u001b[90mpkg\u001b[39m::\u001b[0mBase.PkgId, \u001b[90minput\u001b[39m::\u001b[0mString, \u001b[90mdepot_path\u001b[39m::\u001b[0mVector\u001b[90m{String}\u001b[39m, \u001b[90mdl_load_path\u001b[39m::\u001b[0mVector\u001b[90m{String}\u001b[39m, \u001b[90mload_path\u001b[39m::\u001b[0mVector\u001b[90m{String}\u001b[39m, \u001b[90mconcrete_deps\u001b[39m::\u001b[0mVector\u001b[90m{Pair{Base.PkgId, UInt64}}\u001b[39m, \u001b[90msource\u001b[39m::\u001b[0mString\u001b[0m\u001b[1m)\u001b[22m\n",
      "\u001b[90m    @ \u001b[39m\u001b[90mBase\u001b[39m \u001b[90m./\u001b[39m\u001b[90m\u001b[4mloading.jl:1554\u001b[24m\u001b[39m\n",
      " [14] top-level scope\n",
      "\u001b[90m    @ \u001b[39m\u001b[90m\u001b[4mstdin:1\u001b[24m\u001b[39m\n",
      "in expression starting at /Users/pripper/.julia/packages/MathOptInterface/2rAFb/src/Nonlinear/Nonlinear.jl:7\n",
      "in expression starting at /Users/pripper/.julia/packages/MathOptInterface/2rAFb/src/MathOptInterface.jl:7\n",
      "in expression starting at stdin:1\n",
      "\u001b[91m\u001b[1mERROR: \u001b[22m\u001b[39mLoadError: Failed to precompile MathOptInterface [b8f27783-ece8-5eb3-8dc8-9495eed66fee] to /Users/pripper/.julia/compiled/v1.8/MathOptInterface/jl_XIpWzV.\n",
      "Stacktrace:\n",
      "  [1] \u001b[0m\u001b[1merror\u001b[22m\u001b[0m\u001b[1m(\u001b[22m\u001b[90ms\u001b[39m::\u001b[0mString\u001b[0m\u001b[1m)\u001b[22m\n",
      "\u001b[90m    @ \u001b[39m\u001b[90mBase\u001b[39m \u001b[90m./\u001b[39m\u001b[90m\u001b[4merror.jl:35\u001b[24m\u001b[39m\n",
      "  [2] \u001b[0m\u001b[1mcompilecache\u001b[22m\u001b[0m\u001b[1m(\u001b[22m\u001b[90mpkg\u001b[39m::\u001b[0mBase.PkgId, \u001b[90mpath\u001b[39m::\u001b[0mString, \u001b[90minternal_stderr\u001b[39m::\u001b[0mIO, \u001b[90minternal_stdout\u001b[39m::\u001b[0mIO, \u001b[90mkeep_loaded_modules\u001b[39m::\u001b[0mBool\u001b[0m\u001b[1m)\u001b[22m\n",
      "\u001b[90m    @ \u001b[39m\u001b[90mBase\u001b[39m \u001b[90m./\u001b[39m\u001b[90m\u001b[4mloading.jl:1707\u001b[24m\u001b[39m\n",
      "  [3] \u001b[0m\u001b[1mcompilecache\u001b[22m\n",
      "\u001b[90m    @ \u001b[39m\u001b[90m./\u001b[39m\u001b[90m\u001b[4mloading.jl:1651\u001b[24m\u001b[39m\u001b[90m [inlined]\u001b[39m\n",
      "  [4] \u001b[0m\u001b[1m_require\u001b[22m\u001b[0m\u001b[1m(\u001b[22m\u001b[90mpkg\u001b[39m::\u001b[0mBase.PkgId\u001b[0m\u001b[1m)\u001b[22m\n",
      "\u001b[90m    @ \u001b[39m\u001b[90mBase\u001b[39m \u001b[90m./\u001b[39m\u001b[90m\u001b[4mloading.jl:1337\u001b[24m\u001b[39m\n",
      "  [5] \u001b[0m\u001b[1m_require_prelocked\u001b[22m\u001b[0m\u001b[1m(\u001b[22m\u001b[90muuidkey\u001b[39m::\u001b[0mBase.PkgId\u001b[0m\u001b[1m)\u001b[22m\n",
      "\u001b[90m    @ \u001b[39m\u001b[90mBase\u001b[39m \u001b[90m./\u001b[39m\u001b[90m\u001b[4mloading.jl:1200\u001b[24m\u001b[39m\n",
      "  [6] \u001b[0m\u001b[1mmacro expansion\u001b[22m\n",
      "\u001b[90m    @ \u001b[39m\u001b[90m./\u001b[39m\u001b[90m\u001b[4mloading.jl:1180\u001b[24m\u001b[39m\u001b[90m [inlined]\u001b[39m\n",
      "  [7] \u001b[0m\u001b[1mmacro expansion\u001b[22m\n",
      "\u001b[90m    @ \u001b[39m\u001b[90m./\u001b[39m\u001b[90m\u001b[4mlock.jl:223\u001b[24m\u001b[39m\u001b[90m [inlined]\u001b[39m\n",
      "  [8] \u001b[0m\u001b[1mrequire\u001b[22m\u001b[0m\u001b[1m(\u001b[22m\u001b[90minto\u001b[39m::\u001b[0mModule, \u001b[90mmod\u001b[39m::\u001b[0mSymbol\u001b[0m\u001b[1m)\u001b[22m\n",
      "\u001b[90m    @ \u001b[39m\u001b[90mBase\u001b[39m \u001b[90m./\u001b[39m\u001b[90m\u001b[4mloading.jl:1144\u001b[24m\u001b[39m\n",
      "  [9] \u001b[0m\u001b[1minclude\u001b[22m\n",
      "\u001b[90m    @ \u001b[39m\u001b[90m./\u001b[39m\u001b[90m\u001b[4mBase.jl:419\u001b[24m\u001b[39m\u001b[90m [inlined]\u001b[39m\n",
      " [10] \u001b[0m\u001b[1minclude_package_for_output\u001b[22m\u001b[0m\u001b[1m(\u001b[22m\u001b[90mpkg\u001b[39m::\u001b[0mBase.PkgId, \u001b[90minput\u001b[39m::\u001b[0mString, \u001b[90mdepot_path\u001b[39m::\u001b[0mVector\u001b[90m{String}\u001b[39m, \u001b[90mdl_load_path\u001b[39m::\u001b[0mVector\u001b[90m{String}\u001b[39m, \u001b[90mload_path\u001b[39m::\u001b[0mVector\u001b[90m{String}\u001b[39m, \u001b[90mconcrete_deps\u001b[39m::\u001b[0mVector\u001b[90m{Pair{Base.PkgId, UInt64}}\u001b[39m, \u001b[90msource\u001b[39m::\u001b[0mString\u001b[0m\u001b[1m)\u001b[22m\n",
      "\u001b[90m    @ \u001b[39m\u001b[90mBase\u001b[39m \u001b[90m./\u001b[39m\u001b[90m\u001b[4mloading.jl:1554\u001b[24m\u001b[39m\n",
      " [11] top-level scope\n",
      "\u001b[90m    @ \u001b[39m\u001b[90m\u001b[4mstdin:1\u001b[24m\u001b[39m\n",
      "in expression starting at /Users/pripper/.julia/packages/JuMP/Gwn88/src/JuMP.jl:11\n",
      "in expression starting at stdin:1\n",
      "\u001b[91m\u001b[1mERROR: \u001b[22m\u001b[39mLoadError: Failed to precompile JuMP [4076af6c-e467-56ae-b986-b466b2749572] to /Users/pripper/.julia/compiled/v1.8/JuMP/jl_1mcXRx.\n",
      "Stacktrace:\n",
      "  [1] \u001b[0m\u001b[1merror\u001b[22m\u001b[0m\u001b[1m(\u001b[22m\u001b[90ms\u001b[39m::\u001b[0mString\u001b[0m\u001b[1m)\u001b[22m\n",
      "\u001b[90m    @ \u001b[39m\u001b[90mBase\u001b[39m \u001b[90m./\u001b[39m\u001b[90m\u001b[4merror.jl:35\u001b[24m\u001b[39m\n",
      "  [2] \u001b[0m\u001b[1mcompilecache\u001b[22m\u001b[0m\u001b[1m(\u001b[22m\u001b[90mpkg\u001b[39m::\u001b[0mBase.PkgId, \u001b[90mpath\u001b[39m::\u001b[0mString, \u001b[90minternal_stderr\u001b[39m::\u001b[0mIO, \u001b[90minternal_stdout\u001b[39m::\u001b[0mIO, \u001b[90mkeep_loaded_modules\u001b[39m::\u001b[0mBool\u001b[0m\u001b[1m)\u001b[22m\n",
      "\u001b[90m    @ \u001b[39m\u001b[90mBase\u001b[39m \u001b[90m./\u001b[39m\u001b[90m\u001b[4mloading.jl:1707\u001b[24m\u001b[39m\n",
      "  [3] \u001b[0m\u001b[1mcompilecache\u001b[22m\n",
      "\u001b[90m    @ \u001b[39m\u001b[90m./\u001b[39m\u001b[90m\u001b[4mloading.jl:1651\u001b[24m\u001b[39m\u001b[90m [inlined]\u001b[39m\n",
      "  [4] \u001b[0m\u001b[1m_require\u001b[22m\u001b[0m\u001b[1m(\u001b[22m\u001b[90mpkg\u001b[39m::\u001b[0mBase.PkgId\u001b[0m\u001b[1m)\u001b[22m\n",
      "\u001b[90m    @ \u001b[39m\u001b[90mBase\u001b[39m \u001b[90m./\u001b[39m\u001b[90m\u001b[4mloading.jl:1337\u001b[24m\u001b[39m\n",
      "  [5] \u001b[0m\u001b[1m_require_prelocked\u001b[22m\u001b[0m\u001b[1m(\u001b[22m\u001b[90muuidkey\u001b[39m::\u001b[0mBase.PkgId\u001b[0m\u001b[1m)\u001b[22m\n",
      "\u001b[90m    @ \u001b[39m\u001b[90mBase\u001b[39m \u001b[90m./\u001b[39m\u001b[90m\u001b[4mloading.jl:1200\u001b[24m\u001b[39m\n",
      "  [6] \u001b[0m\u001b[1mmacro expansion\u001b[22m\n",
      "\u001b[90m    @ \u001b[39m\u001b[90m./\u001b[39m\u001b[90m\u001b[4mloading.jl:1180\u001b[24m\u001b[39m\u001b[90m [inlined]\u001b[39m\n",
      "  [7] \u001b[0m\u001b[1mmacro expansion\u001b[22m\n",
      "\u001b[90m    @ \u001b[39m\u001b[90m./\u001b[39m\u001b[90m\u001b[4mlock.jl:223\u001b[24m\u001b[39m\u001b[90m [inlined]\u001b[39m\n",
      "  [8] \u001b[0m\u001b[1mrequire\u001b[22m\u001b[0m\u001b[1m(\u001b[22m\u001b[90minto\u001b[39m::\u001b[0mModule, \u001b[90mmod\u001b[39m::\u001b[0mSymbol\u001b[0m\u001b[1m)\u001b[22m\n",
      "\u001b[90m    @ \u001b[39m\u001b[90mBase\u001b[39m \u001b[90m./\u001b[39m\u001b[90m\u001b[4mloading.jl:1144\u001b[24m\u001b[39m\n",
      "  [9] \u001b[0m\u001b[1minclude\u001b[22m\n",
      "\u001b[90m    @ \u001b[39m\u001b[90m./\u001b[39m\u001b[90m\u001b[4mBase.jl:419\u001b[24m\u001b[39m\u001b[90m [inlined]\u001b[39m\n",
      " [10] \u001b[0m\u001b[1minclude_package_for_output\u001b[22m\u001b[0m\u001b[1m(\u001b[22m\u001b[90mpkg\u001b[39m::\u001b[0mBase.PkgId, \u001b[90minput\u001b[39m::\u001b[0mString, \u001b[90mdepot_path\u001b[39m::\u001b[0mVector\u001b[90m{String}\u001b[39m, \u001b[90mdl_load_path\u001b[39m::\u001b[0mVector\u001b[90m{String}\u001b[39m, \u001b[90mload_path\u001b[39m::\u001b[0mVector\u001b[90m{String}\u001b[39m, \u001b[90mconcrete_deps\u001b[39m::\u001b[0mVector\u001b[90m{Pair{Base.PkgId, UInt64}}\u001b[39m, \u001b[90msource\u001b[39m::\u001b[0mNothing\u001b[0m\u001b[1m)\u001b[22m\n",
      "\u001b[90m    @ \u001b[39m\u001b[90mBase\u001b[39m \u001b[90m./\u001b[39m\u001b[90m\u001b[4mloading.jl:1554\u001b[24m\u001b[39m\n",
      " [11] top-level scope\n",
      "\u001b[90m    @ \u001b[39m\u001b[90m\u001b[4mstdin:1\u001b[24m\u001b[39m\n",
      "in expression starting at /Users/pripper/Documents/GitHub/RBM/src/QARBoM.jl:1\n",
      "in expression starting at stdin:1\n"
     ]
    },
    {
     "ename": "LoadError",
     "evalue": "Failed to precompile QARBoM [5d121597-357b-4444-99a5-61a265ddccc8] to /Users/pripper/.julia/compiled/v1.8/QARBoM/jl_cXsSHU.",
     "output_type": "error",
     "traceback": [
      "Failed to precompile QARBoM [5d121597-357b-4444-99a5-61a265ddccc8] to /Users/pripper/.julia/compiled/v1.8/QARBoM/jl_cXsSHU.",
      "",
      "Stacktrace:",
      " [1] error(s::String)",
      "   @ Base ./error.jl:35",
      " [2] compilecache(pkg::Base.PkgId, path::String, internal_stderr::IO, internal_stdout::IO, keep_loaded_modules::Bool)",
      "   @ Base ./loading.jl:1707",
      " [3] compilecache",
      "   @ ./loading.jl:1651 [inlined]",
      " [4] _require(pkg::Base.PkgId)",
      "   @ Base ./loading.jl:1337",
      " [5] _require_prelocked(uuidkey::Base.PkgId)",
      "   @ Base ./loading.jl:1200",
      " [6] macro expansion",
      "   @ ./loading.jl:1180 [inlined]",
      " [7] macro expansion",
      "   @ ./lock.jl:223 [inlined]",
      " [8] require(into::Module, mod::Symbol)",
      "   @ Base ./loading.jl:1144"
     ]
    }
   ],
   "source": [
    "using QARBoM, DataFrames, CSV, Plots"
   ]
  },
  {
   "cell_type": "code",
   "execution_count": 5,
   "id": "cb510149-086a-496c-a15f-47051e74d6f8",
   "metadata": {},
   "outputs": [
    {
     "ename": "LoadError",
     "evalue": "UndefVarError: CSV not defined",
     "output_type": "error",
     "traceback": [
      "UndefVarError: CSV not defined",
      "",
      "Stacktrace:",
      " [1] top-level scope",
      "   @ In[5]:1"
     ]
    }
   ],
   "source": [
    "df = DataFrame(CSV.File(raw\"./converted_bool_only.csv\"))"
   ]
  },
  {
   "cell_type": "code",
   "execution_count": 7,
   "id": "79be8115-fe4e-4b14-8dee-c956a8091f95",
   "metadata": {},
   "outputs": [
    {
     "data": {
      "text/plain": [
       "(features = [0.0 0.0 … 0.0 0.0; 0.0 0.0 … 0.0 0.0; … ; 0.0 0.0 … 0.0 0.0; 0.0 0.0 … 0.0 0.0;;; 0.0 0.0 … 0.0 0.0; 0.0 0.0 … 0.0 0.0; … ; 0.0 0.0 … 0.0 0.0; 0.0 0.0 … 0.0 0.0;;; 0.0 0.0 … 0.0 0.0; 0.0 0.0 … 0.0 0.0; … ; 0.0 0.0 … 0.0 0.0; 0.0 0.0 … 0.0 0.0;;; … ;;; 0.0 0.0 … 0.0 0.0; 0.0 0.0 … 0.0 0.0; … ; 0.0 0.0 … 0.0 0.0; 0.0 0.0 … 0.0 0.0;;; 0.0 0.0 … 0.0 0.0; 0.0 0.0 … 0.0 0.0; … ; 0.0 0.0 … 0.0 0.0; 0.0 0.0 … 0.0 0.0;;; 0.0 0.0 … 0.0 0.0; 0.0 0.0 … 0.0 0.0; … ; 0.0 0.0 … 0.0 0.0; 0.0 0.0 … 0.0 0.0], targets = [5, 0, 4, 1, 9, 2, 1, 3, 1, 4  …  9, 2, 9, 5, 1, 8, 3, 5, 6, 8])"
      ]
     },
     "execution_count": 7,
     "metadata": {},
     "output_type": "execute_result"
    }
   ],
   "source": [
    "x_train, y_train = trainset[:]"
   ]
  },
  {
   "cell_type": "code",
   "execution_count": 8,
   "id": "4f4c5cde-d54c-41d1-96cf-95fe0333e767",
   "metadata": {},
   "outputs": [
    {
     "data": {
      "text/plain": [
       "(features = [0.0 0.0 … 0.0 0.0; 0.0 0.0 … 0.0 0.0; … ; 0.0 0.0 … 0.0 0.0; 0.0 0.0 … 0.0 0.0;;; 0.0 0.0 … 0.0 0.0; 0.0 0.0 … 0.0 0.0; … ; 0.0 0.0 … 0.0 0.0; 0.0 0.0 … 0.0 0.0;;; 0.0 0.0 … 0.0 0.0; 0.0 0.0 … 0.0 0.0; … ; 0.0 0.0 … 0.0 0.0; 0.0 0.0 … 0.0 0.0;;; … ;;; 0.0 0.0 … 0.0 0.0; 0.0 0.0 … 0.0 0.0; … ; 0.0 0.0 … 0.0 0.0; 0.0 0.0 … 0.0 0.0;;; 0.0 0.0 … 0.0 0.0; 0.0 0.0 … 0.0 0.0; … ; 0.0 0.0 … 0.0 0.0; 0.0 0.0 … 0.0 0.0;;; 0.0 0.0 … 0.0 0.0; 0.0 0.0 … 0.0 0.0; … ; 0.0 0.0 … 0.0 0.0; 0.0 0.0 … 0.0 0.0], targets = [7, 2, 1, 0, 4, 1, 4, 9, 5, 9  …  7, 8, 9, 0, 1, 2, 3, 4, 5, 6])"
      ]
     },
     "execution_count": 8,
     "metadata": {},
     "output_type": "execute_result"
    }
   ],
   "source": [
    "testset = MNIST(:test)\n",
    "x_test, y_test = testset[:]"
   ]
  },
  {
   "cell_type": "code",
   "execution_count": 9,
   "id": "d96b650b-07b9-4240-b1d9-6cfa8ec89c10",
   "metadata": {},
   "outputs": [
    {
     "data": {
      "text/plain": [
       "28×28 Matrix{Float32}:\n",
       " 0.0  0.0  0.0  0.0  0.0  0.0        …  0.0       0.0        0.0  0.0  0.0\n",
       " 0.0  0.0  0.0  0.0  0.0  0.0           0.0       0.0        0.0  0.0  0.0\n",
       " 0.0  0.0  0.0  0.0  0.0  0.0           0.0       0.0        0.0  0.0  0.0\n",
       " 0.0  0.0  0.0  0.0  0.0  0.0           0.0       0.0        0.0  0.0  0.0\n",
       " 0.0  0.0  0.0  0.0  0.0  0.0           0.215686  0.533333   0.0  0.0  0.0\n",
       " 0.0  0.0  0.0  0.0  0.0  0.0        …  0.67451   0.992157   0.0  0.0  0.0\n",
       " 0.0  0.0  0.0  0.0  0.0  0.0           0.886275  0.992157   0.0  0.0  0.0\n",
       " 0.0  0.0  0.0  0.0  0.0  0.0           0.992157  0.992157   0.0  0.0  0.0\n",
       " 0.0  0.0  0.0  0.0  0.0  0.0           0.992157  0.831373   0.0  0.0  0.0\n",
       " 0.0  0.0  0.0  0.0  0.0  0.0           0.992157  0.529412   0.0  0.0  0.0\n",
       " 0.0  0.0  0.0  0.0  0.0  0.0        …  0.992157  0.517647   0.0  0.0  0.0\n",
       " 0.0  0.0  0.0  0.0  0.0  0.0           0.956863  0.0627451  0.0  0.0  0.0\n",
       " 0.0  0.0  0.0  0.0  0.0  0.0117647     0.521569  0.0        0.0  0.0  0.0\n",
       " ⋮                        ⋮          ⋱                       ⋮         \n",
       " 0.0  0.0  0.0  0.0  0.0  0.494118      0.0       0.0        0.0  0.0  0.0\n",
       " 0.0  0.0  0.0  0.0  0.0  0.533333      0.0       0.0        0.0  0.0  0.0\n",
       " 0.0  0.0  0.0  0.0  0.0  0.686275      0.0       0.0        0.0  0.0  0.0\n",
       " 0.0  0.0  0.0  0.0  0.0  0.101961      0.0       0.0        0.0  0.0  0.0\n",
       " 0.0  0.0  0.0  0.0  0.0  0.65098    …  0.0       0.0        0.0  0.0  0.0\n",
       " 0.0  0.0  0.0  0.0  0.0  1.0           0.0       0.0        0.0  0.0  0.0\n",
       " 0.0  0.0  0.0  0.0  0.0  0.968627      0.0       0.0        0.0  0.0  0.0\n",
       " 0.0  0.0  0.0  0.0  0.0  0.498039      0.0       0.0        0.0  0.0  0.0\n",
       " 0.0  0.0  0.0  0.0  0.0  0.0           0.0       0.0        0.0  0.0  0.0\n",
       " 0.0  0.0  0.0  0.0  0.0  0.0        …  0.0       0.0        0.0  0.0  0.0\n",
       " 0.0  0.0  0.0  0.0  0.0  0.0           0.0       0.0        0.0  0.0  0.0\n",
       " 0.0  0.0  0.0  0.0  0.0  0.0           0.0       0.0        0.0  0.0  0.0"
      ]
     },
     "execution_count": 9,
     "metadata": {},
     "output_type": "execute_result"
    }
   ],
   "source": [
    "x_train[:,:,1]"
   ]
  },
  {
   "cell_type": "markdown",
   "id": "d90e69a7-421a-4a54-818e-8bceb12bd0e5",
   "metadata": {},
   "source": [
    "# making the images binary"
   ]
  },
  {
   "cell_type": "code",
   "execution_count": 10,
   "id": "9a65c1ef-11ef-43e5-91da-eaf6bfcfc143",
   "metadata": {},
   "outputs": [
    {
     "data": {
      "text/plain": [
       "60000-element Vector{Vector{Int64}}:\n",
       " [0, 0, 0, 0, 0, 0, 0, 0, 0, 0  …  0, 0, 0, 0, 0, 0, 0, 0, 0, 0]\n",
       " [0, 0, 0, 0, 0, 0, 0, 0, 0, 0  …  0, 0, 0, 0, 0, 0, 0, 0, 0, 0]\n",
       " [0, 0, 0, 0, 0, 0, 0, 0, 0, 0  …  0, 0, 0, 0, 0, 0, 0, 0, 0, 0]\n",
       " [0, 0, 0, 0, 0, 0, 0, 0, 0, 0  …  0, 0, 0, 0, 0, 0, 0, 0, 0, 0]\n",
       " [0, 0, 0, 0, 0, 0, 0, 0, 0, 0  …  0, 0, 0, 0, 0, 0, 0, 0, 0, 0]\n",
       " [0, 0, 0, 0, 0, 0, 0, 0, 0, 0  …  0, 0, 0, 0, 0, 0, 0, 0, 0, 0]\n",
       " [0, 0, 0, 0, 0, 0, 0, 0, 0, 0  …  0, 0, 0, 0, 0, 0, 0, 0, 0, 0]\n",
       " [0, 0, 0, 0, 0, 0, 0, 0, 0, 0  …  0, 0, 0, 0, 0, 0, 0, 0, 0, 0]\n",
       " [0, 0, 0, 0, 0, 0, 0, 0, 0, 0  …  0, 0, 0, 0, 0, 0, 0, 0, 0, 0]\n",
       " [0, 0, 0, 0, 0, 0, 0, 0, 0, 0  …  0, 0, 0, 0, 0, 0, 0, 0, 0, 0]\n",
       " [0, 0, 0, 0, 0, 0, 0, 0, 0, 0  …  0, 0, 0, 0, 0, 0, 0, 0, 0, 0]\n",
       " [0, 0, 0, 0, 0, 0, 0, 0, 0, 0  …  0, 0, 0, 0, 0, 0, 0, 0, 0, 0]\n",
       " [0, 0, 0, 0, 0, 0, 0, 0, 0, 0  …  0, 0, 0, 0, 0, 0, 0, 0, 0, 0]\n",
       " ⋮\n",
       " [0, 0, 0, 0, 0, 0, 0, 0, 0, 0  …  0, 0, 0, 0, 0, 0, 0, 0, 0, 0]\n",
       " [0, 0, 0, 0, 0, 0, 0, 0, 0, 0  …  0, 0, 0, 0, 0, 0, 0, 0, 0, 0]\n",
       " [0, 0, 0, 0, 0, 0, 0, 0, 0, 0  …  0, 0, 0, 0, 0, 0, 0, 0, 0, 0]\n",
       " [0, 0, 0, 0, 0, 0, 0, 0, 0, 0  …  0, 0, 0, 0, 0, 0, 0, 0, 0, 0]\n",
       " [0, 0, 0, 0, 0, 0, 0, 0, 0, 0  …  0, 0, 0, 0, 0, 0, 0, 0, 0, 0]\n",
       " [0, 0, 0, 0, 0, 0, 0, 0, 0, 0  …  0, 0, 0, 0, 0, 0, 0, 0, 0, 0]\n",
       " [0, 0, 0, 0, 0, 0, 0, 0, 0, 0  …  0, 0, 0, 0, 0, 0, 0, 0, 0, 0]\n",
       " [0, 0, 0, 0, 0, 0, 0, 0, 0, 0  …  0, 0, 0, 0, 0, 0, 0, 0, 0, 0]\n",
       " [0, 0, 0, 0, 0, 0, 0, 0, 0, 0  …  0, 0, 0, 0, 0, 0, 0, 0, 0, 0]\n",
       " [0, 0, 0, 0, 0, 0, 0, 0, 0, 0  …  0, 0, 0, 0, 0, 0, 0, 0, 0, 0]\n",
       " [0, 0, 0, 0, 0, 0, 0, 0, 0, 0  …  0, 0, 0, 0, 0, 0, 0, 0, 0, 0]\n",
       " [0, 0, 0, 0, 0, 0, 0, 0, 0, 0  …  0, 0, 0, 0, 0, 0, 0, 0, 0, 0]"
      ]
     },
     "execution_count": 10,
     "metadata": {},
     "output_type": "execute_result"
    }
   ],
   "source": [
    "x_bin = [\n",
    "    vec(round.(Int, x_train[:,:,i])) for i in 1:60000\n",
    "    ]"
   ]
  },
  {
   "cell_type": "code",
   "execution_count": 15,
   "id": "baffb451-9f0b-4c52-a5e0-9d8bb31b1c03",
   "metadata": {},
   "outputs": [
    {
     "data": {
      "text/plain": [
       "QARBoM.RBM([-0.22388946616582459 0.08241847516019149 … 0.5832949433652884 1.3511654767315235; 0.3907211220601601 0.6133929149998819 … 1.1748108712801817 -0.0837459675939133; … ; 0.3682406673108334 -1.1539558523134428 … 0.4269337916049709 -0.23932773235751698; 0.49250799650582333 -0.23350528649820926 … -0.060995014635651164 0.2772012237849581], [0.0, 0.0, 0.0, 0.0, 0.0, 0.0, 0.0, 0.0, 0.0, 0.0  …  0.0, 0.0, 0.0, 0.0, 0.0, 0.0, 0.0, 0.0, 0.0, 0.0], [0.0, 0.0, 0.0, 0.0, 0.0, 0.0, 0.0, 0.0, 0.0, 0.0  …  0.0, 0.0, 0.0, 0.0, 0.0, 0.0, 0.0, 0.0, 0.0, 0.0], 784, 500)"
      ]
     },
     "execution_count": 15,
     "metadata": {},
     "output_type": "execute_result"
    }
   ],
   "source": [
    "rbm = QARBoM.RBM(28*28,500)"
   ]
  },
  {
   "cell_type": "code",
   "execution_count": 16,
   "id": "a604aea6-37b5-4f0a-87cc-f4234bcd2bca",
   "metadata": {},
   "outputs": [
    {
     "name": "stdout",
     "output_type": "stream",
     "text": [
      "|------------------------------------------------------------------------------|\n",
      "| Epoch | Avg. Loss | Time (Sample) | Time (Gibbs) | Time (Update) | Total     |\n",
      "|------------------------------------------------------------------------------|\n",
      "|     1 |   27.4651 |        9.0697 |      93.5723 |       39.6201 |  142.2620 |\n",
      "|------------------------------------------------------------------------------|\n",
      "|------------------------------------------------------------------------------|\n",
      "| Epoch | Avg. Loss | Time (Sample) | Time (Gibbs) | Time (Update) | Total     |\n",
      "|------------------------------------------------------------------------------|\n",
      "|     2 |   25.7171 |        8.8078 |      91.9043 |       38.8150 |  281.7891 |\n",
      "|------------------------------------------------------------------------------|\n",
      "|------------------------------------------------------------------------------|\n",
      "| Epoch | Avg. Loss | Time (Sample) | Time (Gibbs) | Time (Update) | Total     |\n",
      "|------------------------------------------------------------------------------|\n",
      "|     3 |   24.8221 |        8.8190 |      92.6765 |       39.4559 |  422.7405 |\n",
      "|------------------------------------------------------------------------------|\n",
      "|------------------------------------------------------------------------------|\n",
      "| Epoch | Avg. Loss | Time (Sample) | Time (Gibbs) | Time (Update) | Total     |\n",
      "|------------------------------------------------------------------------------|\n",
      "|     4 |   23.9589 |        8.7821 |      91.5120 |       38.6439 |  561.6786 |\n",
      "|------------------------------------------------------------------------------|\n",
      "|------------------------------------------------------------------------------|\n",
      "| Epoch | Avg. Loss | Time (Sample) | Time (Gibbs) | Time (Update) | Total     |\n",
      "|------------------------------------------------------------------------------|\n",
      "|     5 |   23.2913 |        9.0195 |      93.4793 |       39.8652 |  704.0427 |\n",
      "|------------------------------------------------------------------------------|\n",
      "|------------------------------------------------------------------------------|\n",
      "| Epoch | Avg. Loss | Time (Sample) | Time (Gibbs) | Time (Update) | Total     |\n",
      "|------------------------------------------------------------------------------|\n",
      "|     6 |   22.8576 |        8.8998 |      92.4102 |       39.1859 |  844.5386 |\n",
      "|------------------------------------------------------------------------------|\n",
      "|------------------------------------------------------------------------------|\n",
      "| Epoch | Avg. Loss | Time (Sample) | Time (Gibbs) | Time (Update) | Total     |\n",
      "|------------------------------------------------------------------------------|\n",
      "|     7 |   22.3993 |        8.7323 |      92.8619 |       39.5959 |  985.7287 |\n",
      "|------------------------------------------------------------------------------|\n",
      "|------------------------------------------------------------------------------|\n",
      "| Epoch | Avg. Loss | Time (Sample) | Time (Gibbs) | Time (Update) | Total     |\n",
      "|------------------------------------------------------------------------------|\n",
      "|     8 |   22.0407 |        8.7923 |      92.5311 |       39.0715 | 1126.1236 |\n",
      "|------------------------------------------------------------------------------|\n",
      "|------------------------------------------------------------------------------|\n",
      "| Epoch | Avg. Loss | Time (Sample) | Time (Gibbs) | Time (Update) | Total     |\n",
      "|------------------------------------------------------------------------------|\n",
      "|     9 |   21.7022 |        9.0134 |      97.1296 |       40.7679 | 1273.0346 |\n",
      "|------------------------------------------------------------------------------|\n",
      "|------------------------------------------------------------------------------|\n",
      "| Epoch | Avg. Loss | Time (Sample) | Time (Gibbs) | Time (Update) | Total     |\n",
      "|------------------------------------------------------------------------------|\n",
      "|    10 |   21.2536 |        9.2125 |      96.0560 |       40.7636 | 1419.0667 |\n",
      "|------------------------------------------------------------------------------|\n",
      "|------------------------------------------------------------------------------|\n",
      "| Epoch | Avg. Loss | Time (Sample) | Time (Gibbs) | Time (Update) | Total     |\n",
      "|------------------------------------------------------------------------------|\n",
      "|    11 |   20.9692 |        8.7526 |      92.5459 |       39.0683 | 1559.4335 |\n",
      "|------------------------------------------------------------------------------|\n",
      "|------------------------------------------------------------------------------|\n",
      "| Epoch | Avg. Loss | Time (Sample) | Time (Gibbs) | Time (Update) | Total     |\n",
      "|------------------------------------------------------------------------------|\n",
      "|    12 |   20.7145 |        9.4277 |      94.0670 |       39.2608 | 1702.1890 |\n",
      "|------------------------------------------------------------------------------|\n",
      "|------------------------------------------------------------------------------|\n",
      "| Epoch | Avg. Loss | Time (Sample) | Time (Gibbs) | Time (Update) | Total     |\n",
      "|------------------------------------------------------------------------------|\n",
      "|    13 |   20.4644 |        8.5545 |      89.5523 |       38.1586 | 1838.4544 |\n",
      "|------------------------------------------------------------------------------|\n",
      "|------------------------------------------------------------------------------|\n",
      "| Epoch | Avg. Loss | Time (Sample) | Time (Gibbs) | Time (Update) | Total     |\n",
      "|------------------------------------------------------------------------------|\n",
      "|    14 |   20.2150 |        8.7736 |      90.6971 |       38.4882 | 1976.4133 |\n",
      "|------------------------------------------------------------------------------|\n",
      "|------------------------------------------------------------------------------|\n",
      "| Epoch | Avg. Loss | Time (Sample) | Time (Gibbs) | Time (Update) | Total     |\n",
      "|------------------------------------------------------------------------------|\n",
      "|    15 |   20.0268 |        8.7296 |      90.7043 |       38.0954 | 2113.9427 |\n",
      "|------------------------------------------------------------------------------|\n",
      "|------------------------------------------------------------------------------|\n",
      "| Epoch | Avg. Loss | Time (Sample) | Time (Gibbs) | Time (Update) | Total     |\n",
      "|------------------------------------------------------------------------------|\n",
      "|    16 |   19.7292 |        8.5723 |      89.5636 |       37.3068 | 2249.3854 |\n",
      "|------------------------------------------------------------------------------|\n",
      "|------------------------------------------------------------------------------|\n",
      "| Epoch | Avg. Loss | Time (Sample) | Time (Gibbs) | Time (Update) | Total     |\n",
      "|------------------------------------------------------------------------------|\n",
      "|    17 |   19.5485 |       13.6748 |    1127.3409 |       62.9829 | 3453.3840 |\n",
      "|------------------------------------------------------------------------------|\n",
      "|------------------------------------------------------------------------------|\n",
      "| Epoch | Avg. Loss | Time (Sample) | Time (Gibbs) | Time (Update) | Total     |\n",
      "|------------------------------------------------------------------------------|\n",
      "|    18 |   19.4804 |        9.0796 |      94.1949 |       39.7114 | 3596.3699 |\n",
      "|------------------------------------------------------------------------------|\n",
      "|------------------------------------------------------------------------------|\n",
      "| Epoch | Avg. Loss | Time (Sample) | Time (Gibbs) | Time (Update) | Total     |\n",
      "|------------------------------------------------------------------------------|\n",
      "|    19 |   19.2647 |        8.9587 |      93.4158 |       39.4903 | 3738.2347 |\n",
      "|------------------------------------------------------------------------------|\n",
      "|------------------------------------------------------------------------------|\n",
      "| Epoch | Avg. Loss | Time (Sample) | Time (Gibbs) | Time (Update) | Total     |\n",
      "|------------------------------------------------------------------------------|\n",
      "|    20 |   19.2093 |        8.6463 |      91.1831 |       38.6577 | 3876.7219 |\n",
      "|------------------------------------------------------------------------------|\n",
      "|------------------------------------------------------------------------------|\n",
      "| Epoch | Avg. Loss | Time (Sample) | Time (Gibbs) | Time (Update) | Total     |\n",
      "|------------------------------------------------------------------------------|\n",
      "|    21 |   18.9848 |        8.6685 |      92.0056 |       39.0793 | 4016.4754 |\n",
      "|------------------------------------------------------------------------------|\n",
      "|------------------------------------------------------------------------------|\n",
      "| Epoch | Avg. Loss | Time (Sample) | Time (Gibbs) | Time (Update) | Total     |\n",
      "|------------------------------------------------------------------------------|\n",
      "|    22 |   18.8556 |        8.8307 |      91.6201 |       38.5401 | 4155.4663 |\n",
      "|------------------------------------------------------------------------------|\n",
      "|------------------------------------------------------------------------------|\n",
      "| Epoch | Avg. Loss | Time (Sample) | Time (Gibbs) | Time (Update) | Total     |\n",
      "|------------------------------------------------------------------------------|\n",
      "|    23 |   18.6703 |        8.9018 |      92.3405 |       38.3676 | 4295.0761 |\n",
      "|------------------------------------------------------------------------------|\n",
      "|------------------------------------------------------------------------------|\n",
      "| Epoch | Avg. Loss | Time (Sample) | Time (Gibbs) | Time (Update) | Total     |\n",
      "|------------------------------------------------------------------------------|\n",
      "|    24 |   18.6097 |        9.0765 |      93.0862 |       39.3285 | 4436.5674 |\n",
      "|------------------------------------------------------------------------------|\n",
      "|------------------------------------------------------------------------------|\n",
      "| Epoch | Avg. Loss | Time (Sample) | Time (Gibbs) | Time (Update) | Total     |\n",
      "|------------------------------------------------------------------------------|\n",
      "|    25 |   18.5320 |        9.0049 |      92.6363 |       38.9146 | 4577.1232 |\n",
      "|------------------------------------------------------------------------------|\n",
      "|------------------------------------------------------------------------------|\n",
      "| Epoch | Avg. Loss | Time (Sample) | Time (Gibbs) | Time (Update) | Total     |\n",
      "|------------------------------------------------------------------------------|\n",
      "|    26 |   18.3463 |        8.8667 |      93.7137 |       39.2646 | 4718.9681 |\n",
      "|------------------------------------------------------------------------------|\n",
      "|------------------------------------------------------------------------------|\n",
      "| Epoch | Avg. Loss | Time (Sample) | Time (Gibbs) | Time (Update) | Total     |\n",
      "|------------------------------------------------------------------------------|\n",
      "|    27 |   18.2257 |        9.1297 |      94.8618 |       39.9243 | 4862.8839 |\n",
      "|------------------------------------------------------------------------------|\n",
      "|------------------------------------------------------------------------------|\n",
      "| Epoch | Avg. Loss | Time (Sample) | Time (Gibbs) | Time (Update) | Total     |\n",
      "|------------------------------------------------------------------------------|\n",
      "|    28 |   18.2161 |        8.8822 |      93.3329 |       39.1910 | 5004.2901 |\n",
      "|------------------------------------------------------------------------------|\n",
      "|------------------------------------------------------------------------------|\n",
      "| Epoch | Avg. Loss | Time (Sample) | Time (Gibbs) | Time (Update) | Total     |\n",
      "|------------------------------------------------------------------------------|\n",
      "|    29 |   18.1067 |        8.6245 |      91.4342 |       38.4722 | 5142.8209 |\n",
      "|------------------------------------------------------------------------------|\n",
      "|------------------------------------------------------------------------------|\n",
      "| Epoch | Avg. Loss | Time (Sample) | Time (Gibbs) | Time (Update) | Total     |\n",
      "|------------------------------------------------------------------------------|\n",
      "|    30 |   17.9558 |        9.0377 |      94.3660 |       39.7037 | 5285.9283 |\n",
      "|------------------------------------------------------------------------------|\n",
      "|------------------------------------------------------------------------------|\n",
      "| Epoch | Avg. Loss | Time (Sample) | Time (Gibbs) | Time (Update) | Total     |\n",
      "|------------------------------------------------------------------------------|\n",
      "|    31 |   17.8933 |        8.9362 |      90.9844 |       36.8265 | 5422.6754 |\n",
      "|------------------------------------------------------------------------------|\n",
      "|------------------------------------------------------------------------------|\n",
      "| Epoch | Avg. Loss | Time (Sample) | Time (Gibbs) | Time (Update) | Total     |\n",
      "|------------------------------------------------------------------------------|\n",
      "|    32 |   17.8629 |       11.0718 |     546.3448 |       50.3499 | 6030.4419 |\n",
      "|------------------------------------------------------------------------------|\n",
      "|------------------------------------------------------------------------------|\n",
      "| Epoch | Avg. Loss | Time (Sample) | Time (Gibbs) | Time (Update) | Total     |\n",
      "|------------------------------------------------------------------------------|\n",
      "|    33 |   17.7344 |        8.6291 |      88.8252 |       37.2855 | 6165.1818 |\n",
      "|------------------------------------------------------------------------------|\n",
      "|------------------------------------------------------------------------------|\n",
      "| Epoch | Avg. Loss | Time (Sample) | Time (Gibbs) | Time (Update) | Total     |\n",
      "|------------------------------------------------------------------------------|\n",
      "|    34 |   17.6500 |        8.6522 |      90.5285 |       38.5989 | 6302.9614 |\n",
      "|------------------------------------------------------------------------------|\n",
      "|------------------------------------------------------------------------------|\n",
      "| Epoch | Avg. Loss | Time (Sample) | Time (Gibbs) | Time (Update) | Total     |\n",
      "|------------------------------------------------------------------------------|\n",
      "|    35 |   17.6742 |        8.9988 |      96.7848 |       41.5900 | 6450.3350 |\n",
      "|------------------------------------------------------------------------------|\n",
      "|------------------------------------------------------------------------------|\n",
      "| Epoch | Avg. Loss | Time (Sample) | Time (Gibbs) | Time (Update) | Total     |\n",
      "|------------------------------------------------------------------------------|\n",
      "|    36 |   17.5809 |        8.9447 |      94.3827 |       41.4161 | 6595.0786 |\n",
      "|------------------------------------------------------------------------------|\n",
      "|------------------------------------------------------------------------------|\n",
      "| Epoch | Avg. Loss | Time (Sample) | Time (Gibbs) | Time (Update) | Total     |\n",
      "|------------------------------------------------------------------------------|\n",
      "|    37 |   17.4712 |        9.1332 |      96.5123 |       42.1561 | 6742.8802 |\n",
      "|------------------------------------------------------------------------------|\n",
      "|------------------------------------------------------------------------------|\n",
      "| Epoch | Avg. Loss | Time (Sample) | Time (Gibbs) | Time (Update) | Total     |\n",
      "|------------------------------------------------------------------------------|\n",
      "|    38 |   17.4267 |        8.5627 |      91.3634 |       39.3475 | 6882.1539 |\n",
      "|------------------------------------------------------------------------------|\n",
      "|------------------------------------------------------------------------------|\n",
      "| Epoch | Avg. Loss | Time (Sample) | Time (Gibbs) | Time (Update) | Total     |\n",
      "|------------------------------------------------------------------------------|\n",
      "|    39 |   17.3502 |        8.7633 |      90.8472 |       39.0330 | 7020.7974 |\n",
      "|------------------------------------------------------------------------------|\n",
      "|------------------------------------------------------------------------------|\n",
      "| Epoch | Avg. Loss | Time (Sample) | Time (Gibbs) | Time (Update) | Total     |\n",
      "|------------------------------------------------------------------------------|\n",
      "|    40 |   17.4485 |        8.5689 |      91.0973 |       39.1322 | 7159.5958 |\n",
      "|------------------------------------------------------------------------------|\n",
      "|------------------------------------------------------------------------------|\n",
      "| Epoch | Avg. Loss | Time (Sample) | Time (Gibbs) | Time (Update) | Total     |\n",
      "|------------------------------------------------------------------------------|\n",
      "|    41 |   17.2894 |        8.6741 |      91.1446 |       39.4789 | 7298.8935 |\n",
      "|------------------------------------------------------------------------------|\n",
      "|------------------------------------------------------------------------------|\n",
      "| Epoch | Avg. Loss | Time (Sample) | Time (Gibbs) | Time (Update) | Total     |\n",
      "|------------------------------------------------------------------------------|\n",
      "|    42 |   17.2530 |        8.7792 |      92.1729 |       39.2184 | 7439.0640 |\n",
      "|------------------------------------------------------------------------------|\n",
      "|------------------------------------------------------------------------------|\n",
      "| Epoch | Avg. Loss | Time (Sample) | Time (Gibbs) | Time (Update) | Total     |\n",
      "|------------------------------------------------------------------------------|\n",
      "|    43 |   17.2380 |        8.9607 |      93.9510 |       40.8156 | 7582.7912 |\n",
      "|------------------------------------------------------------------------------|\n",
      "|------------------------------------------------------------------------------|\n",
      "| Epoch | Avg. Loss | Time (Sample) | Time (Gibbs) | Time (Update) | Total     |\n",
      "|------------------------------------------------------------------------------|\n",
      "|    44 |   17.1319 |        8.8669 |      94.1554 |       40.3366 | 7726.1502 |\n",
      "|------------------------------------------------------------------------------|\n",
      "|------------------------------------------------------------------------------|\n",
      "| Epoch | Avg. Loss | Time (Sample) | Time (Gibbs) | Time (Update) | Total     |\n",
      "|------------------------------------------------------------------------------|\n",
      "|    45 |   17.1186 |        8.7596 |      94.3827 |       40.3614 | 7869.6538 |\n",
      "|------------------------------------------------------------------------------|\n",
      "|------------------------------------------------------------------------------|\n",
      "| Epoch | Avg. Loss | Time (Sample) | Time (Gibbs) | Time (Update) | Total     |\n",
      "|------------------------------------------------------------------------------|\n",
      "|    46 |   17.0798 |        8.9565 |      92.6214 |       39.7983 | 8011.0301 |\n",
      "|------------------------------------------------------------------------------|\n",
      "|------------------------------------------------------------------------------|\n",
      "| Epoch | Avg. Loss | Time (Sample) | Time (Gibbs) | Time (Update) | Total     |\n",
      "|------------------------------------------------------------------------------|\n",
      "|    47 |   17.0896 |        8.8463 |      93.2484 |       39.9793 | 8153.1042 |\n",
      "|------------------------------------------------------------------------------|\n",
      "|------------------------------------------------------------------------------|\n",
      "| Epoch | Avg. Loss | Time (Sample) | Time (Gibbs) | Time (Update) | Total     |\n",
      "|------------------------------------------------------------------------------|\n",
      "|    48 |   17.0620 |        8.9162 |      92.7456 |       40.7052 | 8295.4711 |\n",
      "|------------------------------------------------------------------------------|\n",
      "|------------------------------------------------------------------------------|\n",
      "| Epoch | Avg. Loss | Time (Sample) | Time (Gibbs) | Time (Update) | Total     |\n",
      "|------------------------------------------------------------------------------|\n",
      "|    49 |   16.9802 |        8.7396 |      90.1420 |       37.8744 | 8432.2271 |\n",
      "|------------------------------------------------------------------------------|\n",
      "|------------------------------------------------------------------------------|\n",
      "| Epoch | Avg. Loss | Time (Sample) | Time (Gibbs) | Time (Update) | Total     |\n",
      "|------------------------------------------------------------------------------|\n",
      "|    50 |   16.9144 |        8.5943 |      88.7890 |       36.8324 | 8566.4427 |\n",
      "|------------------------------------------------------------------------------|\n",
      "Finished training after 50 epochs.\n",
      "Total time spent sampling: 449.6958661079407\n",
      "Total time spent in Gibbs sampling: 6117.81919169426\n",
      "Total time spent updating parameters: 1998.9276213645935\n",
      "Total time spent training: 8566.442679166794\n"
     ]
    },
    {
     "data": {
      "text/plain": [
       "50-element Vector{Float64}:\n",
       " 27.46512777330261\n",
       " 25.717113079022884\n",
       " 24.822095761529308\n",
       " 23.95889193652325\n",
       " 23.291279440785406\n",
       " 22.85755787507356\n",
       " 22.399285928834363\n",
       " 22.040724789237885\n",
       " 21.70222857733485\n",
       " 21.25357250955293\n",
       " 20.969184803203454\n",
       " 20.714473600703535\n",
       " 20.464393282386567\n",
       "  ⋮\n",
       " 17.350238731338052\n",
       " 17.448477377514674\n",
       " 17.289444244238673\n",
       " 17.253034807618064\n",
       " 17.237995077284097\n",
       " 17.131888274352292\n",
       " 17.118626445196416\n",
       " 17.079761008249108\n",
       " 17.08958111330302\n",
       " 17.06195011684832\n",
       " 16.980230588115468\n",
       " 16.914429596265247"
      ]
     },
     "execution_count": 16,
     "metadata": {},
     "output_type": "execute_result"
    }
   ],
   "source": [
    "avg_loss = QARBoM.train_cd(rbm, x_bin[1:5000]; n_epochs = 50, cd_steps = 3, learning_rate = 0.1)"
   ]
  },
  {
   "cell_type": "code",
   "execution_count": 17,
   "id": "5a2b6a59-fc55-4d61-a4cc-426112287499",
   "metadata": {},
   "outputs": [
    {
     "data": {
      "text/html": [
       "<div><div style = \"float: left;\"><span>50×2 DataFrame</span></div><div style = \"float: right;\"><span style = \"font-style: italic;\">25 rows omitted</span></div><div style = \"clear: both;\"></div></div><div class = \"data-frame\" style = \"overflow-x: scroll;\"><table class = \"data-frame\" style = \"margin-bottom: 6px;\"><thead><tr class = \"header\"><th class = \"rowNumber\" style = \"font-weight: bold; text-align: right;\">Row</th><th style = \"text-align: left;\">epoch</th><th style = \"text-align: left;\">avg_loss</th></tr><tr class = \"subheader headerLastRow\"><th class = \"rowNumber\" style = \"font-weight: bold; text-align: right;\"></th><th title = \"Int64\" style = \"text-align: left;\">Int64</th><th title = \"Float64\" style = \"text-align: left;\">Float64</th></tr></thead><tbody><tr><td class = \"rowNumber\" style = \"font-weight: bold; text-align: right;\">1</td><td style = \"text-align: right;\">1</td><td style = \"text-align: right;\">27.4651</td></tr><tr><td class = \"rowNumber\" style = \"font-weight: bold; text-align: right;\">2</td><td style = \"text-align: right;\">2</td><td style = \"text-align: right;\">25.7171</td></tr><tr><td class = \"rowNumber\" style = \"font-weight: bold; text-align: right;\">3</td><td style = \"text-align: right;\">3</td><td style = \"text-align: right;\">24.8221</td></tr><tr><td class = \"rowNumber\" style = \"font-weight: bold; text-align: right;\">4</td><td style = \"text-align: right;\">4</td><td style = \"text-align: right;\">23.9589</td></tr><tr><td class = \"rowNumber\" style = \"font-weight: bold; text-align: right;\">5</td><td style = \"text-align: right;\">5</td><td style = \"text-align: right;\">23.2913</td></tr><tr><td class = \"rowNumber\" style = \"font-weight: bold; text-align: right;\">6</td><td style = \"text-align: right;\">6</td><td style = \"text-align: right;\">22.8576</td></tr><tr><td class = \"rowNumber\" style = \"font-weight: bold; text-align: right;\">7</td><td style = \"text-align: right;\">7</td><td style = \"text-align: right;\">22.3993</td></tr><tr><td class = \"rowNumber\" style = \"font-weight: bold; text-align: right;\">8</td><td style = \"text-align: right;\">8</td><td style = \"text-align: right;\">22.0407</td></tr><tr><td class = \"rowNumber\" style = \"font-weight: bold; text-align: right;\">9</td><td style = \"text-align: right;\">9</td><td style = \"text-align: right;\">21.7022</td></tr><tr><td class = \"rowNumber\" style = \"font-weight: bold; text-align: right;\">10</td><td style = \"text-align: right;\">10</td><td style = \"text-align: right;\">21.2536</td></tr><tr><td class = \"rowNumber\" style = \"font-weight: bold; text-align: right;\">11</td><td style = \"text-align: right;\">11</td><td style = \"text-align: right;\">20.9692</td></tr><tr><td class = \"rowNumber\" style = \"font-weight: bold; text-align: right;\">12</td><td style = \"text-align: right;\">12</td><td style = \"text-align: right;\">20.7145</td></tr><tr><td class = \"rowNumber\" style = \"font-weight: bold; text-align: right;\">13</td><td style = \"text-align: right;\">13</td><td style = \"text-align: right;\">20.4644</td></tr><tr><td style = \"text-align: right;\">&vellip;</td><td style = \"text-align: right;\">&vellip;</td><td style = \"text-align: right;\">&vellip;</td></tr><tr><td class = \"rowNumber\" style = \"font-weight: bold; text-align: right;\">39</td><td style = \"text-align: right;\">39</td><td style = \"text-align: right;\">17.3502</td></tr><tr><td class = \"rowNumber\" style = \"font-weight: bold; text-align: right;\">40</td><td style = \"text-align: right;\">40</td><td style = \"text-align: right;\">17.4485</td></tr><tr><td class = \"rowNumber\" style = \"font-weight: bold; text-align: right;\">41</td><td style = \"text-align: right;\">41</td><td style = \"text-align: right;\">17.2894</td></tr><tr><td class = \"rowNumber\" style = \"font-weight: bold; text-align: right;\">42</td><td style = \"text-align: right;\">42</td><td style = \"text-align: right;\">17.253</td></tr><tr><td class = \"rowNumber\" style = \"font-weight: bold; text-align: right;\">43</td><td style = \"text-align: right;\">43</td><td style = \"text-align: right;\">17.238</td></tr><tr><td class = \"rowNumber\" style = \"font-weight: bold; text-align: right;\">44</td><td style = \"text-align: right;\">44</td><td style = \"text-align: right;\">17.1319</td></tr><tr><td class = \"rowNumber\" style = \"font-weight: bold; text-align: right;\">45</td><td style = \"text-align: right;\">45</td><td style = \"text-align: right;\">17.1186</td></tr><tr><td class = \"rowNumber\" style = \"font-weight: bold; text-align: right;\">46</td><td style = \"text-align: right;\">46</td><td style = \"text-align: right;\">17.0798</td></tr><tr><td class = \"rowNumber\" style = \"font-weight: bold; text-align: right;\">47</td><td style = \"text-align: right;\">47</td><td style = \"text-align: right;\">17.0896</td></tr><tr><td class = \"rowNumber\" style = \"font-weight: bold; text-align: right;\">48</td><td style = \"text-align: right;\">48</td><td style = \"text-align: right;\">17.062</td></tr><tr><td class = \"rowNumber\" style = \"font-weight: bold; text-align: right;\">49</td><td style = \"text-align: right;\">49</td><td style = \"text-align: right;\">16.9802</td></tr><tr><td class = \"rowNumber\" style = \"font-weight: bold; text-align: right;\">50</td><td style = \"text-align: right;\">50</td><td style = \"text-align: right;\">16.9144</td></tr></tbody></table></div>"
      ],
      "text/latex": [
       "\\begin{tabular}{r|cc}\n",
       "\t& epoch & avg\\_loss\\\\\n",
       "\t\\hline\n",
       "\t& Int64 & Float64\\\\\n",
       "\t\\hline\n",
       "\t1 & 1 & 27.4651 \\\\\n",
       "\t2 & 2 & 25.7171 \\\\\n",
       "\t3 & 3 & 24.8221 \\\\\n",
       "\t4 & 4 & 23.9589 \\\\\n",
       "\t5 & 5 & 23.2913 \\\\\n",
       "\t6 & 6 & 22.8576 \\\\\n",
       "\t7 & 7 & 22.3993 \\\\\n",
       "\t8 & 8 & 22.0407 \\\\\n",
       "\t9 & 9 & 21.7022 \\\\\n",
       "\t10 & 10 & 21.2536 \\\\\n",
       "\t11 & 11 & 20.9692 \\\\\n",
       "\t12 & 12 & 20.7145 \\\\\n",
       "\t13 & 13 & 20.4644 \\\\\n",
       "\t14 & 14 & 20.215 \\\\\n",
       "\t15 & 15 & 20.0268 \\\\\n",
       "\t16 & 16 & 19.7292 \\\\\n",
       "\t17 & 17 & 19.5485 \\\\\n",
       "\t18 & 18 & 19.4804 \\\\\n",
       "\t19 & 19 & 19.2647 \\\\\n",
       "\t20 & 20 & 19.2093 \\\\\n",
       "\t21 & 21 & 18.9848 \\\\\n",
       "\t22 & 22 & 18.8556 \\\\\n",
       "\t23 & 23 & 18.6703 \\\\\n",
       "\t24 & 24 & 18.6097 \\\\\n",
       "\t25 & 25 & 18.532 \\\\\n",
       "\t26 & 26 & 18.3463 \\\\\n",
       "\t27 & 27 & 18.2257 \\\\\n",
       "\t28 & 28 & 18.2161 \\\\\n",
       "\t29 & 29 & 18.1067 \\\\\n",
       "\t30 & 30 & 17.9558 \\\\\n",
       "\t$\\dots$ & $\\dots$ & $\\dots$ \\\\\n",
       "\\end{tabular}\n"
      ],
      "text/plain": [
       "\u001b[1m50×2 DataFrame\u001b[0m\n",
       "\u001b[1m Row \u001b[0m│\u001b[1m epoch \u001b[0m\u001b[1m avg_loss \u001b[0m\n",
       "     │\u001b[90m Int64 \u001b[0m\u001b[90m Float64  \u001b[0m\n",
       "─────┼─────────────────\n",
       "   1 │     1   27.4651\n",
       "   2 │     2   25.7171\n",
       "   3 │     3   24.8221\n",
       "   4 │     4   23.9589\n",
       "   5 │     5   23.2913\n",
       "   6 │     6   22.8576\n",
       "   7 │     7   22.3993\n",
       "   8 │     8   22.0407\n",
       "   9 │     9   21.7022\n",
       "  10 │    10   21.2536\n",
       "  11 │    11   20.9692\n",
       "  ⋮  │   ⋮       ⋮\n",
       "  41 │    41   17.2894\n",
       "  42 │    42   17.253\n",
       "  43 │    43   17.238\n",
       "  44 │    44   17.1319\n",
       "  45 │    45   17.1186\n",
       "  46 │    46   17.0798\n",
       "  47 │    47   17.0896\n",
       "  48 │    48   17.062\n",
       "  49 │    49   16.9802\n",
       "  50 │    50   16.9144\n",
       "\u001b[36m        29 rows omitted\u001b[0m"
      ]
     },
     "execution_count": 17,
     "metadata": {},
     "output_type": "execute_result"
    }
   ],
   "source": [
    "df = DataFrame(\"epoch\" => 1:50, \"avg_loss\" => avg_loss)"
   ]
  },
  {
   "cell_type": "code",
   "execution_count": 18,
   "id": "330adb1e-75ad-48c0-b851-caec7b870e3e",
   "metadata": {},
   "outputs": [
    {
     "data": {
      "text/plain": [
       "\"cd_avg_loss.csv\""
      ]
     },
     "execution_count": 18,
     "metadata": {},
     "output_type": "execute_result"
    }
   ],
   "source": [
    "CSV.write(\"cd_avg_loss.csv\", df)"
   ]
  },
  {
   "cell_type": "code",
   "execution_count": 19,
   "id": "3dadaff9",
   "metadata": {},
   "outputs": [
    {
     "data": {
      "text/plain": [
       "10000-element Vector{Vector{Float32}}:\n",
       " [0.0, 0.0, 0.0, 0.0, 0.0, 0.0, 0.0, 0.0, 0.0, 0.0  …  0.0, 0.0, 0.0, 0.0, 0.0, 0.0, 0.0, 0.0, 0.0, 0.0]\n",
       " [0.0, 0.0, 0.0, 0.0, 0.0, 0.0, 0.0, 0.0, 0.0, 0.0  …  0.0, 0.0, 0.0, 0.0, 0.0, 0.0, 0.0, 0.0, 0.0, 0.0]\n",
       " [0.0, 0.0, 0.0, 0.0, 0.0, 0.0, 0.0, 0.0, 0.0, 0.0  …  0.0, 0.0, 0.0, 0.0, 0.0, 0.0, 0.0, 0.0, 0.0, 0.0]\n",
       " [0.0, 0.0, 0.0, 0.0, 0.0, 0.0, 0.0, 0.0, 0.0, 0.0  …  0.0, 0.0, 0.0, 0.0, 0.0, 0.0, 0.0, 0.0, 0.0, 0.0]\n",
       " [0.0, 0.0, 0.0, 0.0, 0.0, 0.0, 0.0, 0.0, 0.0, 0.0  …  0.0, 0.0, 0.0, 0.0, 0.0, 0.0, 0.0, 0.0, 0.0, 0.0]\n",
       " [0.0, 0.0, 0.0, 0.0, 0.0, 0.0, 0.0, 0.0, 0.0, 0.0  …  0.0, 0.0, 0.0, 0.0, 0.0, 0.0, 0.0, 0.0, 0.0, 0.0]\n",
       " [0.0, 0.0, 0.0, 0.0, 0.0, 0.0, 0.0, 0.0, 0.0, 0.0  …  0.0, 0.0, 0.0, 0.0, 0.0, 0.0, 0.0, 0.0, 0.0, 0.0]\n",
       " [0.0, 0.0, 0.0, 0.0, 0.0, 0.0, 0.0, 0.0, 0.0, 0.0  …  0.0, 0.0, 0.0, 0.0, 0.0, 0.0, 0.0, 0.0, 0.0, 0.0]\n",
       " [0.0, 0.0, 0.0, 0.0, 0.0, 0.0, 0.0, 0.0, 0.0, 0.0  …  0.0, 0.0, 0.0, 0.0, 0.0, 0.0, 0.0, 0.0, 0.0, 0.0]\n",
       " [0.0, 0.0, 0.0, 0.0, 0.0, 0.0, 0.0, 0.0, 0.0, 0.0  …  0.0, 0.0, 0.0, 0.0, 0.0, 0.0, 0.0, 0.0, 0.0, 0.0]\n",
       " [0.0, 0.0, 0.0, 0.0, 0.0, 0.0, 0.0, 0.0, 0.0, 0.0  …  0.0, 0.0, 0.0, 0.0, 0.0, 0.0, 0.0, 0.0, 0.0, 0.0]\n",
       " [0.0, 0.0, 0.0, 0.0, 0.0, 0.0, 0.0, 0.0, 0.0, 0.0  …  0.0, 0.0, 0.0, 0.0, 0.0, 0.0, 0.0, 0.0, 0.0, 0.0]\n",
       " [0.0, 0.0, 0.0, 0.0, 0.0, 0.0, 0.0, 0.0, 0.0, 0.0  …  0.0, 0.0, 0.0, 0.0, 0.0, 0.0, 0.0, 0.0, 0.0, 0.0]\n",
       " ⋮\n",
       " [0.0, 0.0, 0.0, 0.0, 0.0, 0.0, 0.0, 0.0, 0.0, 0.0  …  0.0, 0.0, 0.0, 0.0, 0.0, 0.0, 0.0, 0.0, 0.0, 0.0]\n",
       " [0.0, 0.0, 0.0, 0.0, 0.0, 0.0, 0.0, 0.0, 0.0, 0.0  …  0.0, 0.0, 0.0, 0.0, 0.0, 0.0, 0.0, 0.0, 0.0, 0.0]\n",
       " [0.0, 0.0, 0.0, 0.0, 0.0, 0.0, 0.0, 0.0, 0.0, 0.0  …  0.0, 0.0, 0.0, 0.0, 0.0, 0.0, 0.0, 0.0, 0.0, 0.0]\n",
       " [0.0, 0.0, 0.0, 0.0, 0.0, 0.0, 0.0, 0.0, 0.0, 0.0  …  0.0, 0.0, 0.0, 0.0, 0.0, 0.0, 0.0, 0.0, 0.0, 0.0]\n",
       " [0.0, 0.0, 0.0, 0.0, 0.0, 0.0, 0.0, 0.0, 0.0, 0.0  …  0.0, 0.0, 0.0, 0.0, 0.0, 0.0, 0.0, 0.0, 0.0, 0.0]\n",
       " [0.0, 0.0, 0.0, 0.0, 0.0, 0.0, 0.0, 0.0, 0.0, 0.0  …  0.0, 0.0, 0.0, 0.0, 0.0, 0.0, 0.0, 0.0, 0.0, 0.0]\n",
       " [0.0, 0.0, 0.0, 0.0, 0.0, 0.0, 0.0, 0.0, 0.0, 0.0  …  0.0, 0.0, 0.0, 0.0, 0.0, 0.0, 0.0, 0.0, 0.0, 0.0]\n",
       " [0.0, 0.0, 0.0, 0.0, 0.0, 0.0, 0.0, 0.0, 0.0, 0.0  …  0.0, 0.0, 0.0, 0.0, 0.0, 0.0, 0.0, 0.0, 0.0, 0.0]\n",
       " [0.0, 0.0, 0.0, 0.0, 0.0, 0.0, 0.0, 0.0, 0.0, 0.0  …  0.0, 0.0, 0.0, 0.0, 0.0, 0.0, 0.0, 0.0, 0.0, 0.0]\n",
       " [0.0, 0.0, 0.0, 0.0, 0.0, 0.0, 0.0, 0.0, 0.0, 0.0  …  0.0, 0.0, 0.0, 0.0, 0.0, 0.0, 0.0, 0.0, 0.0, 0.0]\n",
       " [0.0, 0.0, 0.0, 0.0, 0.0, 0.0, 0.0, 0.0, 0.0, 0.0  …  0.0, 0.0, 0.0, 0.0, 0.0, 0.0, 0.0, 0.0, 0.0, 0.0]\n",
       " [0.0, 0.0, 0.0, 0.0, 0.0, 0.0, 0.0, 0.0, 0.0, 0.0  …  0.0, 0.0, 0.0, 0.0, 0.0, 0.0, 0.0, 0.0, 0.0, 0.0]"
      ]
     },
     "execution_count": 19,
     "metadata": {},
     "output_type": "execute_result"
    }
   ],
   "source": [
    "x_test = [\n",
    "    vec( x_test[:,:,i]) for i in 1:10000\n",
    "    ]"
   ]
  },
  {
   "cell_type": "code",
   "execution_count": 20,
   "id": "eff3f982-856b-40d1-b44c-25e6a93e67b6",
   "metadata": {},
   "outputs": [
    {
     "data": {
      "text/plain": [
       "10000-element Vector{Vector{Int64}}:\n",
       " [0, 0, 0, 0, 0, 0, 0, 0, 0, 0  …  0, 0, 0, 0, 0, 0, 0, 0, 0, 0]\n",
       " [0, 0, 0, 0, 0, 0, 0, 0, 0, 0  …  0, 0, 0, 0, 0, 0, 0, 0, 0, 0]\n",
       " [0, 0, 0, 0, 0, 0, 0, 0, 0, 0  …  0, 0, 0, 0, 0, 0, 0, 0, 0, 0]\n",
       " [0, 0, 0, 0, 0, 0, 0, 0, 0, 0  …  0, 0, 0, 0, 0, 0, 0, 0, 0, 0]\n",
       " [0, 0, 0, 0, 0, 0, 0, 0, 0, 0  …  0, 0, 0, 0, 0, 0, 0, 0, 0, 0]\n",
       " [0, 0, 0, 0, 0, 0, 0, 0, 0, 0  …  0, 0, 0, 0, 0, 0, 0, 0, 0, 0]\n",
       " [0, 0, 0, 0, 0, 0, 0, 0, 0, 0  …  0, 0, 0, 0, 0, 0, 0, 0, 0, 0]\n",
       " [0, 0, 0, 0, 0, 0, 0, 0, 0, 0  …  0, 0, 0, 0, 0, 0, 0, 0, 0, 0]\n",
       " [0, 0, 0, 0, 0, 0, 0, 0, 0, 0  …  0, 0, 0, 0, 0, 0, 0, 0, 0, 0]\n",
       " [0, 0, 0, 0, 0, 0, 0, 0, 0, 0  …  0, 0, 0, 0, 0, 0, 0, 0, 0, 0]\n",
       " [0, 0, 0, 0, 0, 0, 0, 0, 0, 0  …  0, 0, 0, 0, 0, 0, 0, 0, 0, 0]\n",
       " [0, 0, 0, 0, 0, 0, 0, 0, 0, 0  …  0, 0, 0, 0, 0, 0, 0, 0, 0, 0]\n",
       " [0, 0, 0, 0, 0, 0, 0, 0, 0, 0  …  0, 0, 0, 0, 0, 0, 0, 0, 0, 0]\n",
       " ⋮\n",
       " [0, 0, 0, 0, 0, 0, 0, 0, 0, 0  …  0, 0, 0, 0, 0, 0, 0, 0, 0, 0]\n",
       " [0, 0, 0, 0, 0, 0, 0, 0, 0, 0  …  0, 0, 0, 0, 0, 0, 0, 0, 0, 0]\n",
       " [0, 0, 0, 0, 0, 0, 0, 0, 0, 0  …  0, 0, 0, 0, 0, 0, 0, 0, 0, 0]\n",
       " [0, 0, 0, 0, 0, 0, 0, 0, 0, 0  …  0, 0, 0, 0, 0, 0, 0, 0, 0, 0]\n",
       " [0, 0, 0, 0, 0, 0, 0, 0, 0, 0  …  0, 0, 0, 0, 0, 0, 0, 0, 0, 0]\n",
       " [0, 0, 0, 0, 0, 0, 0, 0, 0, 0  …  0, 0, 0, 0, 0, 0, 0, 0, 0, 0]\n",
       " [0, 0, 0, 0, 0, 0, 0, 0, 0, 0  …  0, 0, 0, 0, 0, 0, 0, 0, 0, 0]\n",
       " [0, 0, 0, 0, 0, 0, 0, 0, 0, 0  …  0, 0, 0, 0, 0, 0, 0, 0, 0, 0]\n",
       " [0, 0, 0, 0, 0, 0, 0, 0, 0, 0  …  0, 0, 0, 0, 0, 0, 0, 0, 0, 0]\n",
       " [0, 0, 0, 0, 0, 0, 0, 0, 0, 0  …  0, 0, 0, 0, 0, 0, 0, 0, 0, 0]\n",
       " [0, 0, 0, 0, 0, 0, 0, 0, 0, 0  …  0, 0, 0, 0, 0, 0, 0, 0, 0, 0]\n",
       " [0, 0, 0, 0, 0, 0, 0, 0, 0, 0  …  0, 0, 0, 0, 0, 0, 0, 0, 0, 0]"
      ]
     },
     "execution_count": 20,
     "metadata": {},
     "output_type": "execute_result"
    }
   ],
   "source": [
    "x_bin_test = [\n",
    "    vec(round.(Int, x_test[i])) for i in 1:10000\n",
    "    ]"
   ]
  },
  {
   "cell_type": "code",
   "execution_count": 68,
   "id": "b2b0760f-b0f7-47b7-aa3f-9b3bcccfe489",
   "metadata": {},
   "outputs": [
    {
     "data": {
      "image/png": "[encoded data removed]",
      "text/html": [
       "<img src=\"data:image/png;base64,iVBORw0KGgoAAAANSUhEUgAAAHAAAABwCAAAAADji6uXAAAABGdBTUEAALGPC/xhBQAAAAFzUkdCAK7OHOkAAAAgY0hSTQAAeiYAAICEAAD6AAAAgOgAAHUwAADqYAAAOpgAABdwnLpRPAAAAX5JREFUaAW9wcGR2kAABMB+TF4ska0UGevM/LgHpToEMuWa7iiLsiiLsiiLsiiLsiiLsiiLsiiLsiiLsiiLsiiLsvjCwPBjetr92JyLsiiLsrhoYGA6Nz1tXouyKIuy+GBgYrhuYmLH5ijKoizK4o0NNwzfmVhYnqIsyqIsTgxMry3sWJ4GJoanheUoyqIsyuKFgYejhbtzCwsDDz8GNmyeoizKoixeeDjasblmeS/KoizK4oKb790cRVmURVlc8Mf3hqMoi7IoixcWhqeb7+2OoizKoixe+IPhaWDD5rPhvSiLsiiLizbXDEfLUZRFWZTFRQ/cfTYdLUdRFmVRFi9smI6Gz4bPoizKoixO7Jj+zcPR3W9RFmVRFicWpusejnYsv0VZlEVZnFjYMT1t2BwNTAxHy2tRFmVRFm9suGH4MTGxYzp3x/JalEVZlMUHO4aj6dwdy7koi7Ioiw8WFobP7ljei7Ioi7K44O7/ibIoi7Ioi7Ioi7Ioi7Ioi7K/tYg3Nr1amOMAAAAASUVORK5C\">"
      ],
      "text/plain": [
       "28×28 reinterpret(reshape, Gray{Float64}, ::Matrix{Float64}) with eltype Gray{Float64}:\n",
       " Gray{Float64}(0.0)  Gray{Float64}(0.0)  …  Gray{Float64}(0.0)\n",
       " Gray{Float64}(0.0)  Gray{Float64}(0.0)     Gray{Float64}(0.0)\n",
       " Gray{Float64}(0.0)  Gray{Float64}(0.0)     Gray{Float64}(0.0)\n",
       " Gray{Float64}(0.0)  Gray{Float64}(0.0)     Gray{Float64}(0.0)\n",
       " Gray{Float64}(0.0)  Gray{Float64}(0.0)     Gray{Float64}(0.0)\n",
       " Gray{Float64}(0.0)  Gray{Float64}(0.0)  …  Gray{Float64}(0.0)\n",
       " Gray{Float64}(0.0)  Gray{Float64}(0.0)     Gray{Float64}(0.0)\n",
       " Gray{Float64}(0.0)  Gray{Float64}(0.0)     Gray{Float64}(0.0)\n",
       " Gray{Float64}(0.0)  Gray{Float64}(0.0)     Gray{Float64}(0.0)\n",
       " Gray{Float64}(0.0)  Gray{Float64}(0.0)     Gray{Float64}(0.0)\n",
       " Gray{Float64}(0.0)  Gray{Float64}(0.0)  …  Gray{Float64}(0.0)\n",
       " Gray{Float64}(0.0)  Gray{Float64}(0.0)     Gray{Float64}(0.0)\n",
       " Gray{Float64}(0.0)  Gray{Float64}(0.0)     Gray{Float64}(0.0)\n",
       " ⋮                                       ⋱  \n",
       " Gray{Float64}(0.0)  Gray{Float64}(0.0)     Gray{Float64}(0.0)\n",
       " Gray{Float64}(0.0)  Gray{Float64}(0.0)     Gray{Float64}(0.0)\n",
       " Gray{Float64}(0.0)  Gray{Float64}(0.0)     Gray{Float64}(0.0)\n",
       " Gray{Float64}(0.0)  Gray{Float64}(0.0)     Gray{Float64}(0.0)\n",
       " Gray{Float64}(0.0)  Gray{Float64}(0.0)  …  Gray{Float64}(0.0)\n",
       " Gray{Float64}(0.0)  Gray{Float64}(0.0)     Gray{Float64}(0.0)\n",
       " Gray{Float64}(0.0)  Gray{Float64}(0.0)     Gray{Float64}(0.0)\n",
       " Gray{Float64}(0.0)  Gray{Float64}(0.0)     Gray{Float64}(0.0)\n",
       " Gray{Float64}(0.0)  Gray{Float64}(0.0)     Gray{Float64}(0.0)\n",
       " Gray{Float64}(0.0)  Gray{Float64}(0.0)  …  Gray{Float64}(0.0)\n",
       " Gray{Float64}(0.0)  Gray{Float64}(0.0)     Gray{Float64}(0.0)\n",
       " Gray{Float64}(0.0)  Gray{Float64}(0.0)     Gray{Float64}(0.0)"
      ]
     },
     "execution_count": 68,
     "metadata": {},
     "output_type": "execute_result"
    }
   ],
   "source": [
    "original_vec = x_test[5000]\n",
    "original_img = 1.0 .* reshape(original_vec, (28,28))\n",
    "colorview(Gray, original_img)"
   ]
  },
  {
   "cell_type": "code",
   "execution_count": 69,
   "id": "d65b94a3-0bbf-437d-9546-73219ad5a885",
   "metadata": {},
   "outputs": [
    {
     "data": {
      "image/png": "[encoded data removed]",
      "text/html": [
       "<img src=\"data:image/png;base64,iVBORw0KGgoAAAANSUhEUgAAAHAAAABwCAAAAADji6uXAAAABGdBTUEAALGPC/xhBQAAAAFzUkdCAK7OHOkAAAAgY0hSTQAAeiYAAICEAAD6AAAAgOgAAHUwAADqYAAAOpgAABdwnLpRPAAAAX5JREFUaAW9wcGR2kAABMB+TF4ska0UGevM/LgHpToEMuWa7iiLsiiLsiiLsiiLsiiLsiiLsiiLsiiLsiiLsiiLsvjCwPBjetr92JyLsiiLsrhoYGA6Nz1tXouyKIuy+GBgYrhuYmLH5ijKoizK4o0NNwzfmVhYnqIsyqIsTgxMry3sWJ4GJoanheUoyqIsyuKFgYejhbtzCwsDDz8GNmyeoizKoixeeDjasblmeS/KoizK4oKb790cRVmURVlc8Mf3hqMoi7IoixcWhqeb7+2OoizKoixe+IPhaWDD5rPhvSiLsiiLizbXDEfLUZRFWZTFRQ/cfTYdLUdRFmVRFi9smI6Gz4bPoizKoixO7Jj+zcPR3W9RFmVRFicWpusejnYsv0VZlEVZnFjYMT1t2BwNTAxHy2tRFmVRFm9suGH4MTGxYzp3x/JalEVZlMUHO4aj6dwdy7koi7Ioiw8WFobP7ljei7Ioi7K44O7/ibIoi7Ioi7Ioi7Ioi7Ioi7K/tYg3Nr1amOMAAAAASUVORK5C\">"
      ],
      "text/plain": [
       "28×28 reinterpret(reshape, Gray{Float64}, ::Matrix{Float64}) with eltype Gray{Float64}:\n",
       " Gray{Float64}(0.0)  Gray{Float64}(0.0)  …  Gray{Float64}(0.0)\n",
       " Gray{Float64}(0.0)  Gray{Float64}(0.0)     Gray{Float64}(0.0)\n",
       " Gray{Float64}(0.0)  Gray{Float64}(0.0)     Gray{Float64}(0.0)\n",
       " Gray{Float64}(0.0)  Gray{Float64}(0.0)     Gray{Float64}(0.0)\n",
       " Gray{Float64}(0.0)  Gray{Float64}(0.0)     Gray{Float64}(0.0)\n",
       " Gray{Float64}(0.0)  Gray{Float64}(0.0)  …  Gray{Float64}(0.0)\n",
       " Gray{Float64}(0.0)  Gray{Float64}(0.0)     Gray{Float64}(0.0)\n",
       " Gray{Float64}(0.0)  Gray{Float64}(0.0)     Gray{Float64}(0.0)\n",
       " Gray{Float64}(0.0)  Gray{Float64}(0.0)     Gray{Float64}(0.0)\n",
       " Gray{Float64}(0.0)  Gray{Float64}(0.0)     Gray{Float64}(0.0)\n",
       " Gray{Float64}(0.0)  Gray{Float64}(0.0)  …  Gray{Float64}(0.0)\n",
       " Gray{Float64}(0.0)  Gray{Float64}(0.0)     Gray{Float64}(0.0)\n",
       " Gray{Float64}(0.0)  Gray{Float64}(0.0)     Gray{Float64}(0.0)\n",
       " ⋮                                       ⋱  \n",
       " Gray{Float64}(0.0)  Gray{Float64}(0.0)     Gray{Float64}(0.0)\n",
       " Gray{Float64}(0.0)  Gray{Float64}(0.0)     Gray{Float64}(0.0)\n",
       " Gray{Float64}(0.0)  Gray{Float64}(0.0)     Gray{Float64}(0.0)\n",
       " Gray{Float64}(0.0)  Gray{Float64}(0.0)     Gray{Float64}(0.0)\n",
       " Gray{Float64}(0.0)  Gray{Float64}(0.0)  …  Gray{Float64}(0.0)\n",
       " Gray{Float64}(0.0)  Gray{Float64}(0.0)     Gray{Float64}(0.0)\n",
       " Gray{Float64}(0.0)  Gray{Float64}(0.0)     Gray{Float64}(0.0)\n",
       " Gray{Float64}(0.0)  Gray{Float64}(0.0)     Gray{Float64}(0.0)\n",
       " Gray{Float64}(0.0)  Gray{Float64}(0.0)     Gray{Float64}(0.0)\n",
       " Gray{Float64}(0.0)  Gray{Float64}(0.0)  …  Gray{Float64}(0.0)\n",
       " Gray{Float64}(0.0)  Gray{Float64}(0.0)     Gray{Float64}(0.0)\n",
       " Gray{Float64}(0.0)  Gray{Float64}(0.0)     Gray{Float64}(0.0)"
      ]
     },
     "execution_count": 69,
     "metadata": {},
     "output_type": "execute_result"
    }
   ],
   "source": [
    "cut = 784\n",
    "corrupted_vec = vcat(original_vec[1:cut], zeros(784-cut))\n",
    "corrupted_img = 1.0 .* reshape(corrupted_vec, (28,28))\n",
    "colorview(Gray, corrupted_img)"
   ]
  },
  {
   "cell_type": "code",
   "execution_count": 103,
   "id": "f55b5613-41bc-4fe8-abcf-6960530aa700",
   "metadata": {},
   "outputs": [
    {
     "data": {
      "image/png": "[encoded data removed]",
      "text/html": [
       "<img src=\"data:image/png;base64,iVBORw0KGgoAAAANSUhEUgAAAHAAAABwCAAAAADji6uXAAAABGdBTUEAALGPC/xhBQAAAAFzUkdCAK7OHOkAAAAgY0hSTQAAeiYAAICEAAD6AAAAgOgAAHUwAADqYAAAOpgAABdwnLpRPAAAA3pJREFUaAW9wU2IVQUYANBz33xvfpqsHDUDE5OiVMwgpU0WrVyURhRmIC5aiJugTdCq1ua2ja2saGME/VAEElKmLSpDajQUzaIhncgcB2fGp3PvbfEWw5v3nCDoOyckC8lCspAsJAvJQrKQLCQLyUKykCz8TwrUuoVkIVlIFhZQoNatgUpbP0pUaKBEgVpvIVlIFpKFBdRoYhYFlmEI+3EWt+ESjmMaP+I8htCHSW21OSFZSBaShQUU2jbhLVzFIziHzRjAX9iDk5jGGxjHOQxiRqeQLCQLycJNFFiBVXgPd6GJAvfiTwzjVlzBekzjZUzhKD7AGCpzQrKQLCQLPQRWYyf2oMAs+tDCJE5gMy6iiQPoxwsYxRO4jHd0CslCspAs9FDiPkygxBCOoIHP8TMG8RXexkc4hufwE87jKazEbzhsTkgWkoVkoYchPIstuIojGMVJHMUS/IrjGMCTWIkSqzCCYQxjGQrU2kKykCwkC/MU2IAdmMYwRnA39mEQZzGECTTQwmn04RBGsBVr8CYOmhOShWQhWejhRdQYwDgexl40cR39qHAdFQrUOI0CDVSoUKOBSltIFpKFZGGeAr9jGBO4gMMYQwMt9GEWtbZaW4USd+AM7keFwpyQLCQLyUIPd6JGiYt4HzNo4RbMoNat1DaM5ejHdyjNCclCspAszBPYiBaWoMApTKBCC6VuDdQoMIAHMYVBnUKykCwkC/PMosAsZnACN9BEjVkUqHVrYAivYBGm8JlOIVlIFpKFHvbhXYxiGw7iGi6iiRu61RjBRqzD35jAJzqFZCFZSBbmqdFEE8uxCA/hS/RjFgVqbQUK3I5FWIcTeAZjuKBTSBaShWRhnhqHsBcv4RJ2oYVjKFGZ00TgUazFKmzHJexGS6eQLCQLyUIPU9iAP3APFmMcp/AAfkCFAazE49iCMTyNY9iN86h1CslCspAs9FDiC9RYgT7sxGMYwGJ8jRtYjxKr0UAL23ENlW4hWUgWkoUeauzHGWzCJJZiKZagwja00ESBSbyGD1FiWm8hWUgWkoWbqHEYO7ALW9HCCAZQYwpDGMU3+BRXcA213kKykCwkC//ie3yLV7Ece/E61mAtDmANTuIyStQoUOsWkoVkIVlYQI1S2xR+wfPazuBjbeOodar1FpKFZCFZ+I8q/01IFpKFZCFZSBaShWT/AFlJ2vmyR4KlAAAAAElFTkSuQmCC\">"
      ],
      "text/plain": [
       "28×28 reinterpret(reshape, Gray{Float64}, ::Matrix{Float64}) with eltype Gray{Float64}:\n",
       " Gray{Float64}(4.27062e-6)   …  Gray{Float64}(2.80627e-7)\n",
       " Gray{Float64}(3.22199e-5)      Gray{Float64}(2.32079e-6)\n",
       " Gray{Float64}(1.64715e-6)      Gray{Float64}(6.32392e-5)\n",
       " Gray{Float64}(3.65651e-6)      Gray{Float64}(1.45454e-6)\n",
       " Gray{Float64}(9.74349e-6)      Gray{Float64}(0.000113559)\n",
       " Gray{Float64}(6.6621e-6)    …  Gray{Float64}(5.87686e-6)\n",
       " Gray{Float64}(5.66136e-7)      Gray{Float64}(5.47137e-7)\n",
       " Gray{Float64}(1.41653e-6)      Gray{Float64}(4.29113e-6)\n",
       " Gray{Float64}(1.72404e-5)      Gray{Float64}(3.3052e-7)\n",
       " Gray{Float64}(1.38065e-5)      Gray{Float64}(2.39604e-6)\n",
       " Gray{Float64}(3.31528e-6)   …  Gray{Float64}(3.16604e-7)\n",
       " Gray{Float64}(2.80333e-6)      Gray{Float64}(1.56354e-5)\n",
       " Gray{Float64}(6.67737e-7)      Gray{Float64}(0.000215381)\n",
       " ⋮                           ⋱  \n",
       " Gray{Float64}(3.77997e-6)      Gray{Float64}(1.6593e-7)\n",
       " Gray{Float64}(4.05095e-5)      Gray{Float64}(6.96927e-8)\n",
       " Gray{Float64}(1.89835e-6)      Gray{Float64}(1.13817e-6)\n",
       " Gray{Float64}(2.14305e-5)      Gray{Float64}(5.93594e-7)\n",
       " Gray{Float64}(1.27459e-6)   …  Gray{Float64}(8.57593e-7)\n",
       " Gray{Float64}(1.01698e-6)      Gray{Float64}(3.92186e-5)\n",
       " Gray{Float64}(1.20232e-5)      Gray{Float64}(4.44591e-7)\n",
       " Gray{Float64}(8.9529e-6)       Gray{Float64}(6.66699e-6)\n",
       " Gray{Float64}(2.92175e-7)      Gray{Float64}(5.91054e-6)\n",
       " Gray{Float64}(8.23574e-8)   …  Gray{Float64}(1.30813e-6)\n",
       " Gray{Float64}(0.000105802)     Gray{Float64}(0.000189858)\n",
       " Gray{Float64}(9.38168e-6)      Gray{Float64}(8.34059e-6)"
      ]
     },
     "execution_count": 103,
     "metadata": {},
     "output_type": "execute_result"
    }
   ],
   "source": [
    "reconstructed = QARBoM.reconstruct(rbm, round.(Int,original_vec))\n",
    "reconstructed_img = 1.0 .* reshape(reconstructed, (28,28))\n",
    "colorview(Gray, reconstructed_img)"
   ]
  },
  {
   "cell_type": "code",
   "execution_count": 117,
   "id": "9e4fa804-92f3-4a0e-8669-dc35536002e1",
   "metadata": {},
   "outputs": [
    {
     "ename": "LoadError",
     "evalue": "syntax: invalid identifier name \"?\"",
     "output_type": "error",
     "traceback": [
      "syntax: invalid identifier name \"?\"",
      "",
      "Stacktrace:",
      " [1] top-level scope",
      "   @ In[117]:6"
     ]
    }
   ],
   "source": [
    "plt = Array{Plots.Plot{Plots.GRBackend}}(undef,3)\n",
    "img1 = Gray.(reconstructed_img)\n",
    "img2 = Gray.( reconstructed_img)\n",
    "img3 = Gray.( reconstructed_img)\n",
    "plt[1] = plot(img1, size = (10,10));\n",
    "plt[2] = plot(img2, size = (10,10));\n",
    "plt[3] = plot(img3, size = (10,10));\n",
    "plot(plt, layout=@layout [a b c])\n"
   ]
  },
  {
   "cell_type": "code",
   "execution_count": 120,
   "id": "c3d3258e-502e-4e96-9ccf-ea48728c99f0",
   "metadata": {},
   "outputs": [
    {
     "data": {
      "text/plain": [
       "3-element Vector{Plots.Plot{Plots.GRBackend}}:\n",
       " #undef\n",
       " #undef\n",
       " #undef"
      ]
     },
     "execution_count": 120,
     "metadata": {},
     "output_type": "execute_result"
    }
   ],
   "source": [
    "plt = Array{Plots.Plot{Plots.GRBackend}}(undef,3)"
   ]
  },
  {
   "cell_type": "code",
   "execution_count": 126,
   "id": "27ea2a3a-8d5a-431d-a455-b02d7fc81929",
   "metadata": {},
   "outputs": [
    {
     "ename": "LoadError",
     "evalue": "The sum of widths must be 1!",
     "output_type": "error",
     "traceback": [
      "The sum of widths must be 1!",
      "",
      "Stacktrace:",
      " [1] error(s::String)",
      "   @ Base ./error.jl:35",
      " [2] Plots.GridLayout(::Int64, ::Vararg{Int64}; parent::Plots.RootLayout, widths::Vector{Float64}, heights::Nothing, kw::Base.Pairs{Symbol, Union{}, Tuple{}, NamedTuple{(), Tuple{}}})",
      "   @ Plots ~/.julia/packages/Plots/ju9dp/src/layouts.jl:232",
      " [3] grid(::Int64, ::Vararg{Int64}; kw::Base.Pairs{Symbol, Vector{Float64}, Tuple{Symbol}, NamedTuple{(:widths,), Tuple{Vector{Float64}}}})",
      "   @ Plots ~/.julia/packages/Plots/ju9dp/src/layouts.jl:209",
      " [4] top-level scope",
      "   @ In[126]:4"
     ]
    }
   ],
   "source": [
    "plt[1] = plot(img1)\n",
    "plt[2] = plot(img2)\n",
    "plt[3] = plot(img3)\n",
    "plot(plt...,layout = grid(1, 3, widths=[10/3 for i in 1:3]), axis=nothing)"
   ]
  },
  {
   "cell_type": "code",
   "execution_count": 99,
   "id": "98597445-4b58-40e6-b98d-31e382766938",
   "metadata": {},
   "outputs": [
    {
     "data": {
      "text/plain": [
       "Gtk4.GtkWindowLeaf(accessible-role=GTK_ACCESSIBLE_ROLE_APPLICATION, name=\"\", parent, root, width-request=-1, height-request=-1, visible=true, sensitive=true, can-focus=true, has-focus=false, can-target=true, focus-on-click=true, focusable=false, has-default=false, receives-default=false, cursor, has-tooltip=false, tooltip-markup=nothing, tooltip-text=nothing, opacity=1,000000, overflow=GTK_OVERFLOW_HIDDEN, halign=GTK_ALIGN_FILL, valign=GTK_ALIGN_FILL, margin-start=0, margin-end=0, margin-top=0, margin-bottom=0, hexpand=false, vexpand=false, hexpand-set=false, vexpand-set=false, scale-factor=1, css-name=\"window\", css-classes, layout-manager, title=\"ImageView\", resizable=true, modal=false, default-width=1440, default-height=200, destroy-with-parent=false, hide-on-close=false, icon-name=nothing, display, decorated=true, deletable=true, transient-for, application, default-widget, focus-widget, child, titlebar, handle-menubar-accel=true, is-active=false, suspended=false, startup-id, mnemonics-visible=false, focus-visible=false, maximized=false, fullscreened=false)"
      ]
     },
     "execution_count": 99,
     "metadata": {},
     "output_type": "execute_result"
    },
    {
     "name": "stderr",
     "output_type": "stream",
     "text": [
      "\n",
      "(process:2156): Gtk-WARNING **: 19:33:36.042: Broken accounting of active state for widget 0x7fd60821b990(GtkAspectFrame)\n",
      "\n",
      "(process:2156): Gtk-WARNING **: 19:33:36.044: Broken accounting of active state for widget 0x7fd6617e7300(GtkGrid)\n",
      "\n",
      "(process:2156): Gtk-WARNING **: 19:33:36.044: Broken accounting of active state for widget 0x7fd6617e7990(GtkBox)\n",
      "\n",
      "(process:2156): Gtk-WARNING **: 19:33:36.044: Broken accounting of active state for widget 0x7fd5fc89fbe0(GtkWindow)\n",
      "\n",
      "(process:2156): Gtk-WARNING **: 19:33:36.172: Broken accounting of active state for widget 0x7fd6273cd050(GtkAspectFrame)\n",
      "\n",
      "(process:2156): Gtk-WARNING **: 19:33:36.172: Broken accounting of active state for widget 0x7fd6617e7300(GtkGrid)\n",
      "\n",
      "(process:2156): Gtk-WARNING **: 19:33:36.172: Broken accounting of active state for widget 0x7fd6617e7990(GtkBox)\n",
      "\n",
      "(process:2156): Gtk-WARNING **: 19:33:36.172: Broken accounting of active state for widget 0x7fd5fc89fbe0(GtkWindow)\n",
      "\n",
      "(process:2156): Gtk-WARNING **: 19:33:36.190: Broken accounting of active state for widget 0x7fd6273cd050(GtkAspectFrame)\n",
      "\n",
      "(process:2156): Gtk-WARNING **: 19:33:36.190: Broken accounting of active state for widget 0x7fd6617e7300(GtkGrid)\n",
      "\n",
      "(process:2156): Gtk-WARNING **: 19:33:36.190: Broken accounting of active state for widget 0x7fd6617e7990(GtkBox)\n",
      "\n",
      "(process:2156): Gtk-WARNING **: 19:33:36.190: Broken accounting of active state for widget 0x7fd5fc89fbe0(GtkWindow)\n",
      "\n",
      "(process:2156): Gtk-WARNING **: 19:33:36.205: Broken accounting of active state for widget 0x7fd6273cd050(GtkAspectFrame)\n",
      "\n",
      "(process:2156): Gtk-WARNING **: 19:33:36.205: Broken accounting of active state for widget 0x7fd6617e7300(GtkGrid)\n",
      "\n",
      "(process:2156): Gtk-WARNING **: 19:33:36.205: Broken accounting of active state for widget 0x7fd6617e7990(GtkBox)\n",
      "\n",
      "(process:2156): Gtk-WARNING **: 19:33:36.205: Broken accounting of active state for widget 0x7fd5fc89fbe0(GtkWindow)\n",
      "\n",
      "(process:2156): Gtk-WARNING **: 19:33:36.272: Broken accounting of active state for widget 0x7fd60821b990(GtkAspectFrame)\n",
      "\n",
      "(process:2156): Gtk-WARNING **: 19:33:36.272: Broken accounting of active state for widget 0x7fd6617e7300(GtkGrid)\n",
      "\n",
      "(process:2156): Gtk-WARNING **: 19:33:36.272: Broken accounting of active state for widget 0x7fd6617e7990(GtkBox)\n",
      "\n",
      "(process:2156): Gtk-WARNING **: 19:33:36.272: Broken accounting of active state for widget 0x7fd5fc89fbe0(GtkWindow)\n",
      "\n",
      "(process:2156): Gtk-WARNING **: 19:33:36.289: Broken accounting of active state for widget 0x7fd60821b990(GtkAspectFrame)\n",
      "\n",
      "(process:2156): Gtk-WARNING **: 19:33:36.289: Broken accounting of active state for widget 0x7fd6617e7300(GtkGrid)\n",
      "\n",
      "(process:2156): Gtk-WARNING **: 19:33:36.289: Broken accounting of active state for widget 0x7fd6617e7990(GtkBox)\n",
      "\n",
      "(process:2156): Gtk-WARNING **: 19:33:36.289: Broken accounting of active state for widget 0x7fd5fc89fbe0(GtkWindow)\n",
      "\n",
      "(process:2156): Gtk-WARNING **: 19:33:36.306: Broken accounting of active state for widget 0x7fd60821b990(GtkAspectFrame)\n",
      "\n",
      "(process:2156): Gtk-WARNING **: 19:33:36.306: Broken accounting of active state for widget 0x7fd6617e7300(GtkGrid)\n",
      "\n",
      "(process:2156): Gtk-WARNING **: 19:33:36.306: Broken accounting of active state for widget 0x7fd6617e7990(GtkBox)\n",
      "\n",
      "(process:2156): Gtk-WARNING **: 19:33:36.306: Broken accounting of active state for widget 0x7fd5fc89fbe0(GtkWindow)\n",
      "\n",
      "(process:2156): Gtk-WARNING **: 19:33:36.322: Broken accounting of active state for widget 0x7fd60821b990(GtkAspectFrame)\n",
      "\n",
      "(process:2156): Gtk-WARNING **: 19:33:36.322: Broken accounting of active state for widget 0x7fd6617e7300(GtkGrid)\n",
      "\n",
      "(process:2156): Gtk-WARNING **: 19:33:36.322: Broken accounting of active state for widget 0x7fd6617e7990(GtkBox)\n",
      "\n",
      "(process:2156): Gtk-WARNING **: 19:33:36.322: Broken accounting of active state for widget 0x7fd5fc89fbe0(GtkWindow)\n",
      "\n",
      "(process:2156): Gtk-WARNING **: 19:33:36.339: Broken accounting of active state for widget 0x7fd60821b990(GtkAspectFrame)\n",
      "\n",
      "(process:2156): Gtk-WARNING **: 19:33:36.339: Broken accounting of active state for widget 0x7fd6617e7300(GtkGrid)\n",
      "\n",
      "(process:2156): Gtk-WARNING **: 19:33:36.339: Broken accounting of active state for widget 0x7fd6617e7990(GtkBox)\n",
      "\n",
      "(process:2156): Gtk-WARNING **: 19:33:36.339: Broken accounting of active state for widget 0x7fd5fc89fbe0(GtkWindow)\n",
      "\n",
      "(process:2156): Gtk-WARNING **: 19:33:36.357: Broken accounting of active state for widget 0x7fd60821b990(GtkAspectFrame)\n",
      "\n",
      "(process:2156): Gtk-WARNING **: 19:33:36.357: Broken accounting of active state for widget 0x7fd6617e7300(GtkGrid)\n",
      "\n",
      "(process:2156): Gtk-WARNING **: 19:33:36.357: Broken accounting of active state for widget 0x7fd6617e7990(GtkBox)\n",
      "\n",
      "(process:2156): Gtk-WARNING **: 19:33:36.357: Broken accounting of active state for widget 0x7fd5fc89fbe0(GtkWindow)\n",
      "\n",
      "(process:2156): Gtk-WARNING **: 19:33:36.372: Broken accounting of active state for widget 0x7fd60821b990(GtkAspectFrame)\n",
      "\n",
      "(process:2156): Gtk-WARNING **: 19:33:36.372: Broken accounting of active state for widget 0x7fd6617e7300(GtkGrid)\n",
      "\n",
      "(process:2156): Gtk-WARNING **: 19:33:36.372: Broken accounting of active state for widget 0x7fd6617e7990(GtkBox)\n",
      "\n",
      "(process:2156): Gtk-WARNING **: 19:33:36.372: Broken accounting of active state for widget 0x7fd5fc89fbe0(GtkWindow)\n",
      "\n",
      "(process:2156): Gtk-WARNING **: 19:33:36.389: Broken accounting of active state for widget 0x7fd60821b990(GtkAspectFrame)\n",
      "\n",
      "(process:2156): Gtk-WARNING **: 19:33:36.389: Broken accounting of active state for widget 0x7fd6617e7300(GtkGrid)\n",
      "\n",
      "(process:2156): Gtk-WARNING **: 19:33:36.389: Broken accounting of active state for widget 0x7fd6617e7990(GtkBox)\n",
      "\n",
      "(process:2156): Gtk-WARNING **: 19:33:36.389: Broken accounting of active state for widget 0x7fd5fc89fbe0(GtkWindow)\n",
      "\n",
      "(process:2156): Gtk-WARNING **: 19:33:36.473: Broken accounting of active state for widget 0x7fd60821b990(GtkAspectFrame)\n",
      "\n",
      "(process:2156): Gtk-WARNING **: 19:33:36.473: Broken accounting of active state for widget 0x7fd6617e7300(GtkGrid)\n",
      "\n",
      "(process:2156): Gtk-WARNING **: 19:33:36.473: Broken accounting of active state for widget 0x7fd6617e7990(GtkBox)\n",
      "\n",
      "(process:2156): Gtk-WARNING **: 19:33:36.473: Broken accounting of active state for widget 0x7fd5fc89fbe0(GtkWindow)\n",
      "\n",
      "(process:2156): Gtk-WARNING **: 19:33:36.494: Broken accounting of active state for widget 0x7fd60821b990(GtkAspectFrame)\n",
      "\n",
      "(process:2156): Gtk-WARNING **: 19:33:36.494: Broken accounting of active state for widget 0x7fd6617e7300(GtkGrid)\n",
      "\n",
      "(process:2156): Gtk-WARNING **: 19:33:36.494: Broken accounting of active state for widget 0x7fd6617e7990(GtkBox)\n",
      "\n",
      "(process:2156): Gtk-WARNING **: 19:33:36.494: Broken accounting of active state for widget 0x7fd5fc89fbe0(GtkWindow)\n",
      "\n",
      "(process:2156): Gtk-WARNING **: 19:33:36.498: Broken accounting of active state for widget 0x7fd60821b990(GtkAspectFrame)\n",
      "\n",
      "(process:2156): Gtk-WARNING **: 19:33:36.498: Broken accounting of active state for widget 0x7fd6617e7300(GtkGrid)\n",
      "\n",
      "(process:2156): Gtk-WARNING **: 19:33:36.498: Broken accounting of active state for widget 0x7fd6617e7990(GtkBox)\n",
      "\n",
      "(process:2156): Gtk-WARNING **: 19:33:36.498: Broken accounting of active state for widget 0x7fd5fc89fbe0(GtkWindow)\n"
     ]
    }
   ],
   "source": [
    "gui = imshow_gui((100, 0), (2, 10))  # 2 columns, 1 row of images (each initially 300×300)\n",
    "canvases = gui[\"canvas\"]\n",
    "idx = 1\n",
    "for i in 10:50:500\n",
    "    orig_vec = x_test[i]\n",
    "    original_img = 1.0 .* reshape(orig_vec, (28,28))\n",
    "    rec_vec = QARBoM.reconstruct(rbm, round.(Int,orig_vec))\n",
    "    rec_img = 1.0 .* reshape(rec_vec, (28,28))\n",
    "    imshow(canvases[1,idx], original_img)\n",
    "    imshow(canvases[2,idx], rec_img)\n",
    "    idx += 1\n",
    "end\n",
    "show(gui[\"window\"])"
   ]
  },
  {
   "cell_type": "code",
   "execution_count": 38,
   "id": "24648601",
   "metadata": {},
   "outputs": [
    {
     "data": {
      "image/png": "[encoded data removed]",
      "text/html": [
       "<img src=\"data:image/png;base64,iVBORw0KGgoAAAANSUhEUgAAAHAAAABwCAAAAADji6uXAAAABGdBTUEAALGPC/xhBQAAAAFzUkdCAK7OHOkAAAAgY0hSTQAAeiYAAICEAAD6AAAAgOgAAHUwAADqYAAAOpgAABdwnLpRPAAAAhNJREFUaAW9wTGoVgUABtDj4xN0MKI1gpdIURHUEgQhVIiTIFGNEQ5lDk1JDWmgJgpBhFCDyMPBpSVaCqG1IYvWihIpgpYWC0rI/72GO1zk9753dfjOibIoi7Ioi7Ioi7Ioi7Ioi7Ioi7Ioi7Ioi7Ioi7Ioi7Ioi7Ioixm2YbvB83gE3+Ib3MS6+aIsyqIstrANx/Ce2zuD41iYJ8qiLMpiE0/jNPYaXccC9xm8g1+wZp4oi7IoiwkreBt7DRY4h7PYwBt4CY/iANbME2VRFmUxYQ8OGNzAxzhqdAK/4QL24ylcsbUoi7IoiwkvGl3FUct+MNiBVVyxtSiLsiiLCe8aXbBsBYcNNvCfeaIsyqIsJuzEOhb4wrKH8IrBn/jMPFEWZVEWW1jHz261ipNGP5ovyqIsymLCP9iB7TiPt3Ad9+AinjF62XxRFmVRFhNO4ZTBIezHEXyEVaOf8Bg2sIIn8apbXcaaQZRFWZTFhA+xG4cM7sfnlj2Mr/ArVvCAZc9izSDKoizKYsINHMb3eAHP2dwu/Ivj2IfHca/BTqMoi7Ioi00s8Aku4TW8jt1Gf+M7nMfX+N3gfTyIJwyuGkVZlEVZzPAXPsAlHMNBXMan+NLtXcM1y6IsyqIs7sAfOII3scCGOxdlURZlcRduuntRFmVRFmVRFmVRFmVRFmVRFmVRFmVRFmVRFmVRFmVRFmVR9j8JfFD1Zqr2CAAAAABJRU5ErkJg\">"
      ],
      "text/plain": [
       "28×28 reinterpret(reshape, Gray{Float64}, ::Matrix{Float64}) with eltype Gray{Float64}:\n",
       " Gray{Float64}(0.0)  Gray{Float64}(0.0)  …  Gray{Float64}(0.0)\n",
       " Gray{Float64}(0.0)  Gray{Float64}(0.0)     Gray{Float64}(0.0)\n",
       " Gray{Float64}(0.0)  Gray{Float64}(0.0)     Gray{Float64}(0.0)\n",
       " Gray{Float64}(0.0)  Gray{Float64}(0.0)     Gray{Float64}(0.0)\n",
       " Gray{Float64}(0.0)  Gray{Float64}(0.0)     Gray{Float64}(0.0)\n",
       " Gray{Float64}(0.0)  Gray{Float64}(0.0)  …  Gray{Float64}(0.0)\n",
       " Gray{Float64}(0.0)  Gray{Float64}(0.0)     Gray{Float64}(0.0)\n",
       " Gray{Float64}(0.0)  Gray{Float64}(0.0)     Gray{Float64}(0.0)\n",
       " Gray{Float64}(0.0)  Gray{Float64}(0.0)     Gray{Float64}(0.0)\n",
       " Gray{Float64}(0.0)  Gray{Float64}(0.0)     Gray{Float64}(0.0)\n",
       " Gray{Float64}(0.0)  Gray{Float64}(0.0)  …  Gray{Float64}(0.0)\n",
       " Gray{Float64}(0.0)  Gray{Float64}(0.0)     Gray{Float64}(0.0)\n",
       " Gray{Float64}(0.0)  Gray{Float64}(0.0)     Gray{Float64}(0.0)\n",
       " ⋮                                       ⋱  \n",
       " Gray{Float64}(0.0)  Gray{Float64}(0.0)     Gray{Float64}(0.0)\n",
       " Gray{Float64}(0.0)  Gray{Float64}(0.0)     Gray{Float64}(0.0)\n",
       " Gray{Float64}(0.0)  Gray{Float64}(0.0)     Gray{Float64}(0.0)\n",
       " Gray{Float64}(0.0)  Gray{Float64}(0.0)     Gray{Float64}(0.0)\n",
       " Gray{Float64}(0.0)  Gray{Float64}(0.0)  …  Gray{Float64}(0.0)\n",
       " Gray{Float64}(0.0)  Gray{Float64}(0.0)     Gray{Float64}(0.0)\n",
       " Gray{Float64}(0.0)  Gray{Float64}(0.0)     Gray{Float64}(0.0)\n",
       " Gray{Float64}(0.0)  Gray{Float64}(0.0)     Gray{Float64}(0.0)\n",
       " Gray{Float64}(0.0)  Gray{Float64}(0.0)     Gray{Float64}(0.0)\n",
       " Gray{Float64}(0.0)  Gray{Float64}(0.0)  …  Gray{Float64}(0.0)\n",
       " Gray{Float64}(0.0)  Gray{Float64}(0.0)     Gray{Float64}(0.0)\n",
       " Gray{Float64}(0.0)  Gray{Float64}(0.0)     Gray{Float64}(0.0)"
      ]
     },
     "execution_count": 38,
     "metadata": {},
     "output_type": "execute_result"
    }
   ],
   "source": [
    "original_vec = x_test[100]\n",
    "original_img = 1.0 .* reshape(original_vec, (28,28))\n",
    "colorview(Gray, original_img)"
   ]
  },
  {
   "cell_type": "code",
   "execution_count": 33,
   "id": "42364c90",
   "metadata": {},
   "outputs": [
    {
     "data": {
      "image/png": "[encoded data removed]",
      "text/html": [
       "<img src=\"data:image/png;base64,iVBORw0KGgoAAAANSUhEUgAAAHAAAABwCAAAAADji6uXAAAABGdBTUEAALGPC/xhBQAAAAFzUkdCAK7OHOkAAAAgY0hSTQAAeiYAAICEAAD6AAAAgOgAAHUwAADqYAAAOpgAABdwnLpRPAAAAfpJREFUaAW9wTGIlgUABuDH6xV00KFVgkMkUaeWIBCHGpwECW1scChzcFJsUIOSKAgighxEpMHFJVpMwbUhi9YUbUgCFxcNTMj/ruEbfuL67v/O4X2eKIuyKIuyKIuyKIuyKIuyKIuyKIuyKIuyKIuyKIuyKIuyKIuymGATNhu8hT34GT/hOVZMF2VRFmWxwCacw0f+32c4j5lpoizKoizW8QY+xQFzjzHDywYf4j6umCbKoizKYsQSzuCAwQxf43Os4gMcxV4cwhXTRFmURVmM2IVDBs/wDU6b+xgPcBkH8TpuWyzKoizKYsQRc7/jtLV+M9iCZdy2WJRFWZTFiLPmLltrCccNVvGPaaIsyqIsRmzFCma4bq1X8a7BI3xnmiiLsiiLBVZwz38t4xNzd0wXZVEWZTHiKbZgMy7hFB5jO77FfnPvmC7KoizKYsQFXDA4hoM4ga+wbO4u9mEVS3gNN4yLsiiLshjxJXbimMEOfG+t3biFP7CEV/CScVEWZVEWI57hOH7F23jT+rbhb5y3viiLsiiLdcxwEVfxHt7HTnN/4Rdcwo/402JRFmVRFhM8wRe4inM4jJu4hh9sTJRFWZTFBjzECZzEDKs2LsqiLMriBTz34qIsyqIsyqIsyqIsyqIsyqIsyqIsyqIsyqIsyqIsyqIsyqLsXxK+Sxx4Z7eKAAAAAElFTkSuQmCC\">"
      ],
      "text/plain": [
       "28×28 reinterpret(reshape, Gray{Float64}, ::Matrix{Float64}) with eltype Gray{Float64}:\n",
       " Gray{Float64}(0.0)  Gray{Float64}(0.0)  …  Gray{Float64}(0.0)\n",
       " Gray{Float64}(0.0)  Gray{Float64}(0.0)     Gray{Float64}(0.0)\n",
       " Gray{Float64}(0.0)  Gray{Float64}(0.0)     Gray{Float64}(0.0)\n",
       " Gray{Float64}(0.0)  Gray{Float64}(0.0)     Gray{Float64}(0.0)\n",
       " Gray{Float64}(0.0)  Gray{Float64}(0.0)     Gray{Float64}(0.0)\n",
       " Gray{Float64}(0.0)  Gray{Float64}(0.0)  …  Gray{Float64}(0.0)\n",
       " Gray{Float64}(0.0)  Gray{Float64}(0.0)     Gray{Float64}(0.0)\n",
       " Gray{Float64}(0.0)  Gray{Float64}(0.0)     Gray{Float64}(0.0)\n",
       " Gray{Float64}(0.0)  Gray{Float64}(0.0)     Gray{Float64}(0.0)\n",
       " Gray{Float64}(0.0)  Gray{Float64}(0.0)     Gray{Float64}(0.0)\n",
       " Gray{Float64}(0.0)  Gray{Float64}(0.0)  …  Gray{Float64}(0.0)\n",
       " Gray{Float64}(0.0)  Gray{Float64}(0.0)     Gray{Float64}(0.0)\n",
       " Gray{Float64}(0.0)  Gray{Float64}(0.0)     Gray{Float64}(0.0)\n",
       " ⋮                                       ⋱  \n",
       " Gray{Float64}(0.0)  Gray{Float64}(0.0)     Gray{Float64}(0.0)\n",
       " Gray{Float64}(0.0)  Gray{Float64}(0.0)     Gray{Float64}(0.0)\n",
       " Gray{Float64}(0.0)  Gray{Float64}(0.0)     Gray{Float64}(0.0)\n",
       " Gray{Float64}(0.0)  Gray{Float64}(0.0)     Gray{Float64}(0.0)\n",
       " Gray{Float64}(0.0)  Gray{Float64}(0.0)  …  Gray{Float64}(0.0)\n",
       " Gray{Float64}(0.0)  Gray{Float64}(0.0)     Gray{Float64}(0.0)\n",
       " Gray{Float64}(0.0)  Gray{Float64}(0.0)     Gray{Float64}(0.0)\n",
       " Gray{Float64}(0.0)  Gray{Float64}(0.0)     Gray{Float64}(0.0)\n",
       " Gray{Float64}(0.0)  Gray{Float64}(0.0)     Gray{Float64}(0.0)\n",
       " Gray{Float64}(0.0)  Gray{Float64}(0.0)  …  Gray{Float64}(0.0)\n",
       " Gray{Float64}(0.0)  Gray{Float64}(0.0)     Gray{Float64}(0.0)\n",
       " Gray{Float64}(0.0)  Gray{Float64}(0.0)     Gray{Float64}(0.0)"
      ]
     },
     "execution_count": 33,
     "metadata": {},
     "output_type": "execute_result"
    }
   ],
   "source": [
    "cut = 590\n",
    "corrupted_vec = vcat(original_vec[1:cut], zeros(784-cut))\n",
    "corrupted_img = 1.0 .* reshape(corrupted_vec, (28,28))\n",
    "colorview(Gray, corrupted_img)"
   ]
  },
  {
   "cell_type": "code",
   "execution_count": 34,
   "id": "1f0706e2",
   "metadata": {},
   "outputs": [
    {
     "data": {
      "image/png": "[encoded data removed]",
      "text/html": [
       "<img src=\"data:image/png;base64,iVBORw0KGgoAAAANSUhEUgAAAHAAAABwCAAAAADji6uXAAAABGdBTUEAALGPC/xhBQAAAAFzUkdCAK7OHOkAAAAgY0hSTQAAeiYAAICEAAD6AAAAgOgAAHUwAADqYAAAOpgAABdwnLpRPAAAAndJREFUaAW9wUGo3wMAB/DP/73v3hAal7cmpFBLvZscaCuJlTitHdRy5OBktZNydDDZwS5ympODg8ZSlhSilMVuTmQRrTaeaa/t//85/A7rtf29/6jv5xNlURZlURZlURZlURZlURZlURZlURZlURZlURZlURb/QTBgwIDB4qIsyqIstrCEJbyOVdyOPZhiP77BOgaLibIoi7KYYxmrOI97sYY9WHbVJziJZywuyqIsyuJfBC/hQaxhAzcbLWHAPhzGG7hia1EWZVEW1zExOobH8Dm+xm84jUfwBHbiIg7iiMVEWZRFWVzHgAE/Yi9O4DiWcQlv4y6cwN240+KiLMqiLObYhZN4HuexDX8ZzXAWX+I5nMUu/GxrURZlURZz3IP3cBbf42+bTXEM+zHD7xYTZVEWZTHHHziHnXgab9psgiO4jCmuuL6JqwZEWZRFWcxxG3biT7yPCQajJTyJZRzGd5i6vhWjDaMoi7IoizkexnbM8ApewARLuB97sQPbsI4lzIyCGYJbMMUK1hFlURZlMcfHOIdVHMCjOIpTeBf3YYqXcRAz3IFd+BQf4iPchIfwmVGURVmUxRwTfIVncSt24y2s2GzVZlPsw268Y/QTXsNxRFmURVnM8QMO4hQewA6suNaACWa4iA28iN14HGvYjitGURZlURb/Yh1P4VUcwAVcxlGcwRq+wBS/YgMDtuMkzuAXnMbMKMqiLMpiCxdwCIcwYIIZlvGt0WCzS0YfuFaURVmUxQJmRksYMMGAidFgcVEWZVEWN2DmqgETDG5MlEVZlMX/MLhxURZlURZlURZlURZlURZlURZlURZlURZlURZlUfYPQrd7akAq+GUAAAAASUVORK5C\">"
      ],
      "text/plain": [
       "28×28 reinterpret(reshape, Gray{Float64}, ::Matrix{Float64}) with eltype Gray{Float64}:\n",
       " Gray{Float64}(3.21202e-7)  …  Gray{Float64}(5.02321e-6)\n",
       " Gray{Float64}(6.98836e-6)     Gray{Float64}(4.98299e-6)\n",
       " Gray{Float64}(7.69208e-7)     Gray{Float64}(4.89788e-7)\n",
       " Gray{Float64}(1.1486e-7)      Gray{Float64}(1.76799e-6)\n",
       " Gray{Float64}(3.24206e-8)     Gray{Float64}(2.39312e-7)\n",
       " Gray{Float64}(3.85611e-7)  …  Gray{Float64}(3.56406e-7)\n",
       " Gray{Float64}(4.50451e-7)     Gray{Float64}(2.69223e-7)\n",
       " Gray{Float64}(1.00593e-6)     Gray{Float64}(2.98197e-5)\n",
       " Gray{Float64}(3.53959e-6)     Gray{Float64}(7.28736e-7)\n",
       " Gray{Float64}(1.31807e-6)     Gray{Float64}(4.98216e-9)\n",
       " Gray{Float64}(5.14879e-7)  …  Gray{Float64}(8.0709e-9)\n",
       " Gray{Float64}(1.95873e-7)     Gray{Float64}(2.23263e-7)\n",
       " Gray{Float64}(7.98e-7)        Gray{Float64}(1.05514e-6)\n",
       " ⋮                          ⋱  \n",
       " Gray{Float64}(1.12441e-6)     Gray{Float64}(0.00162754)\n",
       " Gray{Float64}(5.67983e-7)     Gray{Float64}(0.00023813)\n",
       " Gray{Float64}(6.90148e-7)     Gray{Float64}(7.43566e-5)\n",
       " Gray{Float64}(2.83084e-7)     Gray{Float64}(3.1584e-5)\n",
       " Gray{Float64}(6.77665e-7)  …  Gray{Float64}(1.82682e-5)\n",
       " Gray{Float64}(8.26728e-7)     Gray{Float64}(8.04285e-7)\n",
       " Gray{Float64}(2.94336e-7)     Gray{Float64}(2.8147e-6)\n",
       " Gray{Float64}(7.67096e-9)     Gray{Float64}(1.46912e-6)\n",
       " Gray{Float64}(2.58806e-7)     Gray{Float64}(1.13981e-7)\n",
       " Gray{Float64}(5.88169e-6)  …  Gray{Float64}(2.37118e-7)\n",
       " Gray{Float64}(1.25231e-5)     Gray{Float64}(7.90246e-8)\n",
       " Gray{Float64}(3.15056e-6)     Gray{Float64}(3.44574e-6)"
      ]
     },
     "execution_count": 34,
     "metadata": {},
     "output_type": "execute_result"
    }
   ],
   "source": [
    "reconstructed = QARBoM.reconstruct(rbm, round.(Int,corrupted_vec))\n",
    "reconstructed_img = 1.0 .* reshape(reconstructed, (28,28))\n",
    "colorview(Gray, reconstructed_img)"
   ]
  },
  {
   "cell_type": "code",
   "execution_count": 93,
   "id": "aff93ba6",
   "metadata": {},
   "outputs": [
    {
     "data": {
      "image/png": "[encoded data removed]",
      "text/html": [
       "<img src=\"data:image/png;base64,iVBORw0KGgoAAAANSUhEUgAAAHAAAABwCAAAAADji6uXAAAABGdBTUEAALGPC/xhBQAAAAFzUkdCAK7OHOkAAAAgY0hSTQAAeiYAAICEAAD6AAAAgOgAAHUwAADqYAAAOpgAABdwnLpRPAAAAlhJREFUaAW9wT+I1gUABuDH45XCglAMgiAbCirIC6whwSmiaAgjiKOGlobEc7AGhcDlgoaIIhqiISxKDIRriMbmxkSILIMLjggMCjpQS+8afsPH9+fkouN9niiLsiiLsiiLsiiLsiiLsiiLsthGwVGcwiU8gTXjoizKoiy20ZN4x+AAlnDcuCiLsiiLbXQB5zFvcAzHjYuyKIuy2EarOIkvcYvZoizKoiy22VXcsLkoi7IoixkewhHsN3gPy7bmT1zDLrNFWZRFWUzYhW+w18h+fI+LBg/ic/yFl7Fi5AHstrkoi7IoiwkfYq9xp7Fi5BTmsYFjeN3WRVmURVlMeAkbBqfxBv7A30aeMbLbfxNlURZlsYmf8SquG/cYdho5aNzjbi7KoizKYsIc1g2um7YTc5jDOu7HizhjcBA7DP4xLcqiLMpiwjo2sGG2kwjWsWHwGs4YnMejBm+bFmVRFmWxiZ24HWvGHTDtHjyMHXjOyNemRVmURVlMWMZh7MPTOGdkAXcYrON33Ik9OISD2GNwGd+ZFmVRFmUxYQmHDV7AOYND+Ai3GlzEJ3jL4H3jzuKKaVEWZVEWE37EL9iHp/AZvsUR7DKyhGXcjUXjVvGx2aIsyqIsJlzBVziK27CABeOW8YXBCYNFg1U8iwtmi7Ioi7KY4V3chedN+xSvGLmGE/jAYA2/2VyURVmUxQwrWMQ87jM4izfxK9aNu4ZLtibKoizKYhOX8QjuNfgJN/x/URZlURY3cRU/2F5RFmVRFmVRFmVRFmVRFmVRFmVRFmVRFmVRFmVR9i/o/2EE9JLc5QAAAABJRU5ErkJg\">"
      ],
      "text/plain": [
       "28×28 reinterpret(reshape, Gray{Float64}, ::Matrix{Float64}) with eltype Gray{Float64}:\n",
       " Gray{Float64}(0.0)  Gray{Float64}(0.0)  …  Gray{Float64}(0.0)\n",
       " Gray{Float64}(0.0)  Gray{Float64}(0.0)     Gray{Float64}(0.0)\n",
       " Gray{Float64}(0.0)  Gray{Float64}(0.0)     Gray{Float64}(0.0)\n",
       " Gray{Float64}(0.0)  Gray{Float64}(0.0)     Gray{Float64}(0.0)\n",
       " Gray{Float64}(0.0)  Gray{Float64}(0.0)     Gray{Float64}(0.0)\n",
       " Gray{Float64}(0.0)  Gray{Float64}(0.0)  …  Gray{Float64}(0.0)\n",
       " Gray{Float64}(0.0)  Gray{Float64}(0.0)     Gray{Float64}(0.0)\n",
       " Gray{Float64}(0.0)  Gray{Float64}(0.0)     Gray{Float64}(0.0)\n",
       " Gray{Float64}(0.0)  Gray{Float64}(0.0)     Gray{Float64}(0.0)\n",
       " Gray{Float64}(0.0)  Gray{Float64}(0.0)     Gray{Float64}(0.0)\n",
       " Gray{Float64}(0.0)  Gray{Float64}(0.0)  …  Gray{Float64}(0.0)\n",
       " Gray{Float64}(0.0)  Gray{Float64}(0.0)     Gray{Float64}(0.0)\n",
       " Gray{Float64}(0.0)  Gray{Float64}(0.0)     Gray{Float64}(0.0)\n",
       " ⋮                                       ⋱  \n",
       " Gray{Float64}(0.0)  Gray{Float64}(0.0)     Gray{Float64}(0.0)\n",
       " Gray{Float64}(0.0)  Gray{Float64}(0.0)     Gray{Float64}(0.0)\n",
       " Gray{Float64}(0.0)  Gray{Float64}(0.0)     Gray{Float64}(0.0)\n",
       " Gray{Float64}(0.0)  Gray{Float64}(0.0)     Gray{Float64}(0.0)\n",
       " Gray{Float64}(0.0)  Gray{Float64}(0.0)  …  Gray{Float64}(0.0)\n",
       " Gray{Float64}(0.0)  Gray{Float64}(0.0)     Gray{Float64}(0.0)\n",
       " Gray{Float64}(0.0)  Gray{Float64}(0.0)     Gray{Float64}(0.0)\n",
       " Gray{Float64}(0.0)  Gray{Float64}(0.0)     Gray{Float64}(0.0)\n",
       " Gray{Float64}(0.0)  Gray{Float64}(0.0)     Gray{Float64}(0.0)\n",
       " Gray{Float64}(0.0)  Gray{Float64}(0.0)  …  Gray{Float64}(0.0)\n",
       " Gray{Float64}(0.0)  Gray{Float64}(0.0)     Gray{Float64}(0.0)\n",
       " Gray{Float64}(0.0)  Gray{Float64}(0.0)     Gray{Float64}(0.0)"
      ]
     },
     "execution_count": 93,
     "metadata": {},
     "output_type": "execute_result"
    }
   ],
   "source": [
    "original_vec = x_test[9410]\n",
    "original_img = 1.0 .* reshape(original_vec, (28,28))\n",
    "colorview(Gray, original_img)"
   ]
  },
  {
   "cell_type": "code",
   "execution_count": 109,
   "id": "4d191fb4",
   "metadata": {},
   "outputs": [
    {
     "data": {
      "image/png": "[encoded data removed]",
      "text/html": [
       "<img src=\"data:image/png;base64,iVBORw0KGgoAAAANSUhEUgAAAHAAAABwCAAAAADji6uXAAAABGdBTUEAALGPC/xhBQAAAAFzUkdCAK7OHOkAAAAgY0hSTQAAeiYAAICEAAD6AAAAgOgAAHUwAADqYAAAOpgAABdwnLpRPAAAAhBJREFUaAW9wTGI1QUAB+Cv43cQGkRhEAjZYENBGkiL4BhGkxDEUYJLQ9K11GAQtCg0FtEQTRYlCcItQVtzc0GkJVwQLQUNBWVc7zX8h8f73927Jz1+3xdlURZlURZlURZlURZlURZlURYrFOxYLMqiLMpihZ7BlxaLsiiLslihbx0syqIsymKFfnawKIuyKIuyKIuyKIs9PIGLOGHwHrasRpRFWZTFyCF8hSNmTuA73DR4HJ/hD1zAtuVFWZRFWYx8iCPmXcW2mbdxElO8hjcsL8qiLMpi5CVMDa7iLfyOf8w8Z+YBdyfKoizKYh+38Qp2zHsa62ZOuztRFmVRFiNrmBjs2G0da1jDBI/hRVyznCiLsiiLkQmmmNrbmwgmmBq8jmuWE2VRFmWxj3Xchz/NO2W3R/Ak7sE3FouyKIuyGNnCORzDs7hhZgP3G0zwGx7CgziD0zhvsSiLsiiLkcs4Z/ACbhicwUe41+AmPsY7Bu8bnLdYlEVZlMXILfyEYziLT/E1LuKQmcvYwlFsGsTBoizKoixG/sIXeBWHsYEN87Zw3eCSwablRFmURVns4V08jOft9gleNnMHl/CB5URZlEVZ7GEbmziJ4waf4wp+wcS8O/jRcqIsyqIs9vErnsKjBj/gX/9flEVZlMUCf+N7qxVlURZlURZlURZlURZlURZlURZlURZlURZlURZl/wHTWEuSRtWf7AAAAABJRU5ErkJg\">"
      ],
      "text/plain": [
       "28×28 reinterpret(reshape, Gray{Float64}, ::Matrix{Float64}) with eltype Gray{Float64}:\n",
       " Gray{Float64}(0.0)  Gray{Float64}(0.0)  …  Gray{Float64}(0.0)\n",
       " Gray{Float64}(0.0)  Gray{Float64}(0.0)     Gray{Float64}(0.0)\n",
       " Gray{Float64}(0.0)  Gray{Float64}(0.0)     Gray{Float64}(0.0)\n",
       " Gray{Float64}(0.0)  Gray{Float64}(0.0)     Gray{Float64}(0.0)\n",
       " Gray{Float64}(0.0)  Gray{Float64}(0.0)     Gray{Float64}(0.0)\n",
       " Gray{Float64}(0.0)  Gray{Float64}(0.0)  …  Gray{Float64}(0.0)\n",
       " Gray{Float64}(0.0)  Gray{Float64}(0.0)     Gray{Float64}(0.0)\n",
       " Gray{Float64}(0.0)  Gray{Float64}(0.0)     Gray{Float64}(0.0)\n",
       " Gray{Float64}(0.0)  Gray{Float64}(0.0)     Gray{Float64}(0.0)\n",
       " Gray{Float64}(0.0)  Gray{Float64}(0.0)     Gray{Float64}(0.0)\n",
       " Gray{Float64}(0.0)  Gray{Float64}(0.0)  …  Gray{Float64}(0.0)\n",
       " Gray{Float64}(0.0)  Gray{Float64}(0.0)     Gray{Float64}(0.0)\n",
       " Gray{Float64}(0.0)  Gray{Float64}(0.0)     Gray{Float64}(0.0)\n",
       " ⋮                                       ⋱  \n",
       " Gray{Float64}(0.0)  Gray{Float64}(0.0)     Gray{Float64}(0.0)\n",
       " Gray{Float64}(0.0)  Gray{Float64}(0.0)     Gray{Float64}(0.0)\n",
       " Gray{Float64}(0.0)  Gray{Float64}(0.0)     Gray{Float64}(0.0)\n",
       " Gray{Float64}(0.0)  Gray{Float64}(0.0)     Gray{Float64}(0.0)\n",
       " Gray{Float64}(0.0)  Gray{Float64}(0.0)  …  Gray{Float64}(0.0)\n",
       " Gray{Float64}(0.0)  Gray{Float64}(0.0)     Gray{Float64}(0.0)\n",
       " Gray{Float64}(0.0)  Gray{Float64}(0.0)     Gray{Float64}(0.0)\n",
       " Gray{Float64}(0.0)  Gray{Float64}(0.0)     Gray{Float64}(0.0)\n",
       " Gray{Float64}(0.0)  Gray{Float64}(0.0)     Gray{Float64}(0.0)\n",
       " Gray{Float64}(0.0)  Gray{Float64}(0.0)  …  Gray{Float64}(0.0)\n",
       " Gray{Float64}(0.0)  Gray{Float64}(0.0)     Gray{Float64}(0.0)\n",
       " Gray{Float64}(0.0)  Gray{Float64}(0.0)     Gray{Float64}(0.0)"
      ]
     },
     "execution_count": 109,
     "metadata": {},
     "output_type": "execute_result"
    }
   ],
   "source": [
    "n = 550\n",
    "corrupted_vec = vcat(original_vec[1:n], zeros(784-n))\n",
    "corrupted_img = 1.0 .* reshape(corrupted_vec, (28,28))\n",
    "colorview(Gray, corrupted_img)"
   ]
  },
  {
   "cell_type": "code",
   "execution_count": 110,
   "id": "c69891b7",
   "metadata": {},
   "outputs": [
    {
     "data": {
      "image/png": "[encoded data removed]",
      "text/html": [
       "<img src=\"data:image/png;base64,iVBORw0KGgoAAAANSUhEUgAAAHAAAABwCAAAAADji6uXAAAABGdBTUEAALGPC/xhBQAAAAFzUkdCAK7OHOkAAAAgY0hSTQAAeiYAAICEAAD6AAAAgOgAAHUwAADqYAAAOpgAABdwnLpRPAAAAy5JREFUaAW9wUuIlQUcB9Dz3fmpNU5lGhhZkvaQlKCCiiCIih6LgqJAqFUthFZFgRBBmzZG7RISghYuypBAiIIeQsseZFEUWPkCrZTUxlfqeO/X4lvMvc7UIvR/ThSLYlEsikWxKBbFolicJz0MzBTFolgUi3OsQYvgDAZGRbEoFsXiHGjQ6rQYQ1+nh4FpUSyKRbE4B1qdRmeAFsvwB/42LYpFsSgW50Cj0+g0CA7gjFFRLIpFsZhFD/dhG/5Ea3YNehigRYMGC7AKO/CbUVEsikWxmMUivIoTeBiHMY7jaNHgShzHYmw37WLcgQnsQmtUFItiUSzOsgwbsBy/4x58gmuxDT2MYxMWYi7W4gM8gElMYDOuMVMUi2JRLM7yDm7TOYCPcBrfo4ceHsJyLEaLR/ET1uFXvIQ5OGSmKBbFolgMuRJHMIXgNZzQWYSLcQbzcalOHy/iVryBd3ED5uGomaJYFItiMWQfxjGGv/CxToODWIMjeAFz0OAI7sU+XIGT+Bln0DdTFItiUSyGLMV63I6NmEKLVuc9bMVSnaP4FmuxG8/jAtyPLWjMFMWiWBSLIXvxNsZwLxbiT50GJ7EHCzEffVyEZTiNXzDAQdyNzzFlVBSLYlEshrQ4jgsxwDE0aNHgJuzAXNyCCazAJFZjEf7GCvyAG/GVUVEsikWxGDLAVqzGOC7BJE7pHMJRrMQpNJjAMazH1ziAm7EGn+Ib9E2LYlEsisWQHp7FY7gOH+Jl/ID9OvfhS2zAI3gCSzCh8wXexF6MY2BUFItiUSyGtDiA7bgeK/AwDuN1LMVy7MZBrMODuAwLcBc+w7N4C1+gNSqKRbEoFkNancexBVfhCTyFuWh1rsYJ3IknsQnzsQsH8T52YspMUSyKRbEY0qDFTjyNjViCeWhxBK/gcmzDdxjHKozhd4yhjx76GEPftCgWxaJYDGl1BtiPrdiMJbgFzxnVxyQm0ej00WIlfkTfqCgWxaJYzKKPPXgGrc5G/63VadHDj+ibKYpFsSgW/6Lv/wumzC6KRbEoFufBHEyZXRSLYlEszoPj/l0Ui2JRLIpFsSgWxaJYFItiUewfrRa3WJMH1SkAAAAASUVORK5C\">"
      ],
      "text/plain": [
       "28×28 reinterpret(reshape, Gray{Float64}, ::Matrix{Float64}) with eltype Gray{Float64}:\n",
       " Gray{Float64}(5.79591e-12)  …  Gray{Float64}(4.66897e-11)\n",
       " Gray{Float64}(1.21457e-8)      Gray{Float64}(5.94147e-7)\n",
       " Gray{Float64}(2.12182e-9)      Gray{Float64}(1.08279e-12)\n",
       " Gray{Float64}(5.10235e-11)     Gray{Float64}(2.10324e-8)\n",
       " Gray{Float64}(5.09038e-9)      Gray{Float64}(1.30928e-6)\n",
       " Gray{Float64}(2.74732e-7)   …  Gray{Float64}(3.13129e-11)\n",
       " Gray{Float64}(4.8146e-8)       Gray{Float64}(2.82343e-9)\n",
       " Gray{Float64}(9.30859e-9)      Gray{Float64}(3.3364e-7)\n",
       " Gray{Float64}(2.71757e-9)      Gray{Float64}(6.14562e-8)\n",
       " Gray{Float64}(2.42199e-9)      Gray{Float64}(8.03109e-8)\n",
       " Gray{Float64}(9.19375e-12)  …  Gray{Float64}(2.56443e-10)\n",
       " Gray{Float64}(2.2871e-6)       Gray{Float64}(1.712e-13)\n",
       " Gray{Float64}(1.97063e-7)      Gray{Float64}(1.78199e-8)\n",
       " ⋮                           ⋱  \n",
       " Gray{Float64}(2.41896e-8)      Gray{Float64}(7.60088e-12)\n",
       " Gray{Float64}(2.84911e-7)      Gray{Float64}(5.39036e-9)\n",
       " Gray{Float64}(4.38775e-9)      Gray{Float64}(1.07423e-9)\n",
       " Gray{Float64}(9.51975e-12)     Gray{Float64}(1.22623e-8)\n",
       " Gray{Float64}(1.03983e-11)  …  Gray{Float64}(3.5835e-9)\n",
       " Gray{Float64}(9.00499e-8)      Gray{Float64}(6.60883e-7)\n",
       " Gray{Float64}(1.81552e-9)      Gray{Float64}(5.93851e-8)\n",
       " Gray{Float64}(3.425e-11)       Gray{Float64}(1.60714e-7)\n",
       " Gray{Float64}(1.31494e-6)      Gray{Float64}(5.79258e-9)\n",
       " Gray{Float64}(3.72304e-8)   …  Gray{Float64}(2.06459e-8)\n",
       " Gray{Float64}(3.57853e-8)      Gray{Float64}(2.53995e-12)\n",
       " Gray{Float64}(2.59823e-10)     Gray{Float64}(6.20635e-8)"
      ]
     },
     "execution_count": 110,
     "metadata": {},
     "output_type": "execute_result"
    }
   ],
   "source": [
    "sampled_h = QARBoM.conditional_prob_h(rbm, round.(Int,corrupted_vec))\n",
    "sampled_x= QARBoM.conditional_prob_v(rbm, round.(Int,sampled_h))\n",
    "reconstructed_img = 1.0 .* reshape(sampled_x, (28,28))\n",
    "colorview(Gray, reconstructed_img)"
   ]
  },
  {
   "cell_type": "code",
   "execution_count": 75,
   "id": "b1887349",
   "metadata": {},
   "outputs": [
    {
     "ename": "MethodError",
     "evalue": "MethodError: no method matching Gray{Float64}(::Float64, ::Float64)\n\u001b[0mClosest candidates are:\n\u001b[0m  Gray{T}(::Real) where T at ~/.julia/packages/ColorTypes/vpFgh/src/types.jl:372\n\u001b[0m  Gray{T}(::T) where T at ~/.julia/packages/ColorTypes/vpFgh/src/types.jl:371\n\u001b[0m  Gray{T}(::Any) where T at ~/.julia/packages/ColorTypes/vpFgh/src/types.jl:479",
     "output_type": "error",
     "traceback": [
      "MethodError: no method matching Gray{Float64}(::Float64, ::Float64)\n\u001b[0mClosest candidates are:\n\u001b[0m  Gray{T}(::Real) where T at ~/.julia/packages/ColorTypes/vpFgh/src/types.jl:372\n\u001b[0m  Gray{T}(::T) where T at ~/.julia/packages/ColorTypes/vpFgh/src/types.jl:371\n\u001b[0m  Gray{T}(::Any) where T at ~/.julia/packages/ColorTypes/vpFgh/src/types.jl:479",
      "",
      "Stacktrace:",
      "  [1] getindex",
      "    @ ~/.julia/packages/MappedArrays/jTqdY/src/MappedArrays.jl:170 [inlined]",
      "  [2] isassigned(::MappedArrays.MultiMappedArray{Gray{Float64}, 2, Tuple{Matrix{Float64}, Matrix{Float64}}, Type{Gray{Float64}}, typeof(ImageCore.extractchannels)}, ::Int64, ::Int64)",
      "    @ Base ./abstractarray.jl:565",
      "  [3] alignment(io::IOContext{IOBuffer}, X::AbstractVecOrMat, rows::Vector{Int64}, cols::Vector{Int64}, cols_if_complete::Int64, cols_otherwise::Int64, sep::Int64, ncols::Int64)",
      "    @ Base ./arrayshow.jl:68",
      "  [4] _print_matrix(io::IOContext{IOBuffer}, X::AbstractVecOrMat, pre::String, sep::String, post::String, hdots::String, vdots::String, ddots::String, hmod::Int64, vmod::Int64, rowsA::UnitRange{Int64}, colsA::UnitRange{Int64})",
      "    @ Base ./arrayshow.jl:207",
      "  [5] print_matrix(io::IOContext{IOBuffer}, X::MappedArrays.MultiMappedArray{Gray{Float64}, 2, Tuple{Matrix{Float64}, Matrix{Float64}}, Type{Gray{Float64}}, typeof(ImageCore.extractchannels)}, pre::String, sep::String, post::String, hdots::String, vdots::String, ddots::String, hmod::Int64, vmod::Int64) (repeats 2 times)",
      "    @ Base ./arrayshow.jl:171",
      "  [6] print_array",
      "    @ ./arrayshow.jl:358 [inlined]",
      "  [7] show(io::IOContext{IOBuffer}, #unused#::MIME{Symbol(\"text/plain\")}, X::MappedArrays.MultiMappedArray{Gray{Float64}, 2, Tuple{Matrix{Float64}, Matrix{Float64}}, Type{Gray{Float64}}, typeof(ImageCore.extractchannels)})",
      "    @ Base ./arrayshow.jl:399",
      "  [8] limitstringmime(mime::MIME{Symbol(\"text/plain\")}, x::MappedArrays.MultiMappedArray{Gray{Float64}, 2, Tuple{Matrix{Float64}, Matrix{Float64}}, Type{Gray{Float64}}, typeof(ImageCore.extractchannels)}, forcetext::Bool)",
      "    @ IJulia ~/.julia/packages/IJulia/Vo51o/src/inline.jl:43",
      "  [9] limitstringmime",
      "    @ ~/.julia/packages/IJulia/Vo51o/src/inline.jl:38 [inlined]",
      " [10] display_mimestring",
      "    @ ~/.julia/packages/IJulia/Vo51o/src/display.jl:71 [inlined]",
      " [11] display_dict(x::MappedArrays.MultiMappedArray{Gray{Float64}, 2, Tuple{Matrix{Float64}, Matrix{Float64}}, Type{Gray{Float64}}, typeof(ImageCore.extractchannels)})",
      "    @ IJulia ~/.julia/packages/IJulia/Vo51o/src/display.jl:102",
      " [12] #invokelatest#2",
      "    @ ./essentials.jl:729 [inlined]",
      " [13] invokelatest",
      "    @ ./essentials.jl:726 [inlined]",
      " [14] execute_request(socket::ZMQ.Socket, msg::IJulia.Msg)",
      "    @ IJulia ~/.julia/packages/IJulia/Vo51o/src/execute_request.jl:112",
      " [15] #invokelatest#2",
      "    @ ./essentials.jl:729 [inlined]",
      " [16] invokelatest",
      "    @ ./essentials.jl:726 [inlined]",
      " [17] eventloop(socket::ZMQ.Socket)",
      "    @ IJulia ~/.julia/packages/IJulia/Vo51o/src/eventloop.jl:8",
      " [18] (::IJulia.var\"#15#18\")()",
      "    @ IJulia ./task.jl:484"
     ]
    }
   ],
   "source": [
    "colorview(Gray, reconstructed_img,reconstructed_img)"
   ]
  },
  {
   "cell_type": "code",
   "execution_count": 102,
   "id": "75260568",
   "metadata": {},
   "outputs": [
    {
     "data": {
      "text/plain": [
       "QARBoM.RBM([-0.3241766156417828 0.08233357983073746 … 0.4859701309548907 1.2467742232473458; 0.2894473147760018 0.5133006057984765 … 1.0661302015001217 -0.21751112899226893; … ; 0.12247609536403845 -1.1539660602584818 … 0.3197639050494232 -0.4565251452666181; 0.29251378560283786 -0.2336375379053113 … -0.21964151084429506 0.07692611263659177], [-7.499999999999989, -6.699999999999992, -7.499999999999989, -7.699999999999989, -7.39999999999999, -7.699999999999989, -7.899999999999988, -7.899999999999988, -7.899999999999988, -7.599999999999989  …  -7.999999999999988, -7.499999999999989, -7.799999999999988, -7.599999999999989, -6.5999999999999925, -7.599999999999989, -7.39999999999999, -8.299999999999986, -6.999999999999991, -6.799999999999992], [-0.8559235357921979, -0.14821137053368785, -1.224760905346215, -2.4541750409336265, -1.8214915627427104, -1.6585229745451653, -0.32008864531399794, -1.0495185750426483, -2.034444159102811, -0.6722543713353188  …  -0.8447334453002737, -1.5817343345245554, -1.2984602286386966, -3.657959865770192, -0.7098341168997514, -1.407253252064751, -0.4765610671871254, 0.7300765970890625, -0.784619243427081, -0.34745856053261287], 784, 500)"
      ]
     },
     "execution_count": 102,
     "metadata": {},
     "output_type": "execute_result"
    }
   ],
   "source": [
    "rbm"
   ]
  },
  {
   "cell_type": "markdown",
   "id": "aa60ebd1-42f2-4091-a305-369383f304bf",
   "metadata": {},
   "source": [
    "## "
   ]
  }
 ],
 "metadata": {
  "kernelspec": {
   "display_name": "Julia 1.8.2",
   "language": "julia",
   "name": "julia-1.8"
  },
  "language_info": {
   "file_extension": ".jl",
   "mimetype": "application/julia",
   "name": "julia",
   "version": "1.8.2"
  }
 },
 "nbformat": 4,
 "nbformat_minor": 5
}
